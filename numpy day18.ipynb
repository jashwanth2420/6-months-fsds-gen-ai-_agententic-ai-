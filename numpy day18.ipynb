{
 "cells": [
  {
   "cell_type": "code",
   "execution_count": 1,
   "id": "a9d6f983-6127-4f50-881d-82ebc293633c",
   "metadata": {},
   "outputs": [],
   "source": [
    "import numpy as np "
   ]
  },
  {
   "cell_type": "code",
   "execution_count": 17,
   "id": "e62e69fb-2ecc-4279-8513-946ee9c37533",
   "metadata": {},
   "outputs": [
    {
     "data": {
      "text/plain": [
       "array([[0.87611875, 0.05350959, 0.43875567, 0.56546581, 0.23219953,\n",
       "        0.43595169, 0.41001975, 0.177458  , 0.04654967, 0.19381611,\n",
       "        0.75263589, 0.47176871, 0.60909308, 0.1497446 , 0.39668014,\n",
       "        0.74323589, 0.1191577 , 0.8328657 , 0.36026195, 0.5930062 ],\n",
       "       [0.88626301, 0.86761747, 0.10606988, 0.47527104, 0.77108146,\n",
       "        0.05402822, 0.90600286, 0.30450063, 0.98393008, 0.30717343,\n",
       "        0.54287873, 0.93714115, 0.32778199, 0.85383788, 0.67410974,\n",
       "        0.17638451, 0.78565062, 0.95052159, 0.77626193, 0.70242516],\n",
       "       [0.15773011, 0.66175032, 0.31255817, 0.62015676, 0.92598249,\n",
       "        0.39483591, 0.74903655, 0.93536877, 0.84476621, 0.33735302,\n",
       "        0.41550732, 0.15816772, 0.6490524 , 0.60250038, 0.24450545,\n",
       "        0.86610716, 0.48183352, 0.54716291, 0.58345063, 0.02512489],\n",
       "       [0.7832474 , 0.79393065, 0.21122715, 0.07116629, 0.22217913,\n",
       "        0.8158678 , 0.16506441, 0.90547201, 0.01073725, 0.09942796,\n",
       "        0.810739  , 0.4926866 , 0.39992885, 0.382823  , 0.04530922,\n",
       "        0.14332171, 0.74242615, 0.56924065, 0.55467444, 0.73319573],\n",
       "       [0.71706515, 0.13586892, 0.75833608, 0.73310144, 0.44819301,\n",
       "        0.68848316, 0.00667   , 0.06430965, 0.98180123, 0.58590934,\n",
       "        0.6668384 , 0.111439  , 0.58753397, 0.38558508, 0.59244096,\n",
       "        0.2966555 , 0.12185233, 0.43706001, 0.99091004, 0.93049252],\n",
       "       [0.7632591 , 0.52404607, 0.18462519, 0.65483455, 0.09612214,\n",
       "        0.71219347, 0.93741784, 0.08477316, 0.09917596, 0.87444847,\n",
       "        0.37799857, 0.46537264, 0.39968497, 0.75859957, 0.21816933,\n",
       "        0.03846631, 0.73854157, 0.81864679, 0.77171987, 0.51812275],\n",
       "       [0.52335088, 0.24487378, 0.16064414, 0.94202822, 0.50635669,\n",
       "        0.13985961, 0.72812562, 0.1770339 , 0.88820858, 0.40535064,\n",
       "        0.81859426, 0.60043763, 0.51333215, 0.7208813 , 0.93898729,\n",
       "        0.50802744, 0.41303886, 0.99821348, 0.8256266 , 0.87062222],\n",
       "       [0.00454782, 0.60640683, 0.12658624, 0.84884276, 0.3266961 ,\n",
       "        0.89814784, 0.63710364, 0.98945768, 0.82609192, 0.12601214,\n",
       "        0.57202968, 0.1924737 , 0.41631746, 0.01779487, 0.23495216,\n",
       "        0.87767791, 0.23053182, 0.32723645, 0.78811418, 0.70936468],\n",
       "       [0.80889917, 0.50288375, 0.7254642 , 0.14498326, 0.6254137 ,\n",
       "        0.10264881, 0.37341601, 0.84941287, 0.09529285, 0.54698055,\n",
       "        0.26755989, 0.35777867, 0.18647543, 0.49028955, 0.19972195,\n",
       "        0.28520035, 0.65647772, 0.05306531, 0.85572566, 0.23889441],\n",
       "       [0.5821568 , 0.73590134, 0.42169228, 0.8047183 , 0.25379222,\n",
       "        0.24671267, 0.05546149, 0.61438598, 0.83746165, 0.52939521,\n",
       "        0.21922138, 0.86849762, 0.62181973, 0.58957025, 0.07874105,\n",
       "        0.24432051, 0.11485679, 0.22893855, 0.08620054, 0.78731737]])"
      ]
     },
     "execution_count": 17,
     "metadata": {},
     "output_type": "execute_result"
    }
   ],
   "source": [
    "np.random.rand(10,20)"
   ]
  },
  {
   "cell_type": "code",
   "execution_count": 10,
   "id": "6b8b5200-c530-41c1-95b0-6f9a4761d53c",
   "metadata": {},
   "outputs": [
    {
     "data": {
      "text/plain": [
       "242"
      ]
     },
     "execution_count": 10,
     "metadata": {},
     "output_type": "execute_result"
    }
   ],
   "source": [
    "np.random.randint(434)"
   ]
  },
  {
   "cell_type": "code",
   "execution_count": 16,
   "id": "6d501354-8a9e-4df8-b81f-39f0e68a8f8e",
   "metadata": {},
   "outputs": [
    {
     "data": {
      "text/plain": [
       "array([11, 18, 17, 11, 19])"
      ]
     },
     "execution_count": 16,
     "metadata": {},
     "output_type": "execute_result"
    }
   ],
   "source": [
    "np.random.randint(10,20,5)"
   ]
  },
  {
   "cell_type": "code",
   "execution_count": 36,
   "id": "93b83c2f-18f9-40ac-9a24-6534eadea6fe",
   "metadata": {},
   "outputs": [
    {
     "data": {
      "text/plain": [
       "array([[29, 24, 26, 31, 30, 11, 28, 14, 11, 21],\n",
       "       [38, 36, 22, 10, 25, 25, 13, 39, 12, 22],\n",
       "       [39, 18, 19, 37, 21, 24, 12, 32, 10, 23],\n",
       "       [37, 10, 29, 38, 22, 21, 19, 26, 25, 14],\n",
       "       [27, 15, 23, 17, 16, 21, 21, 34, 23, 34],\n",
       "       [22, 17, 17, 32, 19, 39, 22, 13, 30, 27],\n",
       "       [34, 37, 18, 29, 28, 22, 25, 28, 37, 16],\n",
       "       [39, 10, 31, 25, 31, 11, 29, 25, 23, 13],\n",
       "       [30, 11, 32, 33, 23, 25, 17, 23, 17, 35],\n",
       "       [14, 15, 21, 23, 16, 16, 38, 30, 28, 11]])"
      ]
     },
     "execution_count": 36,
     "metadata": {},
     "output_type": "execute_result"
    }
   ],
   "source": [
    "m= np.random.randint(10,40,(10,10))\n",
    "m# matrix representaton "
   ]
  },
  {
   "cell_type": "code",
   "execution_count": 23,
   "id": "4bdfb343-9bb3-4070-a8eb-06f1905998b8",
   "metadata": {},
   "outputs": [
    {
     "data": {
      "text/plain": [
       "[1, 2, 3, 4, 5]"
      ]
     },
     "execution_count": 23,
     "metadata": {},
     "output_type": "execute_result"
    }
   ],
   "source": [
    "my_list=[1,2,3,4,5]\n",
    "my_list"
   ]
  },
  {
   "cell_type": "code",
   "execution_count": 27,
   "id": "015afdef-219a-4a97-ab23-d658847fd025",
   "metadata": {},
   "outputs": [
    {
     "data": {
      "text/plain": [
       "array([1, 2, 3, 4, 5])"
      ]
     },
     "execution_count": 27,
     "metadata": {},
     "output_type": "execute_result"
    }
   ],
   "source": [
    "nd = np.array(my_list)\n",
    "nd"
   ]
  },
  {
   "cell_type": "code",
   "execution_count": 28,
   "id": "70637183-e771-4acc-95df-20fe19eb2871",
   "metadata": {},
   "outputs": [
    {
     "data": {
      "text/plain": [
       "array([1, 2, 3, 4, 5])"
      ]
     },
     "execution_count": 28,
     "metadata": {},
     "output_type": "execute_result"
    }
   ],
   "source": [
    "nd"
   ]
  },
  {
   "cell_type": "code",
   "execution_count": 35,
   "id": "9199e810-985c-40bf-abbe-9ff9632142cb",
   "metadata": {},
   "outputs": [
    {
     "data": {
      "text/plain": [
       "array([[1],\n",
       "       [2],\n",
       "       [3],\n",
       "       [4],\n",
       "       [5]])"
      ]
     },
     "execution_count": 35,
     "metadata": {},
     "output_type": "execute_result"
    }
   ],
   "source": [
    "nd.reshape(5,1)"
   ]
  },
  {
   "cell_type": "markdown",
   "id": "f3c47be6-0929-46c3-b5a8-6141a4609a5b",
   "metadata": {},
   "source": [
    "# slicing in matrix "
   ]
  },
  {
   "cell_type": "code",
   "execution_count": 37,
   "id": "da6651e3-1011-4b46-a911-8ffc91c1cc88",
   "metadata": {},
   "outputs": [
    {
     "data": {
      "text/plain": [
       "array([[29, 24, 26, 31, 30, 11, 28, 14, 11, 21],\n",
       "       [38, 36, 22, 10, 25, 25, 13, 39, 12, 22],\n",
       "       [39, 18, 19, 37, 21, 24, 12, 32, 10, 23],\n",
       "       [37, 10, 29, 38, 22, 21, 19, 26, 25, 14],\n",
       "       [27, 15, 23, 17, 16, 21, 21, 34, 23, 34],\n",
       "       [22, 17, 17, 32, 19, 39, 22, 13, 30, 27],\n",
       "       [34, 37, 18, 29, 28, 22, 25, 28, 37, 16],\n",
       "       [39, 10, 31, 25, 31, 11, 29, 25, 23, 13],\n",
       "       [30, 11, 32, 33, 23, 25, 17, 23, 17, 35],\n",
       "       [14, 15, 21, 23, 16, 16, 38, 30, 28, 11]])"
      ]
     },
     "execution_count": 37,
     "metadata": {},
     "output_type": "execute_result"
    }
   ],
   "source": [
    "m"
   ]
  },
  {
   "cell_type": "code",
   "execution_count": 39,
   "id": "89902151-7ba6-4ef8-82ce-a4240e47b3e8",
   "metadata": {},
   "outputs": [
    {
     "data": {
      "text/plain": [
       "array([[17, 10, 14, 13],\n",
       "       [14, 14, 18, 15],\n",
       "       [19, 14, 10, 17],\n",
       "       [15, 19, 18, 10],\n",
       "       [13, 11, 11, 14]])"
      ]
     },
     "execution_count": 39,
     "metadata": {},
     "output_type": "execute_result"
    }
   ],
   "source": [
    "b=np.random.randint(10,20,(5,4))\n",
    "b"
   ]
  },
  {
   "cell_type": "code",
   "execution_count": 40,
   "id": "28f0a30b-e407-47e3-b3e8-2e9ae4f84956",
   "metadata": {},
   "outputs": [
    {
     "data": {
      "text/plain": [
       "array([[17, 10, 14, 13],\n",
       "       [14, 14, 18, 15],\n",
       "       [19, 14, 10, 17],\n",
       "       [15, 19, 18, 10],\n",
       "       [13, 11, 11, 14]])"
      ]
     },
     "execution_count": 40,
     "metadata": {},
     "output_type": "execute_result"
    }
   ],
   "source": [
    "b[:]"
   ]
  },
  {
   "cell_type": "code",
   "execution_count": 41,
   "id": "b27b039e-99e2-43af-a269-9f0f2ac55b2f",
   "metadata": {},
   "outputs": [
    {
     "data": {
      "text/plain": [
       "array([[15, 19, 18, 10],\n",
       "       [13, 11, 11, 14]])"
      ]
     },
     "execution_count": 41,
     "metadata": {},
     "output_type": "execute_result"
    }
   ],
   "source": [
    "b[3:]"
   ]
  },
  {
   "cell_type": "code",
   "execution_count": 42,
   "id": "60d27833-38b4-47c5-b33d-b45364f11e51",
   "metadata": {},
   "outputs": [
    {
     "data": {
      "text/plain": [
       "array([[13, 11, 11, 14]])"
      ]
     },
     "execution_count": 42,
     "metadata": {},
     "output_type": "execute_result"
    }
   ],
   "source": [
    "b[-1:]"
   ]
  },
  {
   "cell_type": "code",
   "execution_count": 43,
   "id": "41d2c42f-7311-4048-a494-bd1a7e6e780c",
   "metadata": {},
   "outputs": [
    {
     "data": {
      "text/plain": [
       "array([[17, 10, 14, 13],\n",
       "       [14, 14, 18, 15],\n",
       "       [19, 14, 10, 17],\n",
       "       [15, 19, 18, 10]])"
      ]
     },
     "execution_count": 43,
     "metadata": {},
     "output_type": "execute_result"
    }
   ],
   "source": [
    "b[:-1]"
   ]
  },
  {
   "cell_type": "code",
   "execution_count": null,
   "id": "dc41b29b-7216-4d73-8ea2-12848ba5dc30",
   "metadata": {},
   "outputs": [],
   "source": []
  },
  {
   "cell_type": "code",
   "execution_count": null,
   "id": "90a444d3-a64f-4fa1-994b-baa5a2351d5e",
   "metadata": {},
   "outputs": [],
   "source": []
  },
  {
   "cell_type": "code",
   "execution_count": null,
   "id": "bd4ee6f9-e2f4-42c8-801e-702c23e15442",
   "metadata": {},
   "outputs": [],
   "source": []
  },
  {
   "cell_type": "code",
   "execution_count": null,
   "id": "babc4860-22b4-4fe2-874e-ffea5cd41827",
   "metadata": {},
   "outputs": [],
   "source": []
  },
  {
   "cell_type": "code",
   "execution_count": null,
   "id": "fb59fdbb-48e1-4f07-892d-8ecd7c857bb2",
   "metadata": {},
   "outputs": [],
   "source": []
  }
 ],
 "metadata": {
  "kernelspec": {
   "display_name": "Python 3 (ipykernel)",
   "language": "python",
   "name": "python3"
  },
  "language_info": {
   "codemirror_mode": {
    "name": "ipython",
    "version": 3
   },
   "file_extension": ".py",
   "mimetype": "text/x-python",
   "name": "python",
   "nbconvert_exporter": "python",
   "pygments_lexer": "ipython3",
   "version": "3.12.7"
  }
 },
 "nbformat": 4,
 "nbformat_minor": 5
}
