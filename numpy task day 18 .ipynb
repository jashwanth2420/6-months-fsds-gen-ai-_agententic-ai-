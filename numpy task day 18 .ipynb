{
 "cells": [
  {
   "cell_type": "markdown",
   "id": "c708b65a-7615-4699-a851-fb83f0b17d8d",
   "metadata": {},
   "source": [
    "# array creation functions "
   ]
  },
  {
   "cell_type": "code",
   "execution_count": 1,
   "id": "854b1470-e77c-4a68-bb7b-b52f4180abf6",
   "metadata": {},
   "outputs": [],
   "source": [
    "import numpy as np "
   ]
  },
  {
   "cell_type": "code",
   "execution_count": 3,
   "id": "1c60ab89-ef46-466d-8ad9-b0eb1638bbfc",
   "metadata": {},
   "outputs": [
    {
     "name": "stdout",
     "output_type": "stream",
     "text": [
      "Array: [1 2 3]\n"
     ]
    }
   ],
   "source": [
    "# crate an array from list \n",
    "a=np.array([1,2,3])\n",
    "print('Array:',a)"
   ]
  },
  {
   "cell_type": "code",
   "execution_count": 5,
   "id": "0129b42b-68fd-4792-9cad-e6f2ce8dbb6f",
   "metadata": {},
   "outputs": [
    {
     "data": {
      "text/plain": [
       "array([0, 2, 4, 6, 8])"
      ]
     },
     "execution_count": 5,
     "metadata": {},
     "output_type": "execute_result"
    }
   ],
   "source": [
    "# crate an array with even values \n",
    "np.arange(0,10,2)"
   ]
  },
  {
   "cell_type": "code",
   "execution_count": 10,
   "id": "64f14100-162f-4be6-b4d3-51ef40a94813",
   "metadata": {},
   "outputs": [
    {
     "data": {
      "text/plain": [
       "array([[0, 0, 0],\n",
       "       [0, 0, 0]])"
      ]
     },
     "execution_count": 10,
     "metadata": {},
     "output_type": "execute_result"
    }
   ],
   "source": [
    "np.zeros((2,3),dtype=int) # create an array with zeors "
   ]
  },
  {
   "cell_type": "code",
   "execution_count": 16,
   "id": "ad265317-3e1f-47c8-8387-4847193475fa",
   "metadata": {},
   "outputs": [
    {
     "data": {
      "text/plain": [
       "array([[1, 1],\n",
       "       [1, 1],\n",
       "       [1, 1]])"
      ]
     },
     "execution_count": 16,
     "metadata": {},
     "output_type": "execute_result"
    }
   ],
   "source": [
    "np.ones((3,2),dtype=int) # 3x2 matrix print ones "
   ]
  },
  {
   "cell_type": "code",
   "execution_count": 18,
   "id": "18336086-d196-45af-be8f-02dc83c9a7d6",
   "metadata": {},
   "outputs": [
    {
     "data": {
      "text/plain": [
       "array([[1., 0., 0., 0., 0.],\n",
       "       [0., 1., 0., 0., 0.],\n",
       "       [0., 0., 1., 0., 0.],\n",
       "       [0., 0., 0., 1., 0.],\n",
       "       [0., 0., 0., 0., 1.]])"
      ]
     },
     "execution_count": 18,
     "metadata": {},
     "output_type": "execute_result"
    }
   ],
   "source": [
    "f=np.eye(5) # used to print itentified matrix \n",
    "f"
   ]
  },
  {
   "cell_type": "markdown",
   "id": "4e3351db-a1bb-4dc4-8894-2e8d320cb824",
   "metadata": {},
   "source": [
    "# array manuplation functions"
   ]
  },
  {
   "cell_type": "code",
   "execution_count": 21,
   "id": "4ecfb143-4e2a-460f-8fd1-2e2a7203c8de",
   "metadata": {},
   "outputs": [
    {
     "name": "stdout",
     "output_type": "stream",
     "text": [
      "[[1 2 3]]\n"
     ]
    }
   ],
   "source": [
    "# reshape an array\n",
    "a1=np.array([1,2,3])\n",
    "reshaped=np.reshape(a1,(1,3))\n",
    "print(reshaped)"
   ]
  },
  {
   "cell_type": "code",
   "execution_count": 24,
   "id": "81e414a0-f4ec-4134-9b99-9d688a223f88",
   "metadata": {},
   "outputs": [
    {
     "name": "stdout",
     "output_type": "stream",
     "text": [
      "[1 2 3 4]\n"
     ]
    }
   ],
   "source": [
    "# flaten a array \n",
    "f1=np.array([[1,2],[3,4]])\n",
    "flaten=np.ravel(f1)\n",
    "print(flaten)"
   ]
  },
  {
   "cell_type": "code",
   "execution_count": 33,
   "id": "c809965d-c5af-44a1-92e8-3c2f1d1f5c48",
   "metadata": {},
   "outputs": [
    {
     "name": "stdout",
     "output_type": "stream",
     "text": [
      "[[1 6]\n",
      " [2 4]]\n"
     ]
    }
   ],
   "source": [
    "# tanspose an array \n",
    "e1=np.array([[1, 2], [6, 4]])\n",
    "transpose=np.transpose(e1)\n",
    "print(transpose)"
   ]
  },
  {
   "cell_type": "code",
   "execution_count": 34,
   "id": "3e3abb4f-95ce-496f-8237-523250cfbfd6",
   "metadata": {},
   "outputs": [
    {
     "data": {
      "text/plain": [
       "range(0, 5)"
      ]
     },
     "execution_count": 34,
     "metadata": {},
     "output_type": "execute_result"
    }
   ],
   "source": [
    "range(5)"
   ]
  },
  {
   "cell_type": "code",
   "execution_count": 35,
   "id": "eda70981-a5f7-42f3-9cfb-d21661c05f85",
   "metadata": {},
   "outputs": [
    {
     "data": {
      "text/plain": [
       "range(0, 6)"
      ]
     },
     "execution_count": 35,
     "metadata": {},
     "output_type": "execute_result"
    }
   ],
   "source": [
    "r=range(6)\n",
    "r"
   ]
  },
  {
   "cell_type": "code",
   "execution_count": 36,
   "id": "9b1527fc-a101-4c0c-91c5-c99eb2c365e1",
   "metadata": {},
   "outputs": [
    {
     "name": "stdout",
     "output_type": "stream",
     "text": [
      "0\n",
      "1\n",
      "2\n",
      "3\n",
      "4\n",
      "5\n"
     ]
    }
   ],
   "source": [
    "for i in r:\n",
    "    print(i)\n",
    "    "
   ]
  },
  {
   "cell_type": "code",
   "execution_count": 37,
   "id": "667febfa-fa76-4665-94eb-0fc1baf2c884",
   "metadata": {},
   "outputs": [
    {
     "data": {
      "text/plain": [
       "[0, 1, 2, 3, 4]"
      ]
     },
     "execution_count": 37,
     "metadata": {},
     "output_type": "execute_result"
    }
   ],
   "source": [
    "list(range(5))"
   ]
  },
  {
   "cell_type": "code",
   "execution_count": 38,
   "id": "01455ecc-c8dc-4dff-b3c8-004ff40372d7",
   "metadata": {},
   "outputs": [
    {
     "data": {
      "text/plain": [
       "range(1, 10)"
      ]
     },
     "execution_count": 38,
     "metadata": {},
     "output_type": "execute_result"
    }
   ],
   "source": [
    "range(1,10)"
   ]
  },
  {
   "cell_type": "code",
   "execution_count": 39,
   "id": "5c6686f2-404c-4982-bd20-4e7623c223f5",
   "metadata": {},
   "outputs": [
    {
     "data": {
      "text/plain": [
       "[1, 2, 3, 4, 5, 6, 7, 8, 9]"
      ]
     },
     "execution_count": 39,
     "metadata": {},
     "output_type": "execute_result"
    }
   ],
   "source": [
    "list(range(1,10))"
   ]
  },
  {
   "cell_type": "code",
   "execution_count": 41,
   "id": "4e0d21f7-0ec8-47bd-8196-6d02188d0f83",
   "metadata": {},
   "outputs": [
    {
     "data": {
      "text/plain": [
       "[0, 2, 4, 6, 8]"
      ]
     },
     "execution_count": 41,
     "metadata": {},
     "output_type": "execute_result"
    }
   ],
   "source": [
    "list(range(0,10,2)) # step count "
   ]
  },
  {
   "cell_type": "code",
   "execution_count": 42,
   "id": "7911fc95-fcd6-4801-9570-ad6d38a34c1a",
   "metadata": {},
   "outputs": [
    {
     "data": {
      "text/plain": [
       "array([0.97155779, 0.57121592, 0.97954619, 0.96769707, 0.37290988])"
      ]
     },
     "execution_count": 42,
     "metadata": {},
     "output_type": "execute_result"
    }
   ],
   "source": [
    "np.random.rand(5)"
   ]
  },
  {
   "cell_type": "code",
   "execution_count": 54,
   "id": "bdf2dc12-da2d-4d3f-9ef6-ae6977305fcc",
   "metadata": {},
   "outputs": [
    {
     "data": {
      "text/plain": [
       "array([[0.33536717, 0.4136959 ],\n",
       "       [0.82464176, 0.2068119 ],\n",
       "       [0.53451031, 0.61842129],\n",
       "       [0.52172714, 0.9910489 ],\n",
       "       [0.28011275, 0.92593371],\n",
       "       [0.81464804, 0.08872122],\n",
       "       [0.42370563, 0.04251441],\n",
       "       [0.48847436, 0.35683997],\n",
       "       [0.26992616, 0.56103561],\n",
       "       [0.4283649 , 0.70070415]])"
      ]
     },
     "execution_count": 54,
     "metadata": {},
     "output_type": "execute_result"
    }
   ],
   "source": [
    "np.random.rand(10,2) # prodice random in float in form of 10x2 matrix"
   ]
  },
  {
   "cell_type": "code",
   "execution_count": 50,
   "id": "b2b4bb77-9120-4f24-be97-22f22103cf75",
   "metadata": {},
   "outputs": [
    {
     "data": {
      "text/plain": [
       "11"
      ]
     },
     "execution_count": 50,
     "metadata": {},
     "output_type": "execute_result"
    }
   ],
   "source": [
    "np.random.randint(10,20)"
   ]
  },
  {
   "cell_type": "code",
   "execution_count": 59,
   "id": "33c0de6c-9389-415d-bdce-6ec5af778c21",
   "metadata": {},
   "outputs": [
    {
     "data": {
      "text/plain": [
       "array([2, 0, 5, 1, 8, 6])"
      ]
     },
     "execution_count": 59,
     "metadata": {},
     "output_type": "execute_result"
    }
   ],
   "source": [
    "np.random.randint(0,10,6) # produce six random numbers in between 0and 10"
   ]
  },
  {
   "cell_type": "code",
   "execution_count": 56,
   "id": "6b234020-ed27-45ae-ade5-2f874729d9ad",
   "metadata": {},
   "outputs": [
    {
     "data": {
      "text/plain": [
       "6"
      ]
     },
     "execution_count": 56,
     "metadata": {},
     "output_type": "execute_result"
    }
   ],
   "source": [
    "np.random.randint(5,9)"
   ]
  },
  {
   "cell_type": "code",
   "execution_count": 58,
   "id": "63e121cd-b4b5-4ab2-a14a-75e5954628a8",
   "metadata": {},
   "outputs": [
    {
     "data": {
      "text/plain": [
       "array([[32, 10, 38, 15, 27, 36, 28, 22, 33, 39],\n",
       "       [39, 11, 32, 10, 17, 21, 26, 26, 14, 25],\n",
       "       [21, 33, 17, 35, 30, 36, 38, 14, 38, 30],\n",
       "       [19, 36, 13, 32, 15, 31, 39, 17, 33, 34],\n",
       "       [21, 39, 19, 25, 22, 16, 19, 39, 29, 38],\n",
       "       [32, 15, 19, 39, 30, 38, 17, 31, 14, 34],\n",
       "       [29, 16, 19, 26, 22, 31, 32, 10, 19, 33],\n",
       "       [34, 29, 13, 19, 28, 17, 33, 34, 37, 35],\n",
       "       [15, 14, 15, 18, 16, 13, 26, 34, 21, 31],\n",
       "       [30, 33, 20, 12, 35, 16, 29, 10, 34, 11]])"
      ]
     },
     "execution_count": 58,
     "metadata": {},
     "output_type": "execute_result"
    }
   ],
   "source": [
    "np.random.randint(10,40,(10,10)) # generte the random numbers in form of matrix "
   ]
  },
  {
   "cell_type": "code",
   "execution_count": 61,
   "id": "630fc5fb-3650-4b0c-bd3e-34fac3a64e66",
   "metadata": {},
   "outputs": [
    {
     "data": {
      "text/plain": [
       "array([[12, 57, 71, 66, 32, 20, 72, 37, 88, 10, 50, 91],\n",
       "       [ 1, 19, 45, 61,  3, 29, 37, 23, 68, 79, 14, 91],\n",
       "       [39, 81, 24, 38, 73, 23, 58, 22, 18, 58, 29, 92],\n",
       "       [ 9, 95, 63, 22, 26, 72, 20, 80,  3, 66, 37, 62],\n",
       "       [94, 81, 83, 32, 71,  5, 76, 69, 73, 76,  6, 21],\n",
       "       [ 5, 59, 48, 16, 97,  5, 66, 91, 46, 55, 70, 44],\n",
       "       [28, 28, 40, 13, 21, 41, 57,  3, 80, 77, 86, 91],\n",
       "       [81, 34, 12, 58, 30, 75, 98, 93,  8, 32, 68, 24],\n",
       "       [15, 97, 74, 23, 20, 89, 64, 76, 71, 52, 52, 14],\n",
       "       [ 4, 34, 13, 17, 41, 73, 87, 88, 45, 80, 32, 91],\n",
       "       [75, 99, 78, 18, 41, 98, 72, 47,  9,  7, 62,  4],\n",
       "       [57, 90, 48, 30, 56, 46, 50,  4, 63, 27, 88, 67]])"
      ]
     },
     "execution_count": 61,
     "metadata": {},
     "output_type": "execute_result"
    }
   ],
   "source": [
    "np.random.randint(1,100,(12,12))"
   ]
  },
  {
   "cell_type": "code",
   "execution_count": 65,
   "id": "d23f5c2d-9080-4cd7-80ef-ef9dab9e5a12",
   "metadata": {},
   "outputs": [
    {
     "data": {
      "text/plain": [
       "array([[ 1,  2],\n",
       "       [ 3,  4],\n",
       "       [ 5,  6],\n",
       "       [ 7,  8],\n",
       "       [ 9, 10],\n",
       "       [11, 12],\n",
       "       [13, 14],\n",
       "       [15, 16],\n",
       "       [17, 18],\n",
       "       [19, 20]])"
      ]
     },
     "execution_count": 65,
     "metadata": {},
     "output_type": "execute_result"
    }
   ],
   "source": [
    "np.arange(1,21).reshape(10,2)"
   ]
  },
  {
   "cell_type": "code",
   "execution_count": 66,
   "id": "d79013a0-48b4-44b8-87b4-1a2c182cf1d2",
   "metadata": {},
   "outputs": [
    {
     "data": {
      "text/plain": [
       "array([[11, 17, 18, 13],\n",
       "       [18, 16, 19, 16],\n",
       "       [15, 11, 14, 16],\n",
       "       [13, 18, 12, 11],\n",
       "       [17, 13, 15, 17]])"
      ]
     },
     "execution_count": 66,
     "metadata": {},
     "output_type": "execute_result"
    }
   ],
   "source": [
    "b=np.random.randint(10,20,(5,4))\n",
    "b"
   ]
  },
  {
   "cell_type": "code",
   "execution_count": 67,
   "id": "b04cb02d-e0c5-403c-84a4-b1ae7219056c",
   "metadata": {},
   "outputs": [
    {
     "data": {
      "text/plain": [
       "numpy.ndarray"
      ]
     },
     "execution_count": 67,
     "metadata": {},
     "output_type": "execute_result"
    }
   ],
   "source": [
    "type(b)"
   ]
  },
  {
   "cell_type": "code",
   "execution_count": 68,
   "id": "92ab5e32-6bad-4b55-a751-6f85e11afef0",
   "metadata": {},
   "outputs": [
    {
     "data": {
      "text/plain": [
       "array([[11, 17, 18, 13],\n",
       "       [18, 16, 19, 16],\n",
       "       [15, 11, 14, 16],\n",
       "       [13, 18, 12, 11],\n",
       "       [17, 13, 15, 17]])"
      ]
     },
     "execution_count": 68,
     "metadata": {},
     "output_type": "execute_result"
    }
   ],
   "source": [
    "b"
   ]
  },
  {
   "cell_type": "code",
   "execution_count": 69,
   "id": "8410200d-c3ab-40ab-aa57-a5114d63df13",
   "metadata": {},
   "outputs": [
    {
     "data": {
      "text/plain": [
       "array([[11, 17, 18, 13],\n",
       "       [18, 16, 19, 16],\n",
       "       [15, 11, 14, 16],\n",
       "       [13, 18, 12, 11],\n",
       "       [17, 13, 15, 17]])"
      ]
     },
     "execution_count": 69,
     "metadata": {},
     "output_type": "execute_result"
    }
   ],
   "source": [
    "b[:]"
   ]
  },
  {
   "cell_type": "code",
   "execution_count": 70,
   "id": "e877802a-2e9f-4f9f-bebf-24a0414eab8b",
   "metadata": {},
   "outputs": [
    {
     "data": {
      "text/plain": [
       "array([[15, 11, 14, 16],\n",
       "       [13, 18, 12, 11],\n",
       "       [17, 13, 15, 17]])"
      ]
     },
     "execution_count": 70,
     "metadata": {},
     "output_type": "execute_result"
    }
   ],
   "source": [
    "b[2:]"
   ]
  },
  {
   "cell_type": "code",
   "execution_count": 71,
   "id": "110f77e5-8e7b-4a24-a183-d6fc23b5ccf6",
   "metadata": {},
   "outputs": [
    {
     "data": {
      "text/plain": [
       "array([[18, 16, 19, 16],\n",
       "       [15, 11, 14, 16]])"
      ]
     },
     "execution_count": 71,
     "metadata": {},
     "output_type": "execute_result"
    }
   ],
   "source": [
    "b[1:3]"
   ]
  },
  {
   "cell_type": "code",
   "execution_count": 73,
   "id": "fbf68e08-38f7-4ca7-beb6-fb3003509587",
   "metadata": {},
   "outputs": [
    {
     "data": {
      "text/plain": [
       "array([[18, 16, 19, 16],\n",
       "       [15, 11, 14, 16],\n",
       "       [13, 18, 12, 11]])"
      ]
     },
     "execution_count": 73,
     "metadata": {},
     "output_type": "execute_result"
    }
   ],
   "source": [
    "b[-4:-1]"
   ]
  },
  {
   "cell_type": "code",
   "execution_count": 75,
   "id": "7c384a90-ba7f-4a57-8ae0-fa53283a2353",
   "metadata": {},
   "outputs": [
    {
     "data": {
      "text/plain": [
       "19"
      ]
     },
     "execution_count": 75,
     "metadata": {},
     "output_type": "execute_result"
    }
   ],
   "source": [
    "b[1,2] # it is called secnod row third element beause the index starts fom the zero "
   ]
  },
  {
   "cell_type": "code",
   "execution_count": 76,
   "id": "3e6ee9a3-8502-446f-a92a-bd9437befe99",
   "metadata": {},
   "outputs": [
    {
     "data": {
      "text/plain": [
       "16"
      ]
     },
     "execution_count": 76,
     "metadata": {},
     "output_type": "execute_result"
    }
   ],
   "source": [
    "b[1,3]"
   ]
  },
  {
   "cell_type": "code",
   "execution_count": 78,
   "id": "47661011-5b8c-4413-9cf5-acac826c9418",
   "metadata": {},
   "outputs": [
    {
     "data": {
      "text/plain": [
       "16"
      ]
     },
     "execution_count": 78,
     "metadata": {},
     "output_type": "execute_result"
    }
   ],
   "source": [
    "b[1,-1]"
   ]
  },
  {
   "cell_type": "code",
   "execution_count": 79,
   "id": "9ed408bc-3e4c-4a55-b553-fdf1047437f9",
   "metadata": {},
   "outputs": [
    {
     "data": {
      "text/plain": [
       "array([[11, 17, 18, 13],\n",
       "       [18, 16, 19, 16],\n",
       "       [15, 11, 14, 16],\n",
       "       [13, 18, 12, 11],\n",
       "       [17, 13, 15, 17]])"
      ]
     },
     "execution_count": 79,
     "metadata": {},
     "output_type": "execute_result"
    }
   ],
   "source": [
    "b"
   ]
  },
  {
   "cell_type": "code",
   "execution_count": 80,
   "id": "834a5dd0-3f60-4aea-8526-685e5938b4cc",
   "metadata": {},
   "outputs": [
    {
     "data": {
      "text/plain": [
       "array([[11, 17, 18, 13],\n",
       "       [18, 16, 19, 16],\n",
       "       [15, 11, 14, 16]])"
      ]
     },
     "execution_count": 80,
     "metadata": {},
     "output_type": "execute_result"
    }
   ],
   "source": [
    "b[0:-2]"
   ]
  },
  {
   "cell_type": "code",
   "execution_count": 81,
   "id": "33d26d3f-b342-4589-b847-2c6f5f1249ef",
   "metadata": {},
   "outputs": [
    {
     "data": {
      "text/plain": [
       "array([[11, 17, 18, 13],\n",
       "       [18, 16, 19, 16],\n",
       "       [15, 11, 14, 16],\n",
       "       [13, 18, 12, 11],\n",
       "       [17, 13, 15, 17]])"
      ]
     },
     "execution_count": 81,
     "metadata": {},
     "output_type": "execute_result"
    }
   ],
   "source": [
    "b"
   ]
  },
  {
   "cell_type": "code",
   "execution_count": 82,
   "id": "331b19b1-055e-4b02-a4a5-1c52a1faec1c",
   "metadata": {},
   "outputs": [
    {
     "data": {
      "text/plain": [
       "array([[11, 17, 18, 13],\n",
       "       [18, 16, 19, 16]])"
      ]
     },
     "execution_count": 82,
     "metadata": {},
     "output_type": "execute_result"
    }
   ],
   "source": [
    "b[-5:-3]"
   ]
  },
  {
   "cell_type": "code",
   "execution_count": 85,
   "id": "32836c63-fd94-4694-b6c5-94590700ef79",
   "metadata": {},
   "outputs": [
    {
     "data": {
      "text/plain": [
       "array([[11, 17, 18, 13],\n",
       "       [18, 16, 19, 16]])"
      ]
     },
     "execution_count": 85,
     "metadata": {},
     "output_type": "execute_result"
    }
   ],
   "source": [
    "b[-5:2]"
   ]
  },
  {
   "cell_type": "markdown",
   "id": "d3c6da31-ae8e-484c-835c-200d02a88351",
   "metadata": {},
   "source": [
    "# operations "
   ]
  },
  {
   "cell_type": "code",
   "execution_count": 86,
   "id": "6b6a2417-2818-44f0-9741-63359caa39dc",
   "metadata": {},
   "outputs": [
    {
     "data": {
      "text/plain": [
       "array([16, 19, 17, 16, 10, 11, 11, 10, 14, 17])"
      ]
     },
     "execution_count": 86,
     "metadata": {},
     "output_type": "execute_result"
    }
   ],
   "source": [
    "a=np.random.randint(10,20,10)\n",
    "a"
   ]
  },
  {
   "cell_type": "code",
   "execution_count": 89,
   "id": "ea30a576-c991-4ad9-bb31-583bffbac9ba",
   "metadata": {},
   "outputs": [
    {
     "data": {
      "text/plain": [
       "array([16, 19, 17, 16, 10, 11, 11, 10, 14, 17])"
      ]
     },
     "execution_count": 89,
     "metadata": {},
     "output_type": "execute_result"
    }
   ],
   "source": [
    "a"
   ]
  },
  {
   "cell_type": "code",
   "execution_count": 90,
   "id": "9ecbe6d9-2ee4-4238-bc0c-6ef73f2710e5",
   "metadata": {},
   "outputs": [
    {
     "data": {
      "text/plain": [
       "array([[31, 36,  5, 53, 15, 90, 37, 61, 58, 78],\n",
       "       [ 8, 30,  2, 26, 19, 62, 93, 56, 70,  7],\n",
       "       [92, 22, 61, 30, 20, 77, 24, 63, 89, 44],\n",
       "       [40, 73,  1, 65, 29, 46, 49, 70, 49, 48],\n",
       "       [21, 29, 90, 16, 56, 29, 25, 73, 67, 76],\n",
       "       [66, 45, 62, 23, 41,  9, 53,  5, 69, 98],\n",
       "       [ 6, 15, 12, 71, 98, 71, 21, 32, 25,  6],\n",
       "       [13,  1, 10, 73, 97, 10, 24, 78, 11, 34],\n",
       "       [44,  7, 74, 55, 84, 60,  5, 49, 65, 25],\n",
       "       [24, 54, 76, 31, 26, 58, 29, 39,  8, 86]])"
      ]
     },
     "execution_count": 90,
     "metadata": {},
     "output_type": "execute_result"
    }
   ],
   "source": [
    "arr2=np.random.randint(1,100,(10,10))\n",
    "arr2"
   ]
  },
  {
   "cell_type": "code",
   "execution_count": 108,
   "id": "e1514869-aada-4740-9b90-6fbc50ca8ec2",
   "metadata": {},
   "outputs": [
    {
     "data": {
      "text/plain": [
       "array([[24, 54, 76, 31, 26, 58, 29, 39,  8, 86],\n",
       "       [44,  7, 74, 55, 84, 60,  5, 49, 65, 25],\n",
       "       [13,  1, 10, 73, 97, 10, 24, 78, 11, 34],\n",
       "       [ 6, 15, 12, 71, 98, 71, 21, 32, 25,  6],\n",
       "       [66, 45, 62, 23, 41,  9, 53,  5, 69, 98],\n",
       "       [21, 29, 90, 16, 56, 29, 25, 73, 67, 76],\n",
       "       [40, 73,  1, 65, 29, 46, 49, 70, 49, 48],\n",
       "       [92, 22, 61, 30, 20, 77, 24, 63, 89, 44],\n",
       "       [ 8, 30,  2, 26, 19, 62, 93, 56, 70,  7],\n",
       "       [31, 36,  5, 53, 15, 90, 37, 61, 58, 78]])"
      ]
     },
     "execution_count": 108,
     "metadata": {},
     "output_type": "execute_result"
    }
   ],
   "source": [
    "arr2[::-1] # reverses the matrix "
   ]
  },
  {
   "cell_type": "code",
   "execution_count": 107,
   "id": "2720a1c1-ac79-44cf-acb4-e4abf23bb43d",
   "metadata": {},
   "outputs": [
    {
     "data": {
      "text/plain": [
       "array([[31, 36,  5, 53, 15, 90, 37, 61, 58, 78],\n",
       "       [40, 73,  1, 65, 29, 46, 49, 70, 49, 48],\n",
       "       [ 6, 15, 12, 71, 98, 71, 21, 32, 25,  6],\n",
       "       [24, 54, 76, 31, 26, 58, 29, 39,  8, 86]])"
      ]
     },
     "execution_count": 107,
     "metadata": {},
     "output_type": "execute_result"
    }
   ],
   "source": [
    "arr2[::3] # it returns the rows by taking 3 as step count "
   ]
  },
  {
   "cell_type": "code",
   "execution_count": 105,
   "id": "0720483a-c766-48dd-a3e3-bfd82d415fd0",
   "metadata": {},
   "outputs": [
    {
     "data": {
      "text/plain": [
       "98"
      ]
     },
     "execution_count": 105,
     "metadata": {},
     "output_type": "execute_result"
    }
   ],
   "source": [
    "arr2.max()"
   ]
  },
  {
   "cell_type": "code",
   "execution_count": 109,
   "id": "9f0e21f5-33c1-4bd7-8aaf-eee3321aace9",
   "metadata": {},
   "outputs": [
    {
     "data": {
      "text/plain": [
       "1"
      ]
     },
     "execution_count": 109,
     "metadata": {},
     "output_type": "execute_result"
    }
   ],
   "source": [
    "arr2.min()"
   ]
  },
  {
   "cell_type": "code",
   "execution_count": 110,
   "id": "b2c67777-221e-4e5a-b8ed-2b457187e114",
   "metadata": {},
   "outputs": [
    {
     "data": {
      "text/plain": [
       "array([16, 19, 17, 16, 10, 11, 11, 10, 14, 17])"
      ]
     },
     "execution_count": 110,
     "metadata": {},
     "output_type": "execute_result"
    }
   ],
   "source": [
    "a"
   ]
  },
  {
   "cell_type": "code",
   "execution_count": 111,
   "id": "0f8dbbd5-5c7a-4877-9910-62fd4f43492d",
   "metadata": {},
   "outputs": [
    {
     "data": {
      "text/plain": [
       "array([[16, 19],\n",
       "       [17, 16],\n",
       "       [10, 11],\n",
       "       [11, 10],\n",
       "       [14, 17]])"
      ]
     },
     "execution_count": 111,
     "metadata": {},
     "output_type": "execute_result"
    }
   ],
   "source": [
    "a.reshape(5,2)"
   ]
  },
  {
   "cell_type": "code",
   "execution_count": 113,
   "id": "28eb04ab-5744-4417-9047-58d6db93a1f6",
   "metadata": {},
   "outputs": [
    {
     "data": {
      "text/plain": [
       "array([[16, 19],\n",
       "       [17, 16],\n",
       "       [10, 11],\n",
       "       [11, 10],\n",
       "       [14, 17]])"
      ]
     },
     "execution_count": 113,
     "metadata": {},
     "output_type": "execute_result"
    }
   ],
   "source": [
    "a.reshape(5,2,order='A')"
   ]
  },
  {
   "cell_type": "code",
   "execution_count": 115,
   "id": "9f942e8a-3741-402b-8a90-211d789fd812",
   "metadata": {},
   "outputs": [
    {
     "data": {
      "text/plain": [
       "array([40, 73,  1, 65, 29, 46, 49, 70, 49, 48])"
      ]
     },
     "execution_count": 115,
     "metadata": {},
     "output_type": "execute_result"
    }
   ],
   "source": [
    "arr2[3] # calling the rows "
   ]
  },
  {
   "cell_type": "code",
   "execution_count": 116,
   "id": "bcf9609c-27e6-4a47-b71e-040b3c0f8676",
   "metadata": {},
   "outputs": [
    {
     "data": {
      "text/plain": [
       "array([15, 19, 20, 29, 56, 41, 98, 97, 84, 26])"
      ]
     },
     "execution_count": 116,
     "metadata": {},
     "output_type": "execute_result"
    }
   ],
   "source": [
    "arr2[:,4]"
   ]
  },
  {
   "cell_type": "code",
   "execution_count": 118,
   "id": "fc956c41-2cb4-4ea5-90eb-5056fe144bf1",
   "metadata": {},
   "outputs": [
    {
     "data": {
      "text/plain": [
       "array([[31, 36,  5, 53, 15, 90, 37, 61, 58, 78],\n",
       "       [ 8, 30,  2, 26, 19, 62, 93, 56, 70,  7],\n",
       "       [92, 22, 61, 30, 20, 77, 24, 63, 89, 44],\n",
       "       [40, 73,  1, 65, 29, 46, 49, 70, 49, 48],\n",
       "       [21, 29, 90, 16, 56, 29, 25, 73, 67, 76],\n",
       "       [66, 45, 62, 23, 41,  9, 53,  5, 69, 98],\n",
       "       [ 6, 15, 12, 71, 98, 71, 21, 32, 25,  6],\n",
       "       [13,  1, 10, 73, 97, 10, 24, 78, 11, 34],\n",
       "       [44,  7, 74, 55, 84, 60,  5, 49, 65, 25],\n",
       "       [24, 54, 76, 31, 26, 58, 29, 39,  8, 86]])"
      ]
     },
     "execution_count": 118,
     "metadata": {},
     "output_type": "execute_result"
    }
   ],
   "source": [
    "arr2"
   ]
  },
  {
   "cell_type": "code",
   "execution_count": 119,
   "id": "911f26d1-30e0-47e1-b55d-3fc557a15320",
   "metadata": {},
   "outputs": [
    {
     "data": {
      "text/plain": [
       "array([21, 29, 90, 16, 56, 29, 25, 73, 67, 76])"
      ]
     },
     "execution_count": 119,
     "metadata": {},
     "output_type": "execute_result"
    }
   ],
   "source": [
    "arr2[4,:]"
   ]
  },
  {
   "cell_type": "code",
   "execution_count": 120,
   "id": "72a840dd-fe3a-4184-aefd-d9f696e396ec",
   "metadata": {},
   "outputs": [
    {
     "data": {
      "text/plain": [
       "array([58, 70, 89, 49, 67, 69, 25, 11, 65,  8])"
      ]
     },
     "execution_count": 120,
     "metadata": {},
     "output_type": "execute_result"
    }
   ],
   "source": [
    "arr2[:,8]"
   ]
  },
  {
   "cell_type": "code",
   "execution_count": 121,
   "id": "a328da69-f746-4152-8155-dcd407c20d52",
   "metadata": {},
   "outputs": [
    {
     "data": {
      "text/plain": [
       "array([[31, 36,  5, 53, 15, 90, 37, 61, 58, 78],\n",
       "       [ 8, 30,  2, 26, 19, 62, 93, 56, 70,  7],\n",
       "       [92, 22, 61, 30, 20, 77, 24, 63, 89, 44],\n",
       "       [40, 73,  1, 65, 29, 46, 49, 70, 49, 48]])"
      ]
     },
     "execution_count": 121,
     "metadata": {},
     "output_type": "execute_result"
    }
   ],
   "source": [
    "arr2[:4]"
   ]
  },
  {
   "cell_type": "code",
   "execution_count": 123,
   "id": "67548932-84c0-4251-89f8-e8d2bbbb67ff",
   "metadata": {},
   "outputs": [
    {
     "data": {
      "text/plain": [
       "array([58, 70, 89, 49, 67, 69, 25, 11, 65,  8])"
      ]
     },
     "execution_count": 123,
     "metadata": {},
     "output_type": "execute_result"
    }
   ],
   "source": [
    "arr2[:,8] # fecting specific coloumn "
   ]
  },
  {
   "cell_type": "code",
   "execution_count": 125,
   "id": "eec72ff7-fbef-484a-b2e4-13ea190ea664",
   "metadata": {},
   "outputs": [
    {
     "data": {
      "text/plain": [
       "array([[31, 36,  5, 53, 15, 90, 37, 61, 58, 78],\n",
       "       [40, 73,  1, 65, 29, 46, 49, 70, 49, 48],\n",
       "       [ 6, 15, 12, 71, 98, 71, 21, 32, 25,  6],\n",
       "       [24, 54, 76, 31, 26, 58, 29, 39,  8, 86]])"
      ]
     },
     "execution_count": 125,
     "metadata": {},
     "output_type": "execute_result"
    }
   ],
   "source": [
    "arr2[0:10:3]"
   ]
  },
  {
   "cell_type": "code",
   "execution_count": 127,
   "id": "6d7e41eb-d3e5-476a-8b51-b7ef07eb0711",
   "metadata": {},
   "outputs": [
    {
     "data": {
      "text/plain": [
       "array([[61, 30],\n",
       "       [ 1, 65],\n",
       "       [90, 16],\n",
       "       [62, 23]])"
      ]
     },
     "execution_count": 127,
     "metadata": {},
     "output_type": "execute_result"
    }
   ],
   "source": [
    "arr2[2:6,2:4] # fecting specific row and cloumn at time "
   ]
  },
  {
   "cell_type": "markdown",
   "id": "a76abc11-da0e-493c-8c8b-3880d60aa1a1",
   "metadata": {},
   "source": [
    "# masking"
   ]
  },
  {
   "cell_type": "code",
   "execution_count": 128,
   "id": "01cd10cb-b597-4948-b777-9a385eb8109f",
   "metadata": {},
   "outputs": [
    {
     "data": {
      "text/plain": [
       "array([[31, 36,  5, 53, 15, 90, 37, 61, 58, 78],\n",
       "       [ 8, 30,  2, 26, 19, 62, 93, 56, 70,  7],\n",
       "       [92, 22, 61, 30, 20, 77, 24, 63, 89, 44],\n",
       "       [40, 73,  1, 65, 29, 46, 49, 70, 49, 48],\n",
       "       [21, 29, 90, 16, 56, 29, 25, 73, 67, 76],\n",
       "       [66, 45, 62, 23, 41,  9, 53,  5, 69, 98],\n",
       "       [ 6, 15, 12, 71, 98, 71, 21, 32, 25,  6],\n",
       "       [13,  1, 10, 73, 97, 10, 24, 78, 11, 34],\n",
       "       [44,  7, 74, 55, 84, 60,  5, 49, 65, 25],\n",
       "       [24, 54, 76, 31, 26, 58, 29, 39,  8, 86]])"
      ]
     },
     "execution_count": 128,
     "metadata": {},
     "output_type": "execute_result"
    }
   ],
   "source": [
    "arr2"
   ]
  },
  {
   "cell_type": "code",
   "execution_count": 130,
   "id": "0e5d866b-1d75-45d2-8534-899948161224",
   "metadata": {},
   "outputs": [
    {
     "data": {
      "text/plain": [
       "array([53, 90, 61, 58, 78, 62, 93, 56, 70, 92, 61, 77, 63, 89, 73, 65, 70,\n",
       "       90, 56, 73, 67, 76, 66, 62, 53, 69, 98, 71, 98, 71, 73, 97, 78, 74,\n",
       "       55, 84, 60, 65, 54, 76, 58, 86])"
      ]
     },
     "execution_count": 130,
     "metadata": {},
     "output_type": "execute_result"
    }
   ],
   "source": [
    "arr2[arr2>50]"
   ]
  },
  {
   "cell_type": "code",
   "execution_count": 131,
   "id": "b97d5677-d422-4ece-87ac-ccfad04b70f9",
   "metadata": {},
   "outputs": [
    {
     "data": {
      "text/plain": [
       "array([[ True,  True,  True, False,  True, False,  True, False, False,\n",
       "        False],\n",
       "       [ True,  True,  True,  True,  True, False, False, False, False,\n",
       "         True],\n",
       "       [False,  True, False,  True,  True, False,  True, False, False,\n",
       "         True],\n",
       "       [ True, False,  True, False,  True,  True,  True, False,  True,\n",
       "         True],\n",
       "       [ True,  True, False,  True, False,  True,  True, False, False,\n",
       "        False],\n",
       "       [False,  True, False,  True,  True,  True, False,  True, False,\n",
       "        False],\n",
       "       [ True,  True,  True, False, False, False,  True,  True,  True,\n",
       "         True],\n",
       "       [ True,  True,  True, False, False,  True,  True, False,  True,\n",
       "         True],\n",
       "       [ True,  True, False, False, False, False,  True,  True, False,\n",
       "         True],\n",
       "       [ True, False, False,  True,  True, False,  True,  True,  True,\n",
       "        False]])"
      ]
     },
     "execution_count": 131,
     "metadata": {},
     "output_type": "execute_result"
    }
   ],
   "source": [
    "arr2<50"
   ]
  },
  {
   "cell_type": "code",
   "execution_count": 137,
   "id": "27786eaf-0a56-4b03-969d-2ae0b54c202b",
   "metadata": {},
   "outputs": [
    {
     "data": {
      "text/plain": [
       "array([[False, False, False, False, False, False, False, False, False,\n",
       "        False],\n",
       "       [False, False, False, False, False, False, False, False, False,\n",
       "        False],\n",
       "       [False, False, False, False, False, False, False, False, False,\n",
       "        False],\n",
       "       [False, False, False, False, False, False, False, False, False,\n",
       "        False],\n",
       "       [False, False, False, False, False, False, False, False, False,\n",
       "        False],\n",
       "       [False, False, False, False, False, False, False, False, False,\n",
       "        False],\n",
       "       [False, False, False, False, False, False, False, False, False,\n",
       "        False],\n",
       "       [False, False, False, False, False, False, False, False, False,\n",
       "        False],\n",
       "       [False, False, False, False, False, False, False, False, False,\n",
       "        False],\n",
       "       [False, False, False, False, False, False, False, False, False,\n",
       "        False]])"
      ]
     },
     "execution_count": 137,
     "metadata": {},
     "output_type": "execute_result"
    }
   ],
   "source": [
    "arr2==50"
   ]
  },
  {
   "cell_type": "markdown",
   "id": "d794b8af-234e-45ca-a441-012af06b68de",
   "metadata": {},
   "source": [
    "# python programing to generate otp "
   ]
  },
  {
   "cell_type": "code",
   "execution_count": 138,
   "id": "9ee5c99b-6d17-4567-b815-c22322b536ba",
   "metadata": {},
   "outputs": [],
   "source": [
    "from numpy import*\n",
    "def generate_otp(length=4):\n",
    "    \"\"\"Generate a numeric otp of a specified length.\"\"\"\n",
    "    digits='012345'\n",
    "   \n",
    " "
   ]
  },
  {
   "cell_type": "code",
   "execution_count": null,
   "id": "46aa476c-e0a1-4794-8333-efab47ebfbc4",
   "metadata": {},
   "outputs": [],
   "source": []
  },
  {
   "cell_type": "code",
   "execution_count": null,
   "id": "0cd95d30-200f-4c7f-9743-f1f1e9490515",
   "metadata": {},
   "outputs": [],
   "source": []
  },
  {
   "cell_type": "code",
   "execution_count": null,
   "id": "49ce656b-1b34-45b1-a8c8-2a6788286407",
   "metadata": {},
   "outputs": [],
   "source": []
  },
  {
   "cell_type": "code",
   "execution_count": null,
   "id": "51631648-f537-4c37-b67a-f4c72ee1443d",
   "metadata": {},
   "outputs": [],
   "source": []
  },
  {
   "cell_type": "code",
   "execution_count": null,
   "id": "2d6fc9f6-1b4a-44d9-bb0f-9fecccfb5572",
   "metadata": {},
   "outputs": [],
   "source": []
  },
  {
   "cell_type": "code",
   "execution_count": null,
   "id": "2494bcee-78e4-465b-8eda-9dc2524f926a",
   "metadata": {},
   "outputs": [],
   "source": []
  }
 ],
 "metadata": {
  "kernelspec": {
   "display_name": "Python 3 (ipykernel)",
   "language": "python",
   "name": "python3"
  },
  "language_info": {
   "codemirror_mode": {
    "name": "ipython",
    "version": 3
   },
   "file_extension": ".py",
   "mimetype": "text/x-python",
   "name": "python",
   "nbconvert_exporter": "python",
   "pygments_lexer": "ipython3",
   "version": "3.12.7"
  }
 },
 "nbformat": 4,
 "nbformat_minor": 5
}
