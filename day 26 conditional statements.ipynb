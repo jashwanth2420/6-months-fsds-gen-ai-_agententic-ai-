{
 "cells": [
  {
   "cell_type": "code",
   "execution_count": 1,
   "id": "9719a6fa-e0e8-4dfe-92ab-91043fc1511f",
   "metadata": {},
   "outputs": [
    {
     "name": "stdout",
     "output_type": "stream",
     "text": [
      "hey man how are you \n"
     ]
    }
   ],
   "source": [
    "if True:\n",
    "    print('hey man how are you ')"
   ]
  },
  {
   "cell_type": "code",
   "execution_count": 3,
   "id": "9b35de40-21ed-48b2-a44b-1de348544c13",
   "metadata": {},
   "outputs": [],
   "source": [
    "if False:\n",
    "    \n",
    "    print('wrong answer')"
   ]
  },
  {
   "cell_type": "code",
   "execution_count": 4,
   "id": "132c48d4-5d32-475a-80b2-cd3b0506542f",
   "metadata": {},
   "outputs": [
    {
     "name": "stdout",
     "output_type": "stream",
     "text": [
      "true\n"
     ]
    }
   ],
   "source": [
    "if True:\n",
    "    print('true')\n",
    "else:\n",
    "    print('false')"
   ]
  },
  {
   "cell_type": "code",
   "execution_count": 5,
   "id": "da1098ac-42f5-4342-aaed-d252e6d05675",
   "metadata": {},
   "outputs": [
    {
     "name": "stdout",
     "output_type": "stream",
     "text": [
      "even number\n"
     ]
    }
   ],
   "source": [
    "x=4\n",
    "r=x%2\n",
    "if r==0:\n",
    "    print('even number')\n",
    "else:\n",
    "    print('odd number')"
   ]
  },
  {
   "cell_type": "code",
   "execution_count": 6,
   "id": "0638816a-89b0-499c-a2d3-592c000db5f1",
   "metadata": {},
   "outputs": [
    {
     "name": "stdout",
     "output_type": "stream",
     "text": [
      "even number\n"
     ]
    }
   ],
   "source": [
    "x=6\n",
    "r=x%2\n",
    "if r==0:\n",
    "    print('even number')\n",
    "else:\n",
    "    print('odd number')"
   ]
  },
  {
   "cell_type": "code",
   "execution_count": 7,
   "id": "84904ddf-004a-41d8-b56b-665a0f9648b3",
   "metadata": {},
   "outputs": [
    {
     "name": "stdout",
     "output_type": "stream",
     "text": [
      "odd number\n"
     ]
    }
   ],
   "source": [
    "x=7\n",
    "r=x%2\n",
    "if r==0:\n",
    "    print('even number')\n",
    "else:\n",
    "    print('odd number')"
   ]
  },
  {
   "cell_type": "markdown",
   "id": "d1b6a72f-1872-401f-8d2a-cd24cf888933",
   "metadata": {},
   "source": [
    "#nested if "
   ]
  },
  {
   "cell_type": "code",
   "execution_count": 10,
   "id": "bfa04759-020d-4e27-86e0-a6aed3c2ee18",
   "metadata": {},
   "outputs": [
    {
     "name": "stdout",
     "output_type": "stream",
     "text": [
      "odd number\n"
     ]
    }
   ],
   "source": [
    "x=3\n",
    "r=x%2\n",
    "if r==0:\n",
    "    print('even number')\n",
    "    if x<5:\n",
    "        print('greater number')\n",
    "else:\n",
    "        print('odd number')\n",
    "    "
   ]
  },
  {
   "cell_type": "code",
   "execution_count": 13,
   "id": "7b7cb3dd-ff81-40e1-b412-f2cc2660ad78",
   "metadata": {},
   "outputs": [
    {
     "name": "stdout",
     "output_type": "stream",
     "text": [
      "odd number \n"
     ]
    }
   ],
   "source": [
    "x=7\n",
    "r=x%2\n",
    "if r==0:\n",
    "    print('even number')\n",
    "    if x>5:\n",
    "        print('greater number')\n",
    "    else:\n",
    "\n",
    "        print('lower number ')\n",
    "else:\n",
    "     print('odd number ')"
   ]
  },
  {
   "cell_type": "code",
   "execution_count": 14,
   "id": "4fe1991b-80db-40c8-9dd8-9ed977315336",
   "metadata": {},
   "outputs": [
    {
     "name": "stdout",
     "output_type": "stream",
     "text": [
      "even number\n",
      "greater number\n"
     ]
    }
   ],
   "source": [
    "x=10\n",
    "r=x%2\n",
    "if r==0:\n",
    "    print('even number')\n",
    "    if x>5:\n",
    "        print('greater number')\n",
    "    else:\n",
    "\n",
    "        print('lower number ')\n",
    "else:\n",
    "     print('odd number ')"
   ]
  },
  {
   "cell_type": "code",
   "execution_count": 42,
   "id": "12e5316b-2b19-4a45-a9cb-d0cb35829eb9",
   "metadata": {},
   "outputs": [
    {
     "name": "stdout",
     "output_type": "stream",
     "text": [
      "two\n"
     ]
    }
   ],
   "source": [
    " x=2\n",
    "\n",
    "if x==2:\n",
    "     print('two')\n",
    "elif x==3:\n",
    "     print('three')\n",
    " elif x==4:\n",
    "    print('four')\n",
    "         \n",
    "else:\n",
    "    print('number not found ')\n"
   ]
  },
  {
   "cell_type": "code",
   "execution_count": 43,
   "id": "eac4f53f-2e56-4e07-8ae1-23a9bb39ff04",
   "metadata": {},
   "outputs": [
    {
     "name": "stdout",
     "output_type": "stream",
     "text": [
      "number not found \n"
     ]
    }
   ],
   "source": [
    " x=200\n",
    "\n",
    "if x==2:\n",
    "     print('two')\n",
    "elif x==3:\n",
    "     print('three')\n",
    " elif x==4:\n",
    "    print('four')\n",
    "         \n",
    "else:\n",
    "    print('number not found ')"
   ]
  },
  {
   "cell_type": "code",
   "execution_count": 48,
   "id": "e4f202f3-c37a-49fa-b60b-282cc7460c8e",
   "metadata": {},
   "outputs": [
    {
     "name": "stdin",
     "output_type": "stream",
     "text": [
      "enter the number:  -10\n"
     ]
    },
    {
     "name": "stdout",
     "output_type": "stream",
     "text": [
      "negative\n"
     ]
    }
   ],
   "source": [
    "num=int(input('enter the number: '))\n",
    "\n",
    "if num>0:\n",
    "    print('positive')\n",
    "elif num<0:\n",
    "    print('negative')\n",
    "else:\n",
    "    print('zero')"
   ]
  },
  {
   "cell_type": "code",
   "execution_count": 49,
   "id": "4aee7b83-b843-44f3-88eb-9c3273a9049a",
   "metadata": {},
   "outputs": [
    {
     "name": "stdin",
     "output_type": "stream",
     "text": [
      "enter the number:  0\n"
     ]
    },
    {
     "name": "stdout",
     "output_type": "stream",
     "text": [
      "zero\n"
     ]
    }
   ],
   "source": [
    "num=int(input('enter the number: '))\n",
    "\n",
    "if num>0:\n",
    "    print('positive')\n",
    "elif num<0:\n",
    "    print('negative')\n",
    "else:\n",
    "    print('zero')"
   ]
  },
  {
   "cell_type": "code",
   "execution_count": null,
   "id": "4dc5e13d-6c33-4993-be62-8259fcf604a6",
   "metadata": {},
   "outputs": [],
   "source": []
  },
  {
   "cell_type": "code",
   "execution_count": null,
   "id": "cb3dd41c-8f47-4a0e-9146-c6ee80bc2a39",
   "metadata": {},
   "outputs": [],
   "source": []
  },
  {
   "cell_type": "code",
   "execution_count": null,
   "id": "f1f7b175-0e39-4275-80ef-ba88edc41489",
   "metadata": {},
   "outputs": [],
   "source": []
  },
  {
   "cell_type": "code",
   "execution_count": null,
   "id": "a832379a-e14d-403a-9d0e-ab94ebd4407f",
   "metadata": {},
   "outputs": [],
   "source": []
  },
  {
   "cell_type": "code",
   "execution_count": null,
   "id": "19400fac-056f-4426-b626-451ebf373a34",
   "metadata": {},
   "outputs": [],
   "source": []
  },
  {
   "cell_type": "code",
   "execution_count": null,
   "id": "ab319fb5-0493-4f2c-87a5-66bd3e5f9709",
   "metadata": {},
   "outputs": [],
   "source": []
  },
  {
   "cell_type": "code",
   "execution_count": null,
   "id": "ddb7c723-75b7-4479-a9b7-bde0bb9dc638",
   "metadata": {},
   "outputs": [],
   "source": []
  },
  {
   "cell_type": "code",
   "execution_count": null,
   "id": "4992441d-78e7-40e5-8997-3b7f09879117",
   "metadata": {},
   "outputs": [],
   "source": []
  },
  {
   "cell_type": "code",
   "execution_count": null,
   "id": "a3da6725-bd9e-4278-b048-d43e7be88d9c",
   "metadata": {},
   "outputs": [],
   "source": []
  }
 ],
 "metadata": {
  "kernelspec": {
   "display_name": "Python 3 (ipykernel)",
   "language": "python",
   "name": "python3"
  },
  "language_info": {
   "codemirror_mode": {
    "name": "ipython",
    "version": 3
   },
   "file_extension": ".py",
   "mimetype": "text/x-python",
   "name": "python",
   "nbconvert_exporter": "python",
   "pygments_lexer": "ipython3",
   "version": "3.12.7"
  }
 },
 "nbformat": 4,
 "nbformat_minor": 5
}
