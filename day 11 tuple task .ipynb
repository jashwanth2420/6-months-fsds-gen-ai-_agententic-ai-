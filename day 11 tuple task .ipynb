{
 "cells": [
  {
   "cell_type": "markdown",
   "id": "c7f7a73d-35b7-46ad-80a4-740d0d5c793b",
   "metadata": {},
   "source": [
    "# tuple creation "
   ]
  },
  {
   "cell_type": "code",
   "execution_count": 25,
   "id": "6647f105-67b1-4aaf-a66f-5d6574ee185d",
   "metadata": {},
   "outputs": [],
   "source": [
    "tup1=() # empty tuple "
   ]
  },
  {
   "cell_type": "code",
   "execution_count": 26,
   "id": "b9e5bf33-f1d8-40b6-9335-7917fd3f0147",
   "metadata": {},
   "outputs": [],
   "source": [
    "tup2=(1,2,4,6,8,9,) # tuple of integer numbers "
   ]
  },
  {
   "cell_type": "code",
   "execution_count": 27,
   "id": "44d53b00-7bc7-46d9-8435-2be1f2adc788",
   "metadata": {},
   "outputs": [],
   "source": [
    "tup3=(10.1,12.3,14.4,30.4,50.5,80.1) # tup;e of float numbers "
   ]
  },
  {
   "cell_type": "code",
   "execution_count": 28,
   "id": "e10ac51a-cc05-4b56-8c6e-d2d4793cb4ec",
   "metadata": {},
   "outputs": [],
   "source": [
    "tup4=('str','mike','java','jake') # tuple of strimg "
   ]
  },
  {
   "cell_type": "code",
   "execution_count": 29,
   "id": "bae659b2-8f07-4ad7-8ff3-72de01b62818",
   "metadata": {},
   "outputs": [],
   "source": [
    "tup5=(10,20,30,(100.3,20.4)) # nested tuple "
   ]
  },
  {
   "cell_type": "code",
   "execution_count": 30,
   "id": "c4e5086e-bbc2-4469-a0be-651b66eb4cc4",
   "metadata": {},
   "outputs": [],
   "source": [
    "tup6=(100,'india',17.56)  # tuple of mixed datatypes"
   ]
  },
  {
   "cell_type": "markdown",
   "id": "99921df2-ee54-408e-8bc2-1efc5203bd78",
   "metadata": {},
   "source": [
    "# Tuple indexing "
   ]
  },
  {
   "cell_type": "code",
   "execution_count": 31,
   "id": "811ac5af-7ae2-4e44-a41e-54032f8f8695",
   "metadata": {},
   "outputs": [
    {
     "data": {
      "text/plain": [
       "1"
      ]
     },
     "execution_count": 31,
     "metadata": {},
     "output_type": "execute_result"
    }
   ],
   "source": [
    "tup2[0] # retreive first element of the tuple "
   ]
  },
  {
   "cell_type": "code",
   "execution_count": 32,
   "id": "78b95bbe-87fb-4e23-bb85-f976d8a4728e",
   "metadata": {},
   "outputs": [
    {
     "data": {
      "text/plain": [
       "'t'"
      ]
     },
     "execution_count": 32,
     "metadata": {},
     "output_type": "execute_result"
    }
   ],
   "source": [
    "tup4[0][1] # nested indexing - acess the second character of the first tuple element "
   ]
  },
  {
   "cell_type": "markdown",
   "id": "15a9cc19-1b05-49fd-99b0-3d856db681cf",
   "metadata": {},
   "source": [
    "# tuple slicing "
   ]
  },
  {
   "cell_type": "code",
   "execution_count": 33,
   "id": "11fe8c7a-a020-4977-9c14-ca3bb240bcc8",
   "metadata": {},
   "outputs": [],
   "source": [
    "mytuple=('one','two','three','four','five','six','seven')"
   ]
  },
  {
   "cell_type": "code",
   "execution_count": 34,
   "id": "ff473ae6-7063-400f-a860-92482d152b9e",
   "metadata": {},
   "outputs": [
    {
     "data": {
      "text/plain": [
       "('two', 'three', 'four', 'five', 'six', 'seven')"
      ]
     },
     "execution_count": 34,
     "metadata": {},
     "output_type": "execute_result"
    }
   ],
   "source": [
    "mytuple[1:] # return all elements from 1 st index "
   ]
  },
  {
   "cell_type": "code",
   "execution_count": 35,
   "id": "5045bafa-e7fd-4a1e-9a05-f86c07a5a51d",
   "metadata": {},
   "outputs": [
    {
     "data": {
      "text/plain": [
       "('three', 'four', 'five')"
      ]
     },
     "execution_count": 35,
     "metadata": {},
     "output_type": "execute_result"
    }
   ],
   "source": [
    "mytuple[2:5] # return from second index to n-1 index which is fourth "
   ]
  },
  {
   "cell_type": "code",
   "execution_count": 36,
   "id": "7705a4f9-a643-448a-9c9e-e0ff870e1828",
   "metadata": {},
   "outputs": [
    {
     "data": {
      "text/plain": [
       "('five', 'six', 'seven')"
      ]
     },
     "execution_count": 36,
     "metadata": {},
     "output_type": "execute_result"
    }
   ],
   "source": [
    "mytuple[-3:] # return last three elemnts "
   ]
  },
  {
   "cell_type": "code",
   "execution_count": 37,
   "id": "2056e3b8-ee29-4e4b-82d6-1bffb16dc0d6",
   "metadata": {},
   "outputs": [
    {
     "data": {
      "text/plain": [
       "('one', 'two', 'three', 'four', 'five', 'six', 'seven')"
      ]
     },
     "execution_count": 37,
     "metadata": {},
     "output_type": "execute_result"
    }
   ],
   "source": [
    "mytuple[:] # return whole tuple "
   ]
  },
  {
   "cell_type": "markdown",
   "id": "3f9764c1-2e14-4375-9e69-85c244f80d2c",
   "metadata": {},
   "source": [
    "# tuple is imutable which mean cannot changeable "
   ]
  },
  {
   "cell_type": "code",
   "execution_count": 38,
   "id": "8bfbe07b-64f1-494b-832f-9d3ef839fc27",
   "metadata": {},
   "outputs": [],
   "source": [
    "del tup2"
   ]
  },
  {
   "cell_type": "code",
   "execution_count": 24,
   "id": "7a5a2085-d3ab-4afb-827b-384f4ab2cb27",
   "metadata": {},
   "outputs": [
    {
     "ename": "NameError",
     "evalue": "name 'tup2' is not defined",
     "output_type": "error",
     "traceback": [
      "\u001b[1;31m---------------------------------------------------------------------------\u001b[0m",
      "\u001b[1;31mNameError\u001b[0m                                 Traceback (most recent call last)",
      "Cell \u001b[1;32mIn[24], line 1\u001b[0m\n\u001b[1;32m----> 1\u001b[0m tup2\n",
      "\u001b[1;31mNameError\u001b[0m: name 'tup2' is not defined"
     ]
    }
   ],
   "source": [
    "tup2"
   ]
  },
  {
   "cell_type": "markdown",
   "id": "73fb948a-b724-45ad-8a2b-297b3edfac51",
   "metadata": {},
   "source": [
    "# loop trough a tuple  "
   ]
  },
  {
   "cell_type": "code",
   "execution_count": 39,
   "id": "14fdc10b-18cb-4457-a7e3-32ca35a6e019",
   "metadata": {},
   "outputs": [
    {
     "data": {
      "text/plain": [
       "('one', 'two', 'three', 'four', 'five', 'six', 'seven')"
      ]
     },
     "execution_count": 39,
     "metadata": {},
     "output_type": "execute_result"
    }
   ],
   "source": [
    "mytuple"
   ]
  },
  {
   "cell_type": "code",
   "execution_count": 40,
   "id": "9e4c8af0-d746-471e-970b-a1dce434e235",
   "metadata": {},
   "outputs": [
    {
     "name": "stdout",
     "output_type": "stream",
     "text": [
      "one\n",
      "two\n",
      "three\n",
      "four\n",
      "five\n",
      "six\n",
      "seven\n"
     ]
    }
   ],
   "source": [
    "for i in mytuple:\n",
    "    print(i)"
   ]
  },
  {
   "cell_type": "code",
   "execution_count": 41,
   "id": "0d13a111-059e-4e98-8226-7fd9e0d31e03",
   "metadata": {},
   "outputs": [
    {
     "name": "stdout",
     "output_type": "stream",
     "text": [
      "(0, 'one')\n",
      "(1, 'two')\n",
      "(2, 'three')\n",
      "(3, 'four')\n",
      "(4, 'five')\n",
      "(5, 'six')\n",
      "(6, 'seven')\n"
     ]
    }
   ],
   "source": [
    "for i in enumerate(mytuple):\n",
    "    print(i)"
   ]
  },
  {
   "cell_type": "markdown",
   "id": "fc546d83-1584-42ec-8d77-216725a0de9f",
   "metadata": {},
   "source": [
    "# tuple membership "
   ]
  },
  {
   "cell_type": "code",
   "execution_count": 42,
   "id": "0022d8d2-d5a6-4acc-8d29-e4cc18d923ce",
   "metadata": {},
   "outputs": [
    {
     "data": {
      "text/plain": [
       "('one', 'two', 'three', 'four', 'five', 'six', 'seven')"
      ]
     },
     "execution_count": 42,
     "metadata": {},
     "output_type": "execute_result"
    }
   ],
   "source": [
    "mytuple"
   ]
  },
  {
   "cell_type": "code",
   "execution_count": 43,
   "id": "1c67b9e0-6a1c-42d1-ac91-8c8a89f74a71",
   "metadata": {},
   "outputs": [
    {
     "data": {
      "text/plain": [
       "True"
      ]
     },
     "execution_count": 43,
     "metadata": {},
     "output_type": "execute_result"
    }
   ],
   "source": [
    "'one' in  mytuple "
   ]
  },
  {
   "cell_type": "code",
   "execution_count": 44,
   "id": "2e8e02a0-41f3-48a5-a32c-7fbcbed93071",
   "metadata": {},
   "outputs": [
    {
     "data": {
      "text/plain": [
       "False"
      ]
     },
     "execution_count": 44,
     "metadata": {},
     "output_type": "execute_result"
    }
   ],
   "source": [
    "'ten' in mytuple "
   ]
  },
  {
   "cell_type": "code",
   "execution_count": 46,
   "id": "3b79e035-e058-43c2-8568-1f712d49fa64",
   "metadata": {},
   "outputs": [
    {
     "name": "stdout",
     "output_type": "stream",
     "text": [
      "tree is present in my tuple\n"
     ]
    }
   ],
   "source": [
    "if 'three' in mytuple:\n",
    "    print('tree is present in my tuple' )\n",
    "else:\n",
    "    print('three is not in mytuple')"
   ]
  },
  {
   "cell_type": "markdown",
   "id": "a1f2e3cb-9371-4a76-8b01-c22ebce00705",
   "metadata": {},
   "source": [
    "# index position "
   ]
  },
  {
   "cell_type": "code",
   "execution_count": 47,
   "id": "5d59d302-4e25-4701-98bf-91cc392cbd53",
   "metadata": {},
   "outputs": [
    {
     "data": {
      "text/plain": [
       "('one', 'two', 'three', 'four', 'five', 'six', 'seven')"
      ]
     },
     "execution_count": 47,
     "metadata": {},
     "output_type": "execute_result"
    }
   ],
   "source": [
    "mytuple"
   ]
  },
  {
   "cell_type": "code",
   "execution_count": 50,
   "id": "d435aab1-1acd-44fe-8a9c-98cf749925bc",
   "metadata": {},
   "outputs": [
    {
     "data": {
      "text/plain": [
       "4"
      ]
     },
     "execution_count": 50,
     "metadata": {},
     "output_type": "execute_result"
    }
   ],
   "source": [
    "mytuple.index('five') # index of five is four"
   ]
  },
  {
   "cell_type": "markdown",
   "id": "7892988f-b8f7-40be-bcd9-eeb9ff43df9c",
   "metadata": {},
   "source": [
    "# sorting "
   ]
  },
  {
   "cell_type": "code",
   "execution_count": 51,
   "id": "5281d4e6-0894-4275-84bb-ea3d914603a1",
   "metadata": {},
   "outputs": [
    {
     "data": {
      "text/plain": [
       "('one', 'two', 'three', 'four', 'five', 'six', 'seven')"
      ]
     },
     "execution_count": 51,
     "metadata": {},
     "output_type": "execute_result"
    }
   ],
   "source": [
    "mytuple"
   ]
  },
  {
   "cell_type": "code",
   "execution_count": 52,
   "id": "d6d9cfa2-4209-4b16-b00c-07ec1aee2c0a",
   "metadata": {},
   "outputs": [
    {
     "data": {
      "text/plain": [
       "['two', 'three', 'six', 'seven', 'one', 'four', 'five']"
      ]
     },
     "execution_count": 52,
     "metadata": {},
     "output_type": "execute_result"
    }
   ],
   "source": [
    "sorted(mytuple,reverse =True)"
   ]
  },
  {
   "cell_type": "code",
   "execution_count": null,
   "id": "c37dcd46-e3d7-47bf-804c-2187221f47fb",
   "metadata": {},
   "outputs": [],
   "source": []
  },
  {
   "cell_type": "code",
   "execution_count": null,
   "id": "7fa47e3a-dfca-4d57-958c-2439b7e93e10",
   "metadata": {},
   "outputs": [],
   "source": []
  },
  {
   "cell_type": "code",
   "execution_count": null,
   "id": "532b1b89-24f6-48ed-bfde-a29fa986d61f",
   "metadata": {},
   "outputs": [],
   "source": []
  }
 ],
 "metadata": {
  "kernelspec": {
   "display_name": "Python 3 (ipykernel)",
   "language": "python",
   "name": "python3"
  },
  "language_info": {
   "codemirror_mode": {
    "name": "ipython",
    "version": 3
   },
   "file_extension": ".py",
   "mimetype": "text/x-python",
   "name": "python",
   "nbconvert_exporter": "python",
   "pygments_lexer": "ipython3",
   "version": "3.12.7"
  }
 },
 "nbformat": 4,
 "nbformat_minor": 5
}
