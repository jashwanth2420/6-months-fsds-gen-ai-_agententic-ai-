{
 "cells": [
  {
   "cell_type": "markdown",
   "id": "d60d5435-b47d-4c6c-adcc-f1906550091b",
   "metadata": {},
   "source": [
    "# 26th"
   ]
  },
  {
   "cell_type": "code",
   "execution_count": 1,
   "id": "ee1415a2-694d-4955-b39f-67041026652c",
   "metadata": {},
   "outputs": [],
   "source": [
    "s={}"
   ]
  },
  {
   "cell_type": "code",
   "execution_count": 2,
   "id": "22b7fdba-74d7-42fa-9681-f8599f0ef771",
   "metadata": {},
   "outputs": [
    {
     "data": {
      "text/plain": [
       "dict"
      ]
     },
     "execution_count": 2,
     "metadata": {},
     "output_type": "execute_result"
    }
   ],
   "source": [
    "type(s)"
   ]
  },
  {
   "cell_type": "code",
   "execution_count": 3,
   "id": "1f36d125-843b-474d-9135-3baa18cbc449",
   "metadata": {},
   "outputs": [
    {
     "data": {
      "text/plain": [
       "set()"
      ]
     },
     "execution_count": 3,
     "metadata": {},
     "output_type": "execute_result"
    }
   ],
   "source": [
    "s1=set()\n",
    "s1"
   ]
  },
  {
   "cell_type": "code",
   "execution_count": 4,
   "id": "9f2584e2-e0b3-44e1-8248-35d189559773",
   "metadata": {},
   "outputs": [
    {
     "data": {
      "text/plain": [
       "set"
      ]
     },
     "execution_count": 4,
     "metadata": {},
     "output_type": "execute_result"
    }
   ],
   "source": [
    "type(s1)"
   ]
  },
  {
   "cell_type": "code",
   "execution_count": 5,
   "id": "a48742b3-e29f-4729-aaa2-6e9d7d3bb8c3",
   "metadata": {},
   "outputs": [],
   "source": [
    "s1.add(10)"
   ]
  },
  {
   "cell_type": "code",
   "execution_count": 6,
   "id": "7684a1af-0dd2-4c59-bac3-cb18b76eaba5",
   "metadata": {},
   "outputs": [
    {
     "data": {
      "text/plain": [
       "{10}"
      ]
     },
     "execution_count": 6,
     "metadata": {},
     "output_type": "execute_result"
    }
   ],
   "source": [
    "s1"
   ]
  },
  {
   "cell_type": "code",
   "execution_count": 7,
   "id": "ac79d985-68ff-4e7d-8b21-82baacb7c3c8",
   "metadata": {},
   "outputs": [],
   "source": [
    "s1.add(20)\n",
    "s1.add(30)\n",
    "s1.add(15)"
   ]
  },
  {
   "cell_type": "code",
   "execution_count": 8,
   "id": "5830a98c-f7e7-40b2-949e-722eab97e3c9",
   "metadata": {},
   "outputs": [
    {
     "data": {
      "text/plain": [
       "{10, 15, 20, 30}"
      ]
     },
     "execution_count": 8,
     "metadata": {},
     "output_type": "execute_result"
    }
   ],
   "source": [
    "s1"
   ]
  },
  {
   "cell_type": "code",
   "execution_count": 9,
   "id": "cc85b666-ab8f-4fbd-a186-ea67f95e84f3",
   "metadata": {},
   "outputs": [],
   "source": [
    "s1.add(10)"
   ]
  },
  {
   "cell_type": "code",
   "execution_count": 10,
   "id": "a012ffae-8ff5-484e-a8c1-2b2079673ca2",
   "metadata": {},
   "outputs": [
    {
     "data": {
      "text/plain": [
       "{10, 15, 20, 30}"
      ]
     },
     "execution_count": 10,
     "metadata": {},
     "output_type": "execute_result"
    }
   ],
   "source": [
    "s1"
   ]
  },
  {
   "cell_type": "markdown",
   "id": "e5eaa51b-a08b-4f34-af9c-b2415a7dc5dd",
   "metadata": {},
   "source": [
    "s1[0] # indexing is not allowed in set "
   ]
  },
  {
   "cell_type": "code",
   "execution_count": 12,
   "id": "cc066d5b-4551-47bd-8494-f9dda7be96cc",
   "metadata": {},
   "outputs": [
    {
     "data": {
      "text/plain": [
       "{10, 15, 20, 30}"
      ]
     },
     "execution_count": 12,
     "metadata": {},
     "output_type": "execute_result"
    }
   ],
   "source": [
    "s1"
   ]
  },
  {
   "cell_type": "markdown",
   "id": "e979eff0-80c5-4be1-8b87-13e9fe9790cc",
   "metadata": {},
   "source": [
    "s1[:] # slicing is not allowed"
   ]
  },
  {
   "cell_type": "code",
   "execution_count": 14,
   "id": "541ff8a6-cd90-429c-9712-f1e9b7900f70",
   "metadata": {},
   "outputs": [
    {
     "data": {
      "text/plain": [
       "set()"
      ]
     },
     "execution_count": 14,
     "metadata": {},
     "output_type": "execute_result"
    }
   ],
   "source": [
    "s2= set()\n",
    "s2"
   ]
  },
  {
   "cell_type": "code",
   "execution_count": 16,
   "id": "c9a8fad1-d200-4cb6-9ed0-90d89877cf12",
   "metadata": {},
   "outputs": [],
   "source": [
    "s2.add(1.2)\n",
    "s2.add(3)\n",
    "s2.add('gone')"
   ]
  },
  {
   "cell_type": "code",
   "execution_count": 17,
   "id": "0853119d-1d2f-4be9-b176-e68325a4720c",
   "metadata": {},
   "outputs": [
    {
     "data": {
      "text/plain": [
       "{1.2, 3, 'gone'}"
      ]
     },
     "execution_count": 17,
     "metadata": {},
     "output_type": "execute_result"
    }
   ],
   "source": [
    "s2"
   ]
  },
  {
   "cell_type": "code",
   "execution_count": 20,
   "id": "31f4e12c-8ca4-4d9b-a2d6-5b9179320840",
   "metadata": {},
   "outputs": [],
   "source": [
    "s3=s2.copy()"
   ]
  },
  {
   "cell_type": "code",
   "execution_count": 21,
   "id": "664fc511-5dac-49c9-ace5-6e1ee96d162a",
   "metadata": {},
   "outputs": [
    {
     "data": {
      "text/plain": [
       "{1.2, 3, 'gone'}"
      ]
     },
     "execution_count": 21,
     "metadata": {},
     "output_type": "execute_result"
    }
   ],
   "source": [
    "s3"
   ]
  },
  {
   "cell_type": "code",
   "execution_count": 22,
   "id": "bf3f6c0b-b6d7-4a67-b936-510c0143e672",
   "metadata": {},
   "outputs": [
    {
     "data": {
      "text/plain": [
       "1.2"
      ]
     },
     "execution_count": 22,
     "metadata": {},
     "output_type": "execute_result"
    }
   ],
   "source": [
    "s2.pop()"
   ]
  },
  {
   "cell_type": "code",
   "execution_count": 23,
   "id": "f0e6cb4f-4690-44d0-be12-2d69d1217170",
   "metadata": {},
   "outputs": [
    {
     "data": {
      "text/plain": [
       "{3, 'gone'}"
      ]
     },
     "execution_count": 23,
     "metadata": {},
     "output_type": "execute_result"
    }
   ],
   "source": [
    "s2"
   ]
  },
  {
   "cell_type": "code",
   "execution_count": 24,
   "id": "ee088323-34bd-4292-b0a2-95c5b4d05ce3",
   "metadata": {},
   "outputs": [],
   "source": [
    "s2.remove(3)"
   ]
  },
  {
   "cell_type": "code",
   "execution_count": 25,
   "id": "7a3ad375-884d-4838-b568-eae9f6b91b23",
   "metadata": {},
   "outputs": [
    {
     "data": {
      "text/plain": [
       "{'gone'}"
      ]
     },
     "execution_count": 25,
     "metadata": {},
     "output_type": "execute_result"
    }
   ],
   "source": [
    "s2"
   ]
  },
  {
   "cell_type": "code",
   "execution_count": 26,
   "id": "fc548bd6-3eac-4218-9c8e-09197d58e85b",
   "metadata": {},
   "outputs": [],
   "source": [
    "s3.discard(1000)"
   ]
  },
  {
   "cell_type": "code",
   "execution_count": 27,
   "id": "8ad8dfc8-7407-4116-b723-21eb5501e8ef",
   "metadata": {},
   "outputs": [
    {
     "data": {
      "text/plain": [
       "{1.2, 3, 'gone'}"
      ]
     },
     "execution_count": 27,
     "metadata": {},
     "output_type": "execute_result"
    }
   ],
   "source": [
    "s3"
   ]
  },
  {
   "cell_type": "code",
   "execution_count": 28,
   "id": "0f3175ac-5b6b-45bd-ba73-643b945c4a96",
   "metadata": {},
   "outputs": [
    {
     "name": "stdout",
     "output_type": "stream",
     "text": [
      "{10, 20, 30, 15}\n",
      "{'gone'}\n",
      "{1.2, 'gone', 3}\n"
     ]
    }
   ],
   "source": [
    "print(s1)\n",
    "print(s2)\n",
    "print(s3)"
   ]
  },
  {
   "cell_type": "code",
   "execution_count": 30,
   "id": "62f37f95-6490-4c7c-8c0e-2c52ec1f8425",
   "metadata": {},
   "outputs": [
    {
     "name": "stdout",
     "output_type": "stream",
     "text": [
      "10\n",
      "20\n",
      "30\n",
      "15\n"
     ]
    }
   ],
   "source": [
    "for i in s1:\n",
    "    print(i)"
   ]
  },
  {
   "cell_type": "code",
   "execution_count": 31,
   "id": "6e192c17-0541-4332-baa8-c97820e6d04a",
   "metadata": {},
   "outputs": [
    {
     "name": "stdout",
     "output_type": "stream",
     "text": [
      "(0, 10)\n",
      "(1, 20)\n",
      "(2, 30)\n",
      "(3, 15)\n"
     ]
    }
   ],
   "source": [
    "for i in enumerate(s1):\n",
    "    print(i)\n"
   ]
  },
  {
   "cell_type": "markdown",
   "id": "b3943234-214b-409c-a38f-f1702b7f1a93",
   "metadata": {},
   "source": [
    "# set basic concepts completed "
   ]
  },
  {
   "cell_type": "markdown",
   "id": "f942f825-5c33-4f05-8cb8-ec7f5430ea32",
   "metadata": {},
   "source": [
    "# set operations"
   ]
  },
  {
   "cell_type": "code",
   "execution_count": 34,
   "id": "6395e609-026f-46c9-a88e-996445cdae9c",
   "metadata": {},
   "outputs": [],
   "source": [
    "a = {1,2,3,4,5,7}\n",
    "b= {10.2,30,40}\n",
    "c ={21,22,34,56}"
   ]
  },
  {
   "cell_type": "code",
   "execution_count": 33,
   "id": "75213f74-5518-45f7-9f5f-73aa50185b58",
   "metadata": {},
   "outputs": [
    {
     "data": {
      "text/plain": [
       "{1, 2, 3, 4, 5, 7, 10.2, 30, 40}"
      ]
     },
     "execution_count": 33,
     "metadata": {},
     "output_type": "execute_result"
    }
   ],
   "source": [
    "a.union(b)"
   ]
  },
  {
   "cell_type": "code",
   "execution_count": 36,
   "id": "fa1ca446-955c-4583-bd01-90137adadcc8",
   "metadata": {},
   "outputs": [
    {
     "data": {
      "text/plain": [
       "{1, 2, 3, 4, 5, 7, 21, 22, 34, 56}"
      ]
     },
     "execution_count": 36,
     "metadata": {},
     "output_type": "execute_result"
    }
   ],
   "source": [
    "a|c # pipe symbol "
   ]
  },
  {
   "cell_type": "code",
   "execution_count": 37,
   "id": "83fe62e2-82ef-4d95-947c-43f681df60b4",
   "metadata": {},
   "outputs": [
    {
     "data": {
      "text/plain": [
       "{10.2, 21, 22, 30, 34, 40, 56}"
      ]
     },
     "execution_count": 37,
     "metadata": {},
     "output_type": "execute_result"
    }
   ],
   "source": [
    "b|c"
   ]
  },
  {
   "cell_type": "code",
   "execution_count": 38,
   "id": "94b36f37-d6fb-4b1c-af1a-1d8970f92638",
   "metadata": {},
   "outputs": [
    {
     "data": {
      "text/plain": [
       "{1, 2, 3, 4, 5, 7, 10.2, 21, 22, 30, 34, 40, 56}"
      ]
     },
     "execution_count": 38,
     "metadata": {},
     "output_type": "execute_result"
    }
   ],
   "source": [
    "a|b|c"
   ]
  },
  {
   "cell_type": "code",
   "execution_count": 39,
   "id": "b4a1728e-310b-43c6-aa25-aa843f655d52",
   "metadata": {},
   "outputs": [
    {
     "name": "stdout",
     "output_type": "stream",
     "text": [
      "{1, 2, 3, 4, 5, 7}\n",
      "{40, 10.2, 30}\n",
      "{56, 34, 21, 22}\n"
     ]
    }
   ],
   "source": [
    "print(a)\n",
    "print(b)\n",
    "print(c)"
   ]
  },
  {
   "cell_type": "code",
   "execution_count": 40,
   "id": "1795ccc8-9f70-4eaf-93f0-29370d597c26",
   "metadata": {},
   "outputs": [
    {
     "data": {
      "text/plain": [
       "{1, 2, 3, 4, 5, 7}"
      ]
     },
     "execution_count": 40,
     "metadata": {},
     "output_type": "execute_result"
    }
   ],
   "source": [
    "a.difference(b)"
   ]
  },
  {
   "cell_type": "code",
   "execution_count": 41,
   "id": "566a6a25-d9f8-4a4f-8c10-4eae18deaf32",
   "metadata": {},
   "outputs": [
    {
     "data": {
      "text/plain": [
       "{21, 22, 34, 56}"
      ]
     },
     "execution_count": 41,
     "metadata": {},
     "output_type": "execute_result"
    }
   ],
   "source": [
    "c.difference(a)"
   ]
  },
  {
   "cell_type": "code",
   "execution_count": null,
   "id": "e95b59c0-f582-4522-8a79-65cc45fd21bc",
   "metadata": {},
   "outputs": [],
   "source": []
  },
  {
   "cell_type": "code",
   "execution_count": null,
   "id": "2b530c71-9f19-441e-befc-4e8f2214f78e",
   "metadata": {},
   "outputs": [],
   "source": []
  }
 ],
 "metadata": {
  "kernelspec": {
   "display_name": "Python 3 (ipykernel)",
   "language": "python",
   "name": "python3"
  },
  "language_info": {
   "codemirror_mode": {
    "name": "ipython",
    "version": 3
   },
   "file_extension": ".py",
   "mimetype": "text/x-python",
   "name": "python",
   "nbconvert_exporter": "python",
   "pygments_lexer": "ipython3",
   "version": "3.12.7"
  }
 },
 "nbformat": 4,
 "nbformat_minor": 5
}
