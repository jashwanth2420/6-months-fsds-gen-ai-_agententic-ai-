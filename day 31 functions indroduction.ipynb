{
 "cells": [
  {
   "cell_type": "code",
   "execution_count": 2,
   "id": "6687ddb9-f591-4380-a852-672efea8504a",
   "metadata": {},
   "outputs": [
    {
     "name": "stdout",
     "output_type": "stream",
     "text": [
      "hey buddy\n"
     ]
    }
   ],
   "source": [
    "def greet():\n",
    "    print('hey buddy')\n",
    "greet()\n"
   ]
  },
  {
   "cell_type": "code",
   "execution_count": 3,
   "id": "62cddbef-a952-482f-837f-e6f17f546413",
   "metadata": {},
   "outputs": [
    {
     "name": "stdout",
     "output_type": "stream",
     "text": [
      "hey buddy\n",
      "how are you\n"
     ]
    }
   ],
   "source": [
    "def greet():\n",
    "    print('hey buddy')\n",
    "    print('how are you')\n",
    "greet()\n"
   ]
  },
  {
   "cell_type": "code",
   "execution_count": 4,
   "id": "68d798a2-a070-4ecc-a359-9bea285e1bf8",
   "metadata": {},
   "outputs": [
    {
     "name": "stdout",
     "output_type": "stream",
     "text": [
      "hello\n",
      "good morning team\n",
      "hello\n",
      "good morning team\n"
     ]
    }
   ],
   "source": [
    "def greet(): \n",
    "    print('hello')\n",
    "    print('good morning team')\n",
    "greet()\n",
    "\n",
    "def greet(): \n",
    "    print('hello')\n",
    "    print('good morning team')\n",
    "greet()"
   ]
  },
  {
   "cell_type": "code",
   "execution_count": 9,
   "id": "2348f4bc-9b6c-40f7-a9c8-946ce11d5515",
   "metadata": {},
   "outputs": [
    {
     "name": "stdout",
     "output_type": "stream",
     "text": [
      "hello\n",
      "good morning team\n",
      "\n",
      "hello\n",
      "good morning team\n"
     ]
    }
   ],
   "source": [
    "def greet(): \n",
    "    print('hello')\n",
    "    print('good morning team')\n",
    "\n",
    "def greet(): \n",
    "    print('hello')\n",
    "    print('good morning team')\n",
    "    \n",
    "greet()\n",
    "\n",
    "print()\n",
    "greet()"
   ]
  },
  {
   "cell_type": "code",
   "execution_count": 10,
   "id": "54235e62-295b-486b-903a-5f892d482ae3",
   "metadata": {},
   "outputs": [
    {
     "name": "stdout",
     "output_type": "stream",
     "text": [
      "7\n"
     ]
    }
   ],
   "source": [
    "# function with argument \n",
    "\n",
    "def add(x,y):\n",
    "    c=x+y\n",
    "    print(c)\n",
    "add(3,4)"
   ]
  },
  {
   "cell_type": "code",
   "execution_count": 12,
   "id": "7f84735f-2b4b-4cdf-a821-17df8f621fd9",
   "metadata": {},
   "outputs": [
    {
     "data": {
      "text/plain": [
       "70"
      ]
     },
     "execution_count": 12,
     "metadata": {},
     "output_type": "execute_result"
    }
   ],
   "source": [
    "def add(x,y):\n",
    "    c=x+y\n",
    "    return c \n",
    "add(30,40)"
   ]
  },
  {
   "cell_type": "code",
   "execution_count": 14,
   "id": "de7d38be-ebc3-4091-ada8-5f80249d1761",
   "metadata": {},
   "outputs": [
    {
     "name": "stdout",
     "output_type": "stream",
     "text": [
      "hey team \n",
      "how are you\n",
      "210\n",
      "28\n"
     ]
    }
   ],
   "source": [
    "def greet():\n",
    "    print('hey team ')\n",
    "    print('how are you')\n",
    "\n",
    "\n",
    "def add(x,y):\n",
    "    c=x+y\n",
    "    return c \n",
    "\n",
    "def sub(a,b):\n",
    "    z=a-b\n",
    "    return z \n",
    "\n",
    "greet()\n",
    "print(add(10,200))\n",
    "print(sub(30,2))"
   ]
  },
  {
   "cell_type": "code",
   "execution_count": 15,
   "id": "1a2ab13e-f3d4-4725-986b-e7df06f8d705",
   "metadata": {},
   "outputs": [
    {
     "data": {
      "text/plain": [
       "(30, -10)"
      ]
     },
     "execution_count": 15,
     "metadata": {},
     "output_type": "execute_result"
    }
   ],
   "source": [
    "def add_sub(x,y):\n",
    "    z=x+y\n",
    "    c=x-y\n",
    "    return z,c\n",
    "add_sub(10,20)"
   ]
  },
  {
   "cell_type": "code",
   "execution_count": 17,
   "id": "81b51d7f-ba59-4892-bca8-32293e49c7db",
   "metadata": {},
   "outputs": [
    {
     "name": "stdout",
     "output_type": "stream",
     "text": [
      "(30, -10)\n",
      "<class 'tuple'>\n"
     ]
    }
   ],
   "source": [
    "def add_sub(x,y):\n",
    "    z=x+y\n",
    "    c=x-y\n",
    "    return z,c\n",
    "output=add_sub(10,20)\n",
    "print(output)\n",
    "print(type(output))"
   ]
  },
  {
   "cell_type": "code",
   "execution_count": 19,
   "id": "99a3e4e7-2e87-47e9-933c-fe54329fdb18",
   "metadata": {},
   "outputs": [
    {
     "name": "stdout",
     "output_type": "stream",
     "text": [
      "30\n",
      "-10\n",
      "<class 'int'>\n"
     ]
    }
   ],
   "source": [
    "def add_sub(x,y):\n",
    "    z=x+y\n",
    "    c=x-y\n",
    "    return z,c\n",
    "output1 , output2 =add_sub(10,20)\n",
    "print(output1)\n",
    "print(output2)\n",
    "print(type(output1))"
   ]
  },
  {
   "cell_type": "code",
   "execution_count": 20,
   "id": "c79f9443-f2c9-4063-bd77-d76c8f71c8dc",
   "metadata": {},
   "outputs": [
    {
     "name": "stdout",
     "output_type": "stream",
     "text": [
      "9\n",
      "-1\n",
      "20\n"
     ]
    }
   ],
   "source": [
    "def add_sub_mul(x,y): # these are called the foraml arguments \n",
    "    c= x+y\n",
    "    d= x-y\n",
    "    e= x*y\n",
    "    return c, d, e \n",
    "    \n",
    "add, sub, mul = add_sub_mul(4,5) # these aruguments are called the actual arguments \n",
    "\n",
    "print(add)\n",
    "print(sub)\n",
    "print(mul)"
   ]
  },
  {
   "cell_type": "code",
   "execution_count": 23,
   "id": "dc295d26-ccc8-4fff-b64e-a303b4889f8f",
   "metadata": {},
   "outputs": [
    {
     "data": {
      "text/plain": [
       "8"
      ]
     },
     "execution_count": 23,
     "metadata": {},
     "output_type": "execute_result"
    }
   ],
   "source": [
    "def update():  \n",
    "    x = 8\n",
    "    return x\n",
    "    \n",
    "update()"
   ]
  },
  {
   "cell_type": "code",
   "execution_count": 26,
   "id": "720ab5e6-2112-4ac0-bddc-d13342738f63",
   "metadata": {},
   "outputs": [
    {
     "name": "stdout",
     "output_type": "stream",
     "text": [
      "15\n"
     ]
    }
   ],
   "source": [
    "def update(x):   # update the value \n",
    "    x = 8\n",
    "    return x\n",
    "    \n",
    "a = 15\n",
    "update(a)\n",
    "print(a)"
   ]
  },
  {
   "cell_type": "code",
   "execution_count": 25,
   "id": "3ec369e7-f06a-43d7-ad51-a8dbfba9d4b8",
   "metadata": {},
   "outputs": [
    {
     "name": "stdout",
     "output_type": "stream",
     "text": [
      "200\n"
     ]
    }
   ],
   "source": [
    "def function(y):\n",
    "    y=20\n",
    "    return y \n",
    "b=200\n",
    "update(b)\n",
    "print(b)\n",
    "    "
   ]
  },
  {
   "cell_type": "code",
   "execution_count": null,
   "id": "b8bf75a7-d2a2-46b6-a1bf-8e4454ce9000",
   "metadata": {},
   "outputs": [],
   "source": []
  }
 ],
 "metadata": {
  "kernelspec": {
   "display_name": "Python 3 (ipykernel)",
   "language": "python",
   "name": "python3"
  },
  "language_info": {
   "codemirror_mode": {
    "name": "ipython",
    "version": 3
   },
   "file_extension": ".py",
   "mimetype": "text/x-python",
   "name": "python",
   "nbconvert_exporter": "python",
   "pygments_lexer": "ipython3",
   "version": "3.12.7"
  }
 },
 "nbformat": 4,
 "nbformat_minor": 5
}
