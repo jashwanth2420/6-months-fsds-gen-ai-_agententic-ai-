{
 "cells": [
  {
   "cell_type": "code",
   "execution_count": 1,
   "id": "a567df50-1af6-44ee-abd4-0a2262b67960",
   "metadata": {},
   "outputs": [],
   "source": [
    "import math # math is a module "
   ]
  },
  {
   "cell_type": "code",
   "execution_count": 2,
   "id": "83dbcb4b-b832-427c-91eb-1662a2cbb2c1",
   "metadata": {},
   "outputs": [
    {
     "data": {
      "text/plain": [
       "5.830951894845301"
      ]
     },
     "execution_count": 2,
     "metadata": {},
     "output_type": "execute_result"
    }
   ],
   "source": [
    "x=math.sqrt(34)\n",
    "x"
   ]
  },
  {
   "cell_type": "code",
   "execution_count": 6,
   "id": "479316a4-039d-4cfb-9df9-2b3af2ebb6ea",
   "metadata": {},
   "outputs": [
    {
     "name": "stdout",
     "output_type": "stream",
     "text": [
      "2\n"
     ]
    }
   ],
   "source": [
    "print(math.floor(2.9)) # floor is the minimum value which 2.9 lies between 2 and 3"
   ]
  },
  {
   "cell_type": "code",
   "execution_count": 5,
   "id": "62ab952d-56d6-4512-a20b-da21ed776913",
   "metadata": {},
   "outputs": [
    {
     "name": "stdout",
     "output_type": "stream",
     "text": [
      "3\n"
     ]
    }
   ],
   "source": [
    "print(math.ceil(2.9)) # ceil is the maximum value "
   ]
  },
  {
   "cell_type": "code",
   "execution_count": 7,
   "id": "82fcc0ae-b38d-4c8f-ae8e-051ab7378ee8",
   "metadata": {},
   "outputs": [
    {
     "name": "stdout",
     "output_type": "stream",
     "text": [
      "81.0\n"
     ]
    }
   ],
   "source": [
    "print(math.pow(3,4))"
   ]
  },
  {
   "cell_type": "code",
   "execution_count": 11,
   "id": "725180c4-b662-42c9-84c2-306682cdf3a5",
   "metadata": {},
   "outputs": [
    {
     "name": "stdout",
     "output_type": "stream",
     "text": [
      "3.141592653589793\n"
     ]
    }
   ],
   "source": [
    "print(math.pi) # these are constant values "
   ]
  },
  {
   "cell_type": "code",
   "execution_count": 10,
   "id": "b7a42281-abd8-4ac8-bc76-29e97402f575",
   "metadata": {},
   "outputs": [
    {
     "name": "stdout",
     "output_type": "stream",
     "text": [
      "2.718281828459045\n"
     ]
    }
   ],
   "source": [
    "print(math.e) # these are constant"
   ]
  },
  {
   "cell_type": "code",
   "execution_count": 13,
   "id": "2e79ac1e-bb28-462f-b820-ba20d88d1853",
   "metadata": {},
   "outputs": [],
   "source": [
    "import math as m  # importing math as m "
   ]
  },
  {
   "cell_type": "code",
   "execution_count": 14,
   "id": "88889d00-e41e-4ad1-89d8-18eacd948dd3",
   "metadata": {},
   "outputs": [
    {
     "name": "stdout",
     "output_type": "stream",
     "text": [
      "10.0\n"
     ]
    }
   ],
   "source": [
    "print(m.sqrt(100))"
   ]
  },
  {
   "cell_type": "code",
   "execution_count": 15,
   "id": "3dca8132-360b-4505-95f8-0b62619c225b",
   "metadata": {},
   "outputs": [
    {
     "name": "stdout",
     "output_type": "stream",
     "text": [
      "31.622776601683793\n",
      "729.0\n"
     ]
    }
   ],
   "source": [
    "from math import sqrt,pow\n",
    "print(m.sqrt(1000))\n",
    "print(m.pow(3,6))"
   ]
  },
  {
   "cell_type": "code",
   "execution_count": 16,
   "id": "c3f7c665-3e33-4194-a073-0b7d57559840",
   "metadata": {},
   "outputs": [
    {
     "data": {
      "text/plain": [
       "729"
      ]
     },
     "execution_count": 16,
     "metadata": {},
     "output_type": "execute_result"
    }
   ],
   "source": [
    "round(pow(3,6))"
   ]
  },
  {
   "cell_type": "code",
   "execution_count": 17,
   "id": "395d6a82-3414-49b7-a694-6170d95f7df1",
   "metadata": {},
   "outputs": [
    {
     "data": {
      "text/plain": [
       "32"
      ]
     },
     "execution_count": 17,
     "metadata": {},
     "output_type": "execute_result"
    }
   ],
   "source": [
    "round(sqrt(1000))"
   ]
  },
  {
   "cell_type": "markdown",
   "id": "e4a92ba0-83ae-4961-a771-6530d3df2fb4",
   "metadata": {},
   "source": [
    "# user input function in python "
   ]
  },
  {
   "cell_type": "code",
   "execution_count": 18,
   "id": "f7635e98-0138-4490-9886-451fb8d4995a",
   "metadata": {},
   "outputs": [
    {
     "name": "stdin",
     "output_type": "stream",
     "text": [
      " 1\n",
      " 1\n"
     ]
    },
    {
     "name": "stdout",
     "output_type": "stream",
     "text": [
      "11\n"
     ]
    }
   ],
   "source": [
    "x = input()\n",
    "y = input ()\n",
    "z=x+y\n",
    "print(z)"
   ]
  },
  {
   "cell_type": "code",
   "execution_count": 19,
   "id": "23e86692-7822-45f4-83f7-07816824ef02",
   "metadata": {},
   "outputs": [
    {
     "name": "stdin",
     "output_type": "stream",
     "text": [
      " 23\n",
      " 34\n"
     ]
    },
    {
     "name": "stdout",
     "output_type": "stream",
     "text": [
      "57\n"
     ]
    }
   ],
   "source": [
    "x = int(input())\n",
    "y = int(input ())\n",
    "z=x+y\n",
    "print(z)"
   ]
  },
  {
   "cell_type": "code",
   "execution_count": 23,
   "id": "33111fb6-27a0-444e-8861-00da8143a80a",
   "metadata": {},
   "outputs": [
    {
     "name": "stdin",
     "output_type": "stream",
     "text": [
      "enter the first number  234\n",
      "enter the second num 456\n"
     ]
    },
    {
     "name": "stdout",
     "output_type": "stream",
     "text": [
      "The output :  690\n"
     ]
    }
   ],
   "source": [
    "x = int( input('enter the first number '))\n",
    "y = int( input ('enter the second num'))\n",
    "z=x+y\n",
    "print( 'The output : ',z)"
   ]
  },
  {
   "cell_type": "code",
   "execution_count": 24,
   "id": "ea5e2c2f-be3c-428b-8469-fcc09071a289",
   "metadata": {},
   "outputs": [
    {
     "name": "stdin",
     "output_type": "stream",
     "text": [
      "enter a char mike\n"
     ]
    },
    {
     "name": "stdout",
     "output_type": "stream",
     "text": [
      "mike\n"
     ]
    }
   ],
   "source": [
    "ch = input('enter a char')\n",
    "print(ch)"
   ]
  },
  {
   "cell_type": "code",
   "execution_count": 25,
   "id": "209e7083-6119-4ab1-991f-641ab4ba27c9",
   "metadata": {},
   "outputs": [
    {
     "data": {
      "text/plain": [
       "'m'"
      ]
     },
     "execution_count": 25,
     "metadata": {},
     "output_type": "execute_result"
    }
   ],
   "source": [
    "ch[0]"
   ]
  },
  {
   "cell_type": "code",
   "execution_count": 26,
   "id": "918e73de-49cb-438a-9166-67ec1372abdd",
   "metadata": {},
   "outputs": [
    {
     "data": {
      "text/plain": [
       "'e'"
      ]
     },
     "execution_count": 26,
     "metadata": {},
     "output_type": "execute_result"
    }
   ],
   "source": [
    "ch[-1]"
   ]
  },
  {
   "cell_type": "code",
   "execution_count": 28,
   "id": "be355b2e-519c-4b2b-81bc-450d46a22c43",
   "metadata": {},
   "outputs": [
    {
     "name": "stdin",
     "output_type": "stream",
     "text": [
      "enter the expression  2+3+5*8-10\n"
     ]
    },
    {
     "name": "stdout",
     "output_type": "stream",
     "text": [
      "35\n"
     ]
    }
   ],
   "source": [
    "result = eval(input('enter the expression ')) # eval is used cal the expression because the iput by default provide the string as output\n",
    "print(result)"
   ]
  },
  {
   "cell_type": "code",
   "execution_count": null,
   "id": "71b2d6a9-f0eb-4503-bd6f-cfed829a2491",
   "metadata": {},
   "outputs": [],
   "source": []
  },
  {
   "cell_type": "code",
   "execution_count": null,
   "id": "8e48ffa5-b394-4416-a8da-e4331065fdbe",
   "metadata": {},
   "outputs": [],
   "source": []
  },
  {
   "cell_type": "code",
   "execution_count": null,
   "id": "5df5ad10-1ebd-4577-b9a6-e1cbc9e260a8",
   "metadata": {},
   "outputs": [],
   "source": []
  },
  {
   "cell_type": "code",
   "execution_count": null,
   "id": "54dbf99f-6e33-4166-affa-901228449c51",
   "metadata": {},
   "outputs": [],
   "source": []
  },
  {
   "cell_type": "code",
   "execution_count": null,
   "id": "5e78c059-c1ae-4174-b1ce-2116ec6bbc53",
   "metadata": {},
   "outputs": [],
   "source": []
  }
 ],
 "metadata": {
  "kernelspec": {
   "display_name": "Python 3 (ipykernel)",
   "language": "python",
   "name": "python3"
  },
  "language_info": {
   "codemirror_mode": {
    "name": "ipython",
    "version": 3
   },
   "file_extension": ".py",
   "mimetype": "text/x-python",
   "name": "python",
   "nbconvert_exporter": "python",
   "pygments_lexer": "ipython3",
   "version": "3.12.7"
  }
 },
 "nbformat": 4,
 "nbformat_minor": 5
}
