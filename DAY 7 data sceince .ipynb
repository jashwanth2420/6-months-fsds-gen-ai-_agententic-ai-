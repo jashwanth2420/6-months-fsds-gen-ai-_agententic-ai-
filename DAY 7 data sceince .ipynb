{
 "cells": [
  {
   "cell_type": "code",
   "execution_count": 1,
   "id": "1c0acadb-b395-4cbf-b6d5-748d87cc17d4",
   "metadata": {},
   "outputs": [],
   "source": [
    "p=q=r=20"
   ]
  },
  {
   "cell_type": "code",
   "execution_count": 3,
   "id": "79b0fe58-029a-4deb-9f3b-859859c4e6eb",
   "metadata": {},
   "outputs": [],
   "source": [
    "p1=q1=r1=40"
   ]
  },
  {
   "cell_type": "code",
   "execution_count": 5,
   "id": "0a9ada62-4d06-47be-ac41-f0f77c97bafd",
   "metadata": {},
   "outputs": [
    {
     "name": "stdout",
     "output_type": "stream",
     "text": [
      "140710783168152\n",
      "140710783168152\n",
      "140710783168152\n"
     ]
    }
   ],
   "source": [
    "print(id(p1))\n",
    "print(id (q1))\n",
    "print(id(r1))"
   ]
  },
  {
   "cell_type": "code",
   "execution_count": 15,
   "id": "41f8f75e-1b71-44e8-8074-23524f89a5c0",
   "metadata": {},
   "outputs": [
    {
     "name": "stdout",
     "output_type": "stream",
     "text": [
      "hello world\n"
     ]
    }
   ],
   "source": [
    "H1 ='hello world'\n",
    "print(H1)\n"
   ]
  },
  {
   "cell_type": "code",
   "execution_count": 16,
   "id": "21e6dfb0-698f-4a31-a7d5-6f7cff84a518",
   "metadata": {},
   "outputs": [
    {
     "data": {
      "text/plain": [
       "11"
      ]
     },
     "execution_count": 16,
     "metadata": {},
     "output_type": "execute_result"
    }
   ],
   "source": [
    "len(H1)"
   ]
  },
  {
   "cell_type": "code",
   "execution_count": 20,
   "id": "d2470133-eef7-4a24-a34d-42ee4e6cff06",
   "metadata": {},
   "outputs": [
    {
     "name": "stdout",
     "output_type": "stream",
     "text": [
      "h\n",
      "d\n"
     ]
    }
   ],
   "source": [
    "print(H1[0])\n",
    "print(H1[-1])"
   ]
  },
  {
   "cell_type": "code",
   "execution_count": 27,
   "id": "cdb62dc1-21b9-4a74-8bd7-79e3e5da5e02",
   "metadata": {},
   "outputs": [
    {
     "name": "stdout",
     "output_type": "stream",
     "text": [
      " wor\n"
     ]
    }
   ],
   "source": [
    "print(H1[5:9])"
   ]
  },
  {
   "cell_type": "code",
   "execution_count": 28,
   "id": "058e9d51-e250-4ff3-bab4-3c585c33a543",
   "metadata": {},
   "outputs": [
    {
     "name": "stdout",
     "output_type": "stream",
     "text": [
      "worl\n"
     ]
    }
   ],
   "source": [
    "print(H1[-5:-1])"
   ]
  },
  {
   "cell_type": "code",
   "execution_count": 29,
   "id": "c94ebe83-12c5-4e8c-b1e8-5ae2b0dcc678",
   "metadata": {},
   "outputs": [
    {
     "data": {
      "text/plain": [
       "'hello python'"
      ]
     },
     "execution_count": 29,
     "metadata": {},
     "output_type": "execute_result"
    }
   ],
   "source": [
    "s='hello python'\n",
    "s"
   ]
  },
  {
   "cell_type": "code",
   "execution_count": 30,
   "id": "5d0a1c23-7cfa-4898-acbd-4ae06dfc7ab7",
   "metadata": {},
   "outputs": [
    {
     "data": {
      "text/plain": [
       "'hello'"
      ]
     },
     "execution_count": 30,
     "metadata": {},
     "output_type": "execute_result"
    }
   ],
   "source": [
    "s[:5]"
   ]
  },
  {
   "cell_type": "code",
   "execution_count": 31,
   "id": "3aad84c8-781a-4a37-b439-74bcff50cc09",
   "metadata": {},
   "outputs": [
    {
     "data": {
      "text/plain": [
       "'llo python'"
      ]
     },
     "execution_count": 31,
     "metadata": {},
     "output_type": "execute_result"
    }
   ],
   "source": [
    "s[2:]"
   ]
  },
  {
   "cell_type": "code",
   "execution_count": 32,
   "id": "62ecf7d6-c52b-435d-bf84-c20f2b30acca",
   "metadata": {},
   "outputs": [
    {
     "data": {
      "text/plain": [
       "'nohtyp olleh'"
      ]
     },
     "execution_count": 32,
     "metadata": {},
     "output_type": "execute_result"
    }
   ],
   "source": [
    "s[::-1]"
   ]
  },
  {
   "cell_type": "code",
   "execution_count": 33,
   "id": "39859e63-30fa-4557-a26e-2aff911a8d81",
   "metadata": {},
   "outputs": [
    {
     "data": {
      "text/plain": [
       "'hlopto'"
      ]
     },
     "execution_count": 33,
     "metadata": {},
     "output_type": "execute_result"
    }
   ],
   "source": [
    "s[0:13:2]"
   ]
  },
  {
   "cell_type": "code",
   "execution_count": 34,
   "id": "b1eb2eb3-a881-4e9b-a6ce-fc2b3f887526",
   "metadata": {},
   "outputs": [
    {
     "data": {
      "text/plain": [
       "'h o'"
      ]
     },
     "execution_count": 34,
     "metadata": {},
     "output_type": "execute_result"
    }
   ],
   "source": [
    "s[0:13:5]"
   ]
  },
  {
   "cell_type": "code",
   "execution_count": null,
   "id": "e9e966a1-bc73-433b-9a94-c789649e9607",
   "metadata": {},
   "outputs": [],
   "source": []
  }
 ],
 "metadata": {
  "kernelspec": {
   "display_name": "Python 3 (ipykernel)",
   "language": "python",
   "name": "python3"
  },
  "language_info": {
   "codemirror_mode": {
    "name": "ipython",
    "version": 3
   },
   "file_extension": ".py",
   "mimetype": "text/x-python",
   "name": "python",
   "nbconvert_exporter": "python",
   "pygments_lexer": "ipython3",
   "version": "3.12.7"
  }
 },
 "nbformat": 4,
 "nbformat_minor": 5
}
