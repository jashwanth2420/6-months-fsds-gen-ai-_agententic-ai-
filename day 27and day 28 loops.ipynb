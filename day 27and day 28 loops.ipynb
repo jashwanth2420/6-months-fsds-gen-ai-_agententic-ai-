{
 "cells": [
  {
   "cell_type": "code",
   "execution_count": 4,
   "id": "2c6f9baf-799b-4e86-b5e4-c1ab1d32b58f",
   "metadata": {},
   "outputs": [
    {
     "name": "stdout",
     "output_type": "stream",
     "text": [
      "hey bhai : 1\n",
      "hey bhai : 2\n",
      "hey bhai : 3\n",
      "hey bhai : 4\n",
      "hey bhai : 5\n"
     ]
    }
   ],
   "source": [
    "i=1\n",
    "while i<=5:\n",
    "    print('hey bhai :',i)\n",
    "    i+=1"
   ]
  },
  {
   "cell_type": "code",
   "execution_count": 9,
   "id": "97b478bf-c8c3-451b-bf65-7f49dfd39951",
   "metadata": {},
   "outputs": [
    {
     "name": "stdout",
     "output_type": "stream",
     "text": [
      "model model\n",
      "model model\n",
      "model model\n",
      "model model\n",
      "model model\n"
     ]
    }
   ],
   "source": [
    "i = 5\n",
    "while i>=1:\n",
    "    print('model model')\n",
    "    i-=1 # decrement "
   ]
  },
  {
   "cell_type": "code",
   "execution_count": 13,
   "id": "fc99e538-e34c-4fe2-8ce9-6fe12f4e2628",
   "metadata": {},
   "outputs": [
    {
     "name": "stdout",
     "output_type": "stream",
     "text": [
      "data sceice\n",
      "evadra nuvvu\n",
      "evadra nuvvu\n",
      "evadra nuvvu\n",
      "evadra nuvvu\n",
      "data sceice\n",
      "evadra nuvvu\n",
      "evadra nuvvu\n",
      "evadra nuvvu\n",
      "evadra nuvvu\n",
      "data sceice\n",
      "evadra nuvvu\n",
      "evadra nuvvu\n",
      "evadra nuvvu\n",
      "evadra nuvvu\n",
      "data sceice\n",
      "evadra nuvvu\n",
      "evadra nuvvu\n",
      "evadra nuvvu\n",
      "evadra nuvvu\n"
     ]
    }
   ],
   "source": [
    "i=1\n",
    "while i<5:\n",
    "    print('data sceice')\n",
    "    j=0\n",
    "    while j<4:\n",
    "        print('evadra nuvvu')\n",
    "        j+=1\n",
    "    i+=1"
   ]
  },
  {
   "cell_type": "code",
   "execution_count": 24,
   "id": "6c2590a8-17d7-4f6f-a977-3849fd0fbb8a",
   "metadata": {},
   "outputs": [
    {
     "name": "stdout",
     "output_type": "stream",
     "text": [
      "data sceice  evadranuvvu evadranuvvu evadranuvvu evadranuvvu evadranuvvu\n",
      "data sceice  evadranuvvu evadranuvvu evadranuvvu evadranuvvu evadranuvvu\n",
      "data sceice  evadranuvvu evadranuvvu evadranuvvu evadranuvvu evadranuvvu\n",
      "data sceice  evadranuvvu evadranuvvu evadranuvvu evadranuvvu evadranuvvu\n"
     ]
    }
   ],
   "source": [
    "i=1\n",
    "while i<5:\n",
    "    print('data sceice ' , end=\"\") # nested while loop \n",
    "    j=0\n",
    "    while j<=4:\n",
    "        print(' evadranuvvu', end=\"\")\n",
    "        j+=1\n",
    "    i+=1\n",
    "    print()"
   ]
  },
  {
   "cell_type": "code",
   "execution_count": 26,
   "id": "f6ba0819-2a3b-4a33-a69a-622346e5e9a5",
   "metadata": {},
   "outputs": [
    {
     "name": "stdout",
     "output_type": "stream",
     "text": [
      "012\n",
      "024\n",
      "036\n"
     ]
    }
   ],
   "source": [
    "# while loop usig some numbers\n",
    "i=1\n",
    "while i<=3:\n",
    "    j=0\n",
    "    while j<=2:\n",
    "        print(i*j,end=\"\")\n",
    "        j+=1\n",
    "    i+=1\n",
    "    print()"
   ]
  },
  {
   "cell_type": "markdown",
   "id": "2ca5bbf8-0f11-4c48-89a2-659d797c6c11",
   "metadata": {},
   "source": [
    "# for loop "
   ]
  },
  {
   "cell_type": "code",
   "execution_count": 27,
   "id": "353b81c3-5f06-4dcb-b10b-9ec014372f0f",
   "metadata": {},
   "outputs": [
    {
     "name": "stdout",
     "output_type": "stream",
     "text": [
      "n\n",
      "i\n",
      "t\n"
     ]
    }
   ],
   "source": [
    "name= 'nit'\n",
    "\n",
    "for i in name:\n",
    "    print(i)"
   ]
  },
  {
   "cell_type": "code",
   "execution_count": 28,
   "id": "6dfd7767-5468-45d0-9b7a-49ce199809e8",
   "metadata": {},
   "outputs": [
    {
     "name": "stdout",
     "output_type": "stream",
     "text": [
      "1\n",
      "2\n",
      "3\n",
      "4\n"
     ]
    }
   ],
   "source": [
    "for i in range(1,5):\n",
    "    print(i)"
   ]
  },
  {
   "cell_type": "code",
   "execution_count": 30,
   "id": "9fc8df7f-3489-426a-ac06-075ac3fccd2a",
   "metadata": {},
   "outputs": [
    {
     "name": "stdout",
     "output_type": "stream",
     "text": [
      "1\n",
      "5\n",
      "9\n"
     ]
    }
   ],
   "source": [
    "for i in range(1,10,4):\n",
    "    print(i)"
   ]
  },
  {
   "cell_type": "code",
   "execution_count": 32,
   "id": "36e79903-46ac-46dc-a3ea-434a47750a27",
   "metadata": {},
   "outputs": [
    {
     "name": "stdout",
     "output_type": "stream",
     "text": [
      "5\n",
      "10\n",
      "15\n",
      "20\n"
     ]
    }
   ],
   "source": [
    "for i in range(1,21):\n",
    "    if i%5==0:\n",
    "        print(i)\n",
    "    "
   ]
  },
  {
   "cell_type": "code",
   "execution_count": 34,
   "id": "f54e1e7e-f713-4e47-a126-31da07450385",
   "metadata": {},
   "outputs": [
    {
     "name": "stdout",
     "output_type": "stream",
     "text": [
      "10\n",
      "20\n",
      "30\n",
      "40\n",
      "50\n",
      "60\n",
      "70\n",
      "80\n",
      "90\n",
      "100\n",
      "110\n",
      "120\n",
      "130\n",
      "140\n",
      "150\n",
      "160\n",
      "170\n",
      "180\n",
      "190\n",
      "200\n",
      "210\n",
      "220\n",
      "230\n",
      "240\n",
      "250\n",
      "260\n",
      "270\n",
      "280\n",
      "290\n",
      "300\n",
      "310\n",
      "320\n",
      "330\n",
      "340\n",
      "350\n",
      "360\n",
      "370\n",
      "380\n",
      "390\n",
      "400\n",
      "410\n",
      "420\n",
      "430\n",
      "440\n",
      "450\n",
      "460\n",
      "470\n",
      "480\n",
      "490\n"
     ]
    }
   ],
   "source": [
    "for i in range (10,500):\n",
    "    if i%10==0:\n",
    "        print(i)"
   ]
  },
  {
   "cell_type": "code",
   "execution_count": 36,
   "id": "3146f4ab-0301-45fa-9d56-5375798d655c",
   "metadata": {},
   "outputs": [
    {
     "name": "stdout",
     "output_type": "stream",
     "text": [
      "11\n",
      "12\n",
      "13\n",
      "14\n",
      "15\n",
      "16\n",
      "17\n",
      "18\n",
      "19\n",
      "21\n",
      "22\n",
      "23\n",
      "24\n",
      "25\n",
      "26\n",
      "27\n",
      "28\n",
      "29\n",
      "31\n",
      "32\n",
      "33\n",
      "34\n",
      "35\n",
      "36\n",
      "37\n",
      "38\n",
      "39\n",
      "41\n",
      "42\n",
      "43\n",
      "44\n",
      "45\n",
      "46\n",
      "47\n",
      "48\n",
      "49\n",
      "51\n",
      "52\n",
      "53\n",
      "54\n",
      "55\n",
      "56\n",
      "57\n",
      "58\n",
      "59\n",
      "61\n",
      "62\n",
      "63\n",
      "64\n",
      "65\n",
      "66\n",
      "67\n",
      "68\n",
      "69\n",
      "71\n",
      "72\n",
      "73\n",
      "74\n",
      "75\n",
      "76\n",
      "77\n",
      "78\n",
      "79\n",
      "81\n",
      "82\n",
      "83\n",
      "84\n",
      "85\n",
      "86\n",
      "87\n",
      "88\n",
      "89\n",
      "91\n",
      "92\n",
      "93\n",
      "94\n",
      "95\n",
      "96\n",
      "97\n",
      "98\n",
      "99\n",
      "101\n",
      "102\n",
      "103\n",
      "104\n",
      "105\n",
      "106\n",
      "107\n",
      "108\n",
      "109\n",
      "111\n",
      "112\n",
      "113\n",
      "114\n",
      "115\n",
      "116\n",
      "117\n",
      "118\n",
      "119\n",
      "121\n",
      "122\n",
      "123\n",
      "124\n",
      "125\n",
      "126\n",
      "127\n",
      "128\n",
      "129\n",
      "131\n",
      "132\n",
      "133\n",
      "134\n",
      "135\n",
      "136\n",
      "137\n",
      "138\n",
      "139\n",
      "141\n",
      "142\n",
      "143\n",
      "144\n",
      "145\n",
      "146\n",
      "147\n",
      "148\n",
      "149\n",
      "151\n",
      "152\n",
      "153\n",
      "154\n",
      "155\n",
      "156\n",
      "157\n",
      "158\n",
      "159\n",
      "161\n",
      "162\n",
      "163\n",
      "164\n",
      "165\n",
      "166\n",
      "167\n",
      "168\n",
      "169\n",
      "171\n",
      "172\n",
      "173\n",
      "174\n",
      "175\n",
      "176\n",
      "177\n",
      "178\n",
      "179\n",
      "181\n",
      "182\n",
      "183\n",
      "184\n",
      "185\n",
      "186\n",
      "187\n",
      "188\n",
      "189\n",
      "191\n",
      "192\n",
      "193\n",
      "194\n",
      "195\n",
      "196\n",
      "197\n",
      "198\n",
      "199\n"
     ]
    }
   ],
   "source": [
    "for i in range (10,200):\n",
    "    if i%10!=0:\n",
    "        print(i)"
   ]
  },
  {
   "cell_type": "code",
   "execution_count": 38,
   "id": "5c10bd12-ac18-4a77-81c2-0e6d12b472ea",
   "metadata": {},
   "outputs": [
    {
     "name": "stdin",
     "output_type": "stream",
     "text": [
      "how many chocaltes u want :? 3\n"
     ]
    },
    {
     "name": "stdout",
     "output_type": "stream",
     "text": [
      "chocolate\n",
      "chocolate\n",
      "chocolate\n"
     ]
    }
   ],
   "source": [
    "x=int(input('how many chocaltes u want :?'))\n",
    "\n",
    "i=1\n",
    "while i<=x:\n",
    "    print('chocolate')\n",
    "    i+=1"
   ]
  },
  {
   "cell_type": "code",
   "execution_count": 58,
   "id": "6b6b8a41-e3cb-4068-a601-f26b058ef60c",
   "metadata": {},
   "outputs": [
    {
     "name": "stdin",
     "output_type": "stream",
     "text": [
      "how many chocaltes u want :? 10\n"
     ]
    },
    {
     "name": "stdout",
     "output_type": "stream",
     "text": [
      "chocolate\n",
      "chocolate\n",
      "chocolate\n",
      "chocolate\n",
      "no stock \n"
     ]
    }
   ],
   "source": [
    "availabe_chocolate=5\n",
    "\n",
    "x=int(input('how many chocaltes u want :?'))\n",
    "\n",
    "i=1\n",
    "while i<=x:\n",
    "    if i>=availabe_chocolate:\n",
    "        break\n",
    "    print('chocolate')\n",
    "    i+=1\n",
    "print('no stock ')\n",
    "\n"
   ]
  },
  {
   "cell_type": "code",
   "execution_count": 49,
   "id": "4969cae7-44e1-4d90-8639-e05d2f167eb2",
   "metadata": {},
   "outputs": [
    {
     "name": "stdin",
     "output_type": "stream",
     "text": [
      "how many chocaltes u want :? 10\n"
     ]
    },
    {
     "name": "stdout",
     "output_type": "stream",
     "text": [
      "chocolate\n",
      "chocolate\n",
      "chocolate\n",
      "chocolate\n",
      "chocolate\n",
      "out of stock\n",
      "no stock \n"
     ]
    }
   ],
   "source": [
    "availabe_chocolate=5\n",
    "\n",
    "x=int(input('how many chocaltes u want :?'))\n",
    "\n",
    "i=1\n",
    "while i<=x:\n",
    "    \n",
    "    if i>availabe_chocolate:\n",
    "        print('out of stock')\n",
    "        break # is used to come ot lopp after contioned is met \n",
    "    print('chocolate')\n",
    "    i+=1\n",
    "    \n",
    "\n",
    "print('no stock ')\n"
   ]
  },
  {
   "cell_type": "code",
   "execution_count": 44,
   "id": "212840ab-d756-4eea-bef2-6ffbc2bd56e4",
   "metadata": {},
   "outputs": [
    {
     "name": "stdout",
     "output_type": "stream",
     "text": [
      "1\n",
      "2\n",
      "3\n",
      "4\n",
      "5\n"
     ]
    }
   ],
   "source": [
    "for i in range(1,11):\n",
    "    if i == 6:\n",
    "       break \n",
    "    print(i)"
   ]
  },
  {
   "cell_type": "code",
   "execution_count": 51,
   "id": "ac279953-a054-4466-b0d2-48935dcdae52",
   "metadata": {},
   "outputs": [
    {
     "name": "stdout",
     "output_type": "stream",
     "text": [
      "1\n",
      "2\n",
      "4\n",
      "5\n",
      "6\n",
      "7\n",
      "8\n",
      "9\n",
      "10\n"
     ]
    }
   ],
   "source": [
    "for i in range(1,11): # continue it will exclude the 3 and print rest of the range \n",
    "    if i == 3:\n",
    "        continue \n",
    "    print(i)"
   ]
  },
  {
   "cell_type": "code",
   "execution_count": 54,
   "id": "a4afd3ce-4826-415e-917a-4060054b859d",
   "metadata": {},
   "outputs": [
    {
     "name": "stdout",
     "output_type": "stream",
     "text": [
      "1\n",
      "3\n",
      "5\n",
      "7\n",
      "9\n",
      "11\n",
      "13\n",
      "15\n",
      "17\n",
      "19\n",
      "21\n",
      "23\n",
      "25\n",
      "27\n",
      "29\n",
      "31\n",
      "33\n",
      "35\n",
      "37\n",
      "39\n",
      "41\n",
      "43\n",
      "45\n",
      "47\n",
      "49\n"
     ]
    }
   ],
   "source": [
    "\n",
    "for i in range(1,51):\n",
    "    if i%2 == 0:\n",
    "        #print('even')\n",
    "        continue\n",
    "    print(i)"
   ]
  },
  {
   "cell_type": "code",
   "execution_count": 1,
   "id": "3a1d4393-b6db-4632-afa8-28cecbc9e080",
   "metadata": {},
   "outputs": [
    {
     "name": "stdout",
     "output_type": "stream",
     "text": [
      "****\n",
      "****\n",
      "****\n",
      "****\n"
     ]
    }
   ],
   "source": [
    "for i in range(1,5):\n",
    "    if i<5:\n",
    "        print(\"****\")\n",
    "        i+=1"
   ]
  },
  {
   "cell_type": "code",
   "execution_count": 15,
   "id": "bd76b6f4-1425-4188-886e-2df96445aa1d",
   "metadata": {},
   "outputs": [
    {
     "name": "stdout",
     "output_type": "stream",
     "text": [
      "   *\n",
      "  * *\n",
      " * * *\n",
      "* * * *\n"
     ]
    }
   ],
   "source": [
    "for i in range(1,5):   # print the traingle pattern \n",
    "    if i<2:\n",
    "        print(\"   *\")\n",
    "        i+=1\n",
    "for i in range(1,5):\n",
    "     if i<2:\n",
    "        print(\"  * *\")\n",
    "        i+=1\n",
    "for i in range(1,5):\n",
    "    if i<2:\n",
    "        print(\" * * *\")\n",
    "        i+=1\n",
    "for i in range(1,5):\n",
    "    if i<2:\n",
    "        print(\"* * * *\")\n",
    "        i+=1"
   ]
  },
  {
   "cell_type": "markdown",
   "id": "fb4da6b1-edec-42f6-be32-ef7878d1f731",
   "metadata": {},
   "source": [
    "#forelse"
   ]
  },
  {
   "cell_type": "code",
   "execution_count": 17,
   "id": "9c7a8a3a-8d72-41b4-8cc9-981a557f948c",
   "metadata": {},
   "outputs": [
    {
     "name": "stdout",
     "output_type": "stream",
     "text": [
      "15\n",
      "30\n"
     ]
    }
   ],
   "source": [
    "nums =[12,15,18,21,26,30]\n",
    "\n",
    "for i in nums:\n",
    "    if i%5==0:\n",
    "        print(i)"
   ]
  },
  {
   "cell_type": "code",
   "execution_count": 18,
   "id": "106c597b-e7ee-4b67-bdf0-825d89dd63ec",
   "metadata": {},
   "outputs": [
    {
     "name": "stdout",
     "output_type": "stream",
     "text": [
      "25\n",
      "30\n",
      "35\n"
     ]
    }
   ],
   "source": [
    "nums = [12,14,18,21,25,30,35]\n",
    "\n",
    "for num in nums:\n",
    "    if num % 5 == 0:\n",
    "        print(num)  "
   ]
  },
  {
   "cell_type": "code",
   "execution_count": 19,
   "id": "c6ea753a-3a28-425d-aef4-ce7118c4bebd",
   "metadata": {},
   "outputs": [
    {
     "name": "stdout",
     "output_type": "stream",
     "text": [
      "12\n"
     ]
    }
   ],
   "source": [
    "nums = [12,14,18,21,20,25] # if the contion statisfied brak the loop (come out of the loop)\n",
    "\n",
    "for num in nums:\n",
    "    if num % 3 == 0:\n",
    "        print(num)  \n",
    "        break"
   ]
  },
  {
   "cell_type": "code",
   "execution_count": 20,
   "id": "e3016d50-b3f9-41e8-9a46-37ce497f0e31",
   "metadata": {},
   "outputs": [
    {
     "name": "stdout",
     "output_type": "stream",
     "text": [
      "14\n"
     ]
    }
   ],
   "source": [
    "nums = [12,14,18,21,20,25] # if the contion statisfied brak the loop (come out of the loop)\n",
    "\n",
    "for num in nums:\n",
    "    if num % 3 != 0:\n",
    "        print(num)  \n",
    "        break\n",
    "        "
   ]
  },
  {
   "cell_type": "code",
   "execution_count": 23,
   "id": "aa4c95a7-c7ed-4634-b1e9-ca87a8f0309e",
   "metadata": {},
   "outputs": [
    {
     "name": "stdout",
     "output_type": "stream",
     "text": [
      "number not found \n"
     ]
    }
   ],
   "source": [
    "nums = [11,14,17,22,20,34] # if the contion statisfied brak the loop (come out of the loop)\n",
    "\n",
    "for num in nums:\n",
    "    if num % 3 == 0:\n",
    "        print(num)  \n",
    "        break\n",
    "else:\n",
    "    print('number not found ')"
   ]
  },
  {
   "cell_type": "code",
   "execution_count": 25,
   "id": "ebc8f4d2-d51e-4659-ae0b-9740a1db60f5",
   "metadata": {},
   "outputs": [
    {
     "name": "stdout",
     "output_type": "stream",
     "text": [
      "Not prime Number\n"
     ]
    }
   ],
   "source": [
    "num = 16\n",
    "\n",
    "for i in range(2,num):\n",
    "    if num % i == 0:\n",
    "        print('Not prime Number')\n",
    "        break\n",
    "else:\n",
    "    print('Prime Number')"
   ]
  },
  {
   "cell_type": "code",
   "execution_count": 29,
   "id": "f8ecb694-a62c-45b4-9ce2-6e93d3e6f6aa",
   "metadata": {},
   "outputs": [
    {
     "name": "stdin",
     "output_type": "stream",
     "text": [
      "enter your number  10\n"
     ]
    },
    {
     "name": "stdout",
     "output_type": "stream",
     "text": [
      "not a prime number: 10\n"
     ]
    }
   ],
   "source": [
    "num=int(input('enter your number '))\n",
    "\n",
    "for i in range(2,num):\n",
    "    if num%i==0:\n",
    "        print('not a prime number:',num)\n",
    "        break\n",
    "else:\n",
    "    print('prime number ')"
   ]
  },
  {
   "cell_type": "code",
   "execution_count": null,
   "id": "53f974b2-af29-4b65-b108-a4b8a7093e7a",
   "metadata": {},
   "outputs": [],
   "source": []
  }
 ],
 "metadata": {
  "kernelspec": {
   "display_name": "Python 3 (ipykernel)",
   "language": "python",
   "name": "python3"
  },
  "language_info": {
   "codemirror_mode": {
    "name": "ipython",
    "version": 3
   },
   "file_extension": ".py",
   "mimetype": "text/x-python",
   "name": "python",
   "nbconvert_exporter": "python",
   "pygments_lexer": "ipython3",
   "version": "3.12.7"
  }
 },
 "nbformat": 4,
 "nbformat_minor": 5
}
