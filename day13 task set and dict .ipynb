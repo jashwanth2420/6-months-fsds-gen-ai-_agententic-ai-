{
 "cells": [
  {
   "cell_type": "markdown",
   "id": "a60b6d9a-2d6b-43b6-a74a-48b4a68d8b88",
   "metadata": {},
   "source": [
    "# sets \n",
    "# 1 . unordered & unindexed collection of items \n",
    "# 2. set elements are unique . duplicate elements are not allowed \n",
    "# 3 . set elements are imutable (not changeble )\n",
    "#  4 . set itself is mutable . we can add or remove items from it "
   ]
  },
  {
   "cell_type": "markdown",
   "id": "111949e9-92cb-40fd-8159-eefad8b1e4a8",
   "metadata": {},
   "source": [
    "# set creation "
   ]
  },
  {
   "cell_type": "code",
   "execution_count": 1,
   "id": "0f30100b-0fc0-4a2c-a512-1aa71acf7df2",
   "metadata": {},
   "outputs": [],
   "source": [
    "myset = {1,2,3,4,5}"
   ]
  },
  {
   "cell_type": "code",
   "execution_count": 2,
   "id": "9b9172f2-4e93-4bab-aef8-33188778f2af",
   "metadata": {},
   "outputs": [
    {
     "data": {
      "text/plain": [
       "set"
      ]
     },
     "execution_count": 2,
     "metadata": {},
     "output_type": "execute_result"
    }
   ],
   "source": [
    "type(myset)"
   ]
  },
  {
   "cell_type": "code",
   "execution_count": 3,
   "id": "9856ce22-d357-4b53-95d1-53354d2f96f5",
   "metadata": {},
   "outputs": [],
   "source": [
    "s = {1,2,3}"
   ]
  },
  {
   "cell_type": "code",
   "execution_count": 4,
   "id": "e8f6b3ed-cc0e-4425-8bed-238a8215a7f8",
   "metadata": {},
   "outputs": [
    {
     "data": {
      "text/plain": [
       "set"
      ]
     },
     "execution_count": 4,
     "metadata": {},
     "output_type": "execute_result"
    }
   ],
   "source": [
    "type(s)"
   ]
  },
  {
   "cell_type": "code",
   "execution_count": 5,
   "id": "241e68af-ed09-4b6b-aac2-9504115a2a64",
   "metadata": {},
   "outputs": [],
   "source": [
    "s1={}"
   ]
  },
  {
   "cell_type": "code",
   "execution_count": 6,
   "id": "e9a441de-7e2a-4f62-bd23-21e86bfa4d96",
   "metadata": {},
   "outputs": [
    {
     "data": {
      "text/plain": [
       "dict"
      ]
     },
     "execution_count": 6,
     "metadata": {},
     "output_type": "execute_result"
    }
   ],
   "source": [
    "type(s1)"
   ]
  },
  {
   "cell_type": "code",
   "execution_count": 7,
   "id": "d8daf000-233a-40f4-9bdb-89f0036a405b",
   "metadata": {},
   "outputs": [
    {
     "data": {
      "text/plain": [
       "{1.2, 3.4, 4.5, 6.7}"
      ]
     },
     "execution_count": 7,
     "metadata": {},
     "output_type": "execute_result"
    }
   ],
   "source": [
    "myset1= {1.2,3.4,4.5,6.7,}\n",
    "myset1"
   ]
  },
  {
   "cell_type": "code",
   "execution_count": 8,
   "id": "3a9e37c9-bd7b-4e5b-8e85-9b2444bb3d96",
   "metadata": {},
   "outputs": [],
   "source": [
    "myset2= {'set','string','mike'} # set of string"
   ]
  },
  {
   "cell_type": "code",
   "execution_count": 9,
   "id": "dd10dd19-f0bf-430c-b976-71570fec5ce1",
   "metadata": {},
   "outputs": [],
   "source": [
    "myset3= {'set',1,2.3,True} # set of mixed dat types "
   ]
  },
  {
   "cell_type": "code",
   "execution_count": 10,
   "id": "8ed0e862-08a4-49f0-98ad-2f535c6620bd",
   "metadata": {},
   "outputs": [
    {
     "ename": "TypeError",
     "evalue": "unhashable type: 'list'",
     "output_type": "error",
     "traceback": [
      "\u001b[1;31m---------------------------------------------------------------------------\u001b[0m",
      "\u001b[1;31mTypeError\u001b[0m                                 Traceback (most recent call last)",
      "Cell \u001b[1;32mIn[10], line 1\u001b[0m\n\u001b[1;32m----> 1\u001b[0m myset4\u001b[38;5;241m=\u001b[39m{\u001b[38;5;241m1.3\u001b[39m,\u001b[38;5;241m23\u001b[39m,\u001b[38;5;241m4\u001b[39m,[\u001b[38;5;241m100\u001b[39m,\u001b[38;5;241m300\u001b[39m,\u001b[38;5;241m2\u001b[39m]}\n",
      "\u001b[1;31mTypeError\u001b[0m: unhashable type: 'list'"
     ]
    }
   ],
   "source": [
    "myset4={1.3,23,4,[100,300,2]} # set does not allow the mutable items like list "
   ]
  },
  {
   "cell_type": "code",
   "execution_count": 11,
   "id": "1a2abf22-8623-40bc-8a7c-d0cf4785ae4a",
   "metadata": {},
   "outputs": [
    {
     "name": "stdout",
     "output_type": "stream",
     "text": [
      "<class 'set'>\n"
     ]
    }
   ],
   "source": [
    "myset7=set() # create a empty set \n",
    "print(type(myset7))"
   ]
  },
  {
   "cell_type": "markdown",
   "id": "c8cc6b57-ab85-4630-a887-b7d4630f9597",
   "metadata": {},
   "source": [
    "# loops trough set "
   ]
  },
  {
   "cell_type": "code",
   "execution_count": 13,
   "id": "ef04f9da-f8bc-4fd1-8066-a5ae8d2a0a1e",
   "metadata": {},
   "outputs": [
    {
     "name": "stdout",
     "output_type": "stream",
     "text": [
      "1\n",
      "set\n",
      "2.3\n"
     ]
    }
   ],
   "source": [
    "for i in myset3:\n",
    "    print(i)"
   ]
  },
  {
   "cell_type": "code",
   "execution_count": 15,
   "id": "0822eea4-61bc-4f97-bf31-dc8258a1aeca",
   "metadata": {},
   "outputs": [
    {
     "name": "stdout",
     "output_type": "stream",
     "text": [
      "(0, 1)\n",
      "(1, 'set')\n",
      "(2, 2.3)\n"
     ]
    }
   ],
   "source": [
    "for i in enumerate(myset3):\n",
    "    print(i)"
   ]
  },
  {
   "cell_type": "markdown",
   "id": "a0a7cabd-e447-405d-bed1-62c48038c902",
   "metadata": {},
   "source": [
    "# set membership "
   ]
  },
  {
   "cell_type": "code",
   "execution_count": 16,
   "id": "e45d922b-c4ad-44cb-a3d8-dbcaf3e68444",
   "metadata": {},
   "outputs": [
    {
     "data": {
      "text/plain": [
       "{'mike', 'set', 'string'}"
      ]
     },
     "execution_count": 16,
     "metadata": {},
     "output_type": "execute_result"
    }
   ],
   "source": [
    "myset2"
   ]
  },
  {
   "cell_type": "code",
   "execution_count": 18,
   "id": "d17ffaa9-ebc3-40d0-8df8-9d3d24e06dd8",
   "metadata": {},
   "outputs": [
    {
     "data": {
      "text/plain": [
       "{'five', 'four', 'one', 'six', 'three', 'two'}"
      ]
     },
     "execution_count": 18,
     "metadata": {},
     "output_type": "execute_result"
    }
   ],
   "source": [
    "myset= {'one','two','three','four','five','six'}\n",
    "myset"
   ]
  },
  {
   "cell_type": "code",
   "execution_count": 19,
   "id": "13ae0fe0-1c27-4fd6-9a34-87d08c19a0d9",
   "metadata": {},
   "outputs": [
    {
     "data": {
      "text/plain": [
       "True"
      ]
     },
     "execution_count": 19,
     "metadata": {},
     "output_type": "execute_result"
    }
   ],
   "source": [
    "'one' in myset # check if one exist"
   ]
  },
  {
   "cell_type": "code",
   "execution_count": 20,
   "id": "ca46ce69-5d36-48d6-a22f-f7a46cc2e1b4",
   "metadata": {},
   "outputs": [
    {
     "data": {
      "text/plain": [
       "False"
      ]
     },
     "execution_count": 20,
     "metadata": {},
     "output_type": "execute_result"
    }
   ],
   "source": [
    "'forty' in myset # check if two exist "
   ]
  },
  {
   "cell_type": "markdown",
   "id": "9e7556d7-6874-4bcb-b58e-fdbb5ee01941",
   "metadata": {},
   "source": [
    "# add and remove items "
   ]
  },
  {
   "cell_type": "code",
   "execution_count": 21,
   "id": "24c4537d-b515-45ba-8548-dcc97a728a20",
   "metadata": {},
   "outputs": [
    {
     "data": {
      "text/plain": [
       "{'five', 'four', 'one', 'six', 'three', 'two'}"
      ]
     },
     "execution_count": 21,
     "metadata": {},
     "output_type": "execute_result"
    }
   ],
   "source": [
    "myset"
   ]
  },
  {
   "cell_type": "code",
   "execution_count": 22,
   "id": "48df0a37-6ab9-4da4-a788-5704c92e8e6f",
   "metadata": {},
   "outputs": [],
   "source": [
    "myset.add('nine') # add single eelememt using add "
   ]
  },
  {
   "cell_type": "code",
   "execution_count": 23,
   "id": "bcf030e4-cec8-4397-9076-7c1599c9a532",
   "metadata": {},
   "outputs": [
    {
     "data": {
      "text/plain": [
       "{'five', 'four', 'nine', 'one', 'six', 'three', 'two'}"
      ]
     },
     "execution_count": 23,
     "metadata": {},
     "output_type": "execute_result"
    }
   ],
   "source": [
    "myset "
   ]
  },
  {
   "cell_type": "code",
   "execution_count": 24,
   "id": "3675060f-bee5-4907-a825-7450627412a8",
   "metadata": {},
   "outputs": [],
   "source": [
    "myset.update(['eleven','thirtenn','fourteen']) # add multiple items  usind update into set "
   ]
  },
  {
   "cell_type": "code",
   "execution_count": 25,
   "id": "b5be77c9-14da-4eac-a0cc-0430ef4c73e3",
   "metadata": {},
   "outputs": [
    {
     "data": {
      "text/plain": [
       "{'eleven',\n",
       " 'five',\n",
       " 'four',\n",
       " 'fourteen',\n",
       " 'nine',\n",
       " 'one',\n",
       " 'six',\n",
       " 'thirtenn',\n",
       " 'three',\n",
       " 'two'}"
      ]
     },
     "execution_count": 25,
     "metadata": {},
     "output_type": "execute_result"
    }
   ],
   "source": [
    "myset"
   ]
  },
  {
   "cell_type": "code",
   "execution_count": 31,
   "id": "bdba78b1-ad39-4d95-9ce9-8998f6c93599",
   "metadata": {},
   "outputs": [
    {
     "data": {
      "text/plain": [
       "{'eleven', 'five', 'four', 'fourteen', 'one', 'six', 'thirtenn'}"
      ]
     },
     "execution_count": 31,
     "metadata": {},
     "output_type": "execute_result"
    }
   ],
   "source": [
    "myset.remove('three') # remove three from the list \n",
    "myset"
   ]
  },
  {
   "cell_type": "code",
   "execution_count": 28,
   "id": "8ad93ce3-6c13-41bf-a1f2-3d4217ad59d6",
   "metadata": {},
   "outputs": [
    {
     "data": {
      "text/plain": [
       "{'eleven',\n",
       " 'five',\n",
       " 'four',\n",
       " 'fourteen',\n",
       " 'one',\n",
       " 'six',\n",
       " 'thirtenn',\n",
       " 'three',\n",
       " 'two'}"
      ]
     },
     "execution_count": 28,
     "metadata": {},
     "output_type": "execute_result"
    }
   ],
   "source": [
    "myset"
   ]
  },
  {
   "cell_type": "code",
   "execution_count": 32,
   "id": "f2ea4f2a-97f1-434b-9726-c8fb5605c24c",
   "metadata": {},
   "outputs": [],
   "source": [
    "myset.discard(100) # discard nver gives a error if there is a element to dicard it discards if not it wiil not throw a error  "
   ]
  },
  {
   "cell_type": "code",
   "execution_count": 33,
   "id": "8fcac10a-4a09-4f77-b1cf-2c84d96b17ab",
   "metadata": {},
   "outputs": [
    {
     "data": {
      "text/plain": [
       "set()"
      ]
     },
     "execution_count": 33,
     "metadata": {},
     "output_type": "execute_result"
    }
   ],
   "source": [
    "myset2.clear()\n",
    "myset2"
   ]
  },
  {
   "cell_type": "markdown",
   "id": "27071b24-4aa2-4e6b-8fc9-16e008e65ca2",
   "metadata": {},
   "source": [
    "# copyset "
   ]
  },
  {
   "cell_type": "code",
   "execution_count": 34,
   "id": "2b36a3e4-8dfc-48da-973c-5e78fb29f5f1",
   "metadata": {},
   "outputs": [
    {
     "data": {
      "text/plain": [
       "{'eleven', 'five', 'four', 'fourteen', 'one', 'six', 'thirtenn'}"
      ]
     },
     "execution_count": 34,
     "metadata": {},
     "output_type": "execute_result"
    }
   ],
   "source": [
    "myset"
   ]
  },
  {
   "cell_type": "code",
   "execution_count": 35,
   "id": "415ae8db-85df-4f10-b7d0-147f82ea26cf",
   "metadata": {},
   "outputs": [],
   "source": [
    "set1=myset.copy()"
   ]
  },
  {
   "cell_type": "code",
   "execution_count": 36,
   "id": "686b7302-8510-476e-a0e1-ef3033a8be8b",
   "metadata": {},
   "outputs": [
    {
     "data": {
      "text/plain": [
       "{'eleven', 'five', 'four', 'fourteen', 'one', 'six', 'thirtenn'}"
      ]
     },
     "execution_count": 36,
     "metadata": {},
     "output_type": "execute_result"
    }
   ],
   "source": [
    "set1"
   ]
  },
  {
   "cell_type": "code",
   "execution_count": 38,
   "id": "16b5afd2-9ed6-4187-8a5b-5130616fb7ad",
   "metadata": {},
   "outputs": [],
   "source": [
    "set2=myset"
   ]
  },
  {
   "cell_type": "code",
   "execution_count": 39,
   "id": "f21762d2-e618-439f-aad6-8c238958f030",
   "metadata": {},
   "outputs": [
    {
     "data": {
      "text/plain": [
       "{'eleven', 'five', 'four', 'fourteen', 'one', 'six', 'thirtenn'}"
      ]
     },
     "execution_count": 39,
     "metadata": {},
     "output_type": "execute_result"
    }
   ],
   "source": [
    "set2"
   ]
  },
  {
   "cell_type": "code",
   "execution_count": 40,
   "id": "46d3c3f0-3b00-48dc-9d00-8f526fd8ecdc",
   "metadata": {},
   "outputs": [],
   "source": [
    "set2.add(2)"
   ]
  },
  {
   "cell_type": "code",
   "execution_count": 41,
   "id": "fb3ea096-4f47-41e8-aa32-319ee5b6dd6d",
   "metadata": {},
   "outputs": [
    {
     "data": {
      "text/plain": [
       "{2, 'eleven', 'five', 'four', 'fourteen', 'one', 'six', 'thirtenn'}"
      ]
     },
     "execution_count": 41,
     "metadata": {},
     "output_type": "execute_result"
    }
   ],
   "source": [
    "myset"
   ]
  },
  {
   "cell_type": "markdown",
   "id": "d96071cf-19da-4ab9-998f-5e0d445255ec",
   "metadata": {},
   "source": [
    "# set operation "
   ]
  },
  {
   "cell_type": "markdown",
   "id": "664a88a5-7b9f-4884-bf6a-b97bff0a605b",
   "metadata": {},
   "source": [
    "# union "
   ]
  },
  {
   "cell_type": "code",
   "execution_count": 42,
   "id": "7f4dd4e3-2d94-43e9-8fb0-e036cddc4213",
   "metadata": {},
   "outputs": [],
   "source": [
    "a={1,2,3,4,5}\n",
    "b={4,5,6,7,8}\n",
    "c={8,9,10}"
   ]
  },
  {
   "cell_type": "code",
   "execution_count": 43,
   "id": "9f140dce-9ece-4812-adb9-ac0b772deaf2",
   "metadata": {},
   "outputs": [
    {
     "data": {
      "text/plain": [
       "{1, 2, 3, 4, 5, 6, 7, 8}"
      ]
     },
     "execution_count": 43,
     "metadata": {},
     "output_type": "execute_result"
    }
   ],
   "source": [
    "a|b # symbol called as pipe "
   ]
  },
  {
   "cell_type": "code",
   "execution_count": 44,
   "id": "10cecffe-aeb4-4686-a1e8-51c38aa267c0",
   "metadata": {},
   "outputs": [
    {
     "data": {
      "text/plain": [
       "{1, 2, 3, 4, 5, 6, 7, 8, 9, 10}"
      ]
     },
     "execution_count": 44,
     "metadata": {},
     "output_type": "execute_result"
    }
   ],
   "source": [
    "a|b|c"
   ]
  },
  {
   "cell_type": "code",
   "execution_count": 45,
   "id": "71f6f1ff-9f25-47b1-8a74-deb328726f03",
   "metadata": {},
   "outputs": [
    {
     "data": {
      "text/plain": [
       "{1, 2, 3, 4, 5, 8, 9, 10}"
      ]
     },
     "execution_count": 45,
     "metadata": {},
     "output_type": "execute_result"
    }
   ],
   "source": [
    "a.update(c)\n",
    "a"
   ]
  },
  {
   "cell_type": "code",
   "execution_count": 46,
   "id": "8021262c-03f5-42d7-9470-70d842794794",
   "metadata": {},
   "outputs": [
    {
     "name": "stdout",
     "output_type": "stream",
     "text": [
      "{1, 2, 3, 4, 5, 8, 9, 10}\n",
      "{4, 5, 6, 7, 8}\n",
      "{8, 9, 10}\n"
     ]
    }
   ],
   "source": [
    "print(a)\n",
    "print(b)\n",
    "print(c)"
   ]
  },
  {
   "cell_type": "markdown",
   "id": "e2208c0f-c865-4940-99f1-01e559307801",
   "metadata": {},
   "source": [
    "# intersecion "
   ]
  },
  {
   "cell_type": "code",
   "execution_count": 49,
   "id": "38bd65c4-2f82-4cf4-b5d8-b0b76366672a",
   "metadata": {},
   "outputs": [
    {
     "data": {
      "text/plain": [
       "{8}"
      ]
     },
     "execution_count": 49,
     "metadata": {},
     "output_type": "execute_result"
    }
   ],
   "source": [
    "a&b&c # a intersecton b intersection c"
   ]
  },
  {
   "cell_type": "code",
   "execution_count": 51,
   "id": "924f0dd0-fc7a-4875-af32-f14b0d678594",
   "metadata": {},
   "outputs": [
    {
     "data": {
      "text/plain": [
       "{4, 5, 8}"
      ]
     },
     "execution_count": 51,
     "metadata": {},
     "output_type": "execute_result"
    }
   ],
   "source": [
    "b.intersection_update(a)\n",
    "b"
   ]
  },
  {
   "cell_type": "markdown",
   "id": "f7535727-68ac-47b2-8e6b-7c151ff9f934",
   "metadata": {},
   "source": [
    "# difference "
   ]
  },
  {
   "cell_type": "code",
   "execution_count": 52,
   "id": "7da0ba7d-f3d4-4fc2-a500-e3cc6c3b524c",
   "metadata": {},
   "outputs": [],
   "source": [
    "A = {1,2,3,4,5}\n",
    "B = {4,5,6,7,8}"
   ]
  },
  {
   "cell_type": "code",
   "execution_count": 55,
   "id": "d95ff479-f24d-44c9-bd05-58d8de293286",
   "metadata": {},
   "outputs": [
    {
     "data": {
      "text/plain": [
       "{1, 2, 3}"
      ]
     },
     "execution_count": 55,
     "metadata": {},
     "output_type": "execute_result"
    }
   ],
   "source": [
    "A-B  # differnce "
   ]
  },
  {
   "cell_type": "code",
   "execution_count": 56,
   "id": "443e9895-08cd-4376-a9ea-78d8f631e1ab",
   "metadata": {},
   "outputs": [
    {
     "data": {
      "text/plain": [
       "{6, 7, 8}"
      ]
     },
     "execution_count": 56,
     "metadata": {},
     "output_type": "execute_result"
    }
   ],
   "source": [
    "B-A"
   ]
  },
  {
   "cell_type": "code",
   "execution_count": 57,
   "id": "851286bc-7f5a-4d8a-acee-f37ed62eeca0",
   "metadata": {},
   "outputs": [],
   "source": [
    "B.difference_update(A)"
   ]
  },
  {
   "cell_type": "code",
   "execution_count": 58,
   "id": "46fa8dad-9468-4c27-beb1-45202a6158ff",
   "metadata": {},
   "outputs": [
    {
     "name": "stdout",
     "output_type": "stream",
     "text": [
      "{1, 2, 3, 4, 5}\n",
      "{6, 7, 8}\n"
     ]
    }
   ],
   "source": [
    "print(A)\n",
    "print(B)"
   ]
  },
  {
   "cell_type": "markdown",
   "id": "07477709-5d15-4cc3-a866-3cc6e684dce3",
   "metadata": {},
   "source": [
    "# symmetric differnce "
   ]
  },
  {
   "cell_type": "code",
   "execution_count": 62,
   "id": "e7190f15-55ee-4801-8d17-584f9095eb3e",
   "metadata": {},
   "outputs": [],
   "source": [
    "a1={1,2,3,4,5}\n",
    "b1={4,5,6,7,8}"
   ]
  },
  {
   "cell_type": "code",
   "execution_count": 64,
   "id": "dc53f4f2-bd9a-4295-9eb1-b6d3702d79b2",
   "metadata": {},
   "outputs": [
    {
     "data": {
      "text/plain": [
       "{1, 2, 3, 6, 7, 8}"
      ]
     },
     "execution_count": 64,
     "metadata": {},
     "output_type": "execute_result"
    }
   ],
   "source": [
    "a1^b1 # a symetric difference b (this returns the uncommon elents from the both )"
   ]
  },
  {
   "cell_type": "code",
   "execution_count": 69,
   "id": "16d7d8fb-833c-480b-a4c3-f7a4858c8e86",
   "metadata": {},
   "outputs": [
    {
     "data": {
      "text/plain": [
       "{1, 2, 3, 6, 7, 8}"
      ]
     },
     "execution_count": 69,
     "metadata": {},
     "output_type": "execute_result"
    }
   ],
   "source": [
    "a1.symmetric_difference_update(b1)\n",
    "a1"
   ]
  },
  {
   "cell_type": "code",
   "execution_count": 70,
   "id": "39c36d34-b704-41ad-af3f-39e47064b4a8",
   "metadata": {},
   "outputs": [
    {
     "name": "stdout",
     "output_type": "stream",
     "text": [
      "{1, 2, 3, 7, 6, 8}\n",
      "{4, 5, 6, 7, 8}\n"
     ]
    }
   ],
   "source": [
    "print(a1)\n",
    "print(b1)"
   ]
  },
  {
   "cell_type": "code",
   "execution_count": 77,
   "id": "44edab20-07b0-4504-bec5-572ce8884709",
   "metadata": {},
   "outputs": [
    {
     "data": {
      "text/plain": [
       "{1, 2, 3, 4, 5}"
      ]
     },
     "execution_count": 77,
     "metadata": {},
     "output_type": "execute_result"
    }
   ],
   "source": [
    "b1.symmetric_difference_update(a1) # does the symmetric differnce of b1 and a1 and updates b1 \n",
    "b1"
   ]
  },
  {
   "cell_type": "code",
   "execution_count": 78,
   "id": "35469df5-661a-4911-8580-b43b6fd96139",
   "metadata": {},
   "outputs": [
    {
     "name": "stdout",
     "output_type": "stream",
     "text": [
      "{1, 2, 3, 7, 6, 8}\n",
      "{3, 4, 5, 2, 1}\n"
     ]
    }
   ],
   "source": [
    "print(a1)\n",
    "print(b1)"
   ]
  },
  {
   "cell_type": "markdown",
   "id": "b12e5205-cc51-4117-a7c6-e823dcfcbd16",
   "metadata": {},
   "source": [
    "# subset\n",
    "# superset \n",
    "# disjoint "
   ]
  },
  {
   "cell_type": "code",
   "execution_count": null,
   "id": "3136c6d5-dff3-4642-a6d7-8444a9ced06a",
   "metadata": {},
   "outputs": [],
   "source": []
  },
  {
   "cell_type": "code",
   "execution_count": null,
   "id": "a490d093-6188-41a4-9a24-bd023bca192e",
   "metadata": {},
   "outputs": [],
   "source": []
  },
  {
   "cell_type": "code",
   "execution_count": null,
   "id": "21b2d7fe-cc6a-4583-97dd-86019b1801ca",
   "metadata": {},
   "outputs": [],
   "source": []
  }
 ],
 "metadata": {
  "kernelspec": {
   "display_name": "Python 3 (ipykernel)",
   "language": "python",
   "name": "python3"
  },
  "language_info": {
   "codemirror_mode": {
    "name": "ipython",
    "version": 3
   },
   "file_extension": ".py",
   "mimetype": "text/x-python",
   "name": "python",
   "nbconvert_exporter": "python",
   "pygments_lexer": "ipython3",
   "version": "3.12.7"
  }
 },
 "nbformat": 4,
 "nbformat_minor": 5
}
