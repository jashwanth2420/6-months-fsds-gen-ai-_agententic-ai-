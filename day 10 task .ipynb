{
 "cells": [
  {
   "cell_type": "code",
   "execution_count": 2,
   "id": "0fcdb738-063b-46af-816f-fcd333c43a16",
   "metadata": {},
   "outputs": [],
   "source": [
    "list1=[]"
   ]
  },
  {
   "cell_type": "code",
   "execution_count": 3,
   "id": "c674daae-74e8-4e41-8e0d-2b77c67668ae",
   "metadata": {},
   "outputs": [
    {
     "name": "stdout",
     "output_type": "stream",
     "text": [
      "<class 'list'>\n"
     ]
    }
   ],
   "source": [
    "print(type(list1))"
   ]
  },
  {
   "cell_type": "code",
   "execution_count": 4,
   "id": "271a728f-5990-48c3-a282-6987e3d1abd4",
   "metadata": {},
   "outputs": [],
   "source": [
    "list2 =[10,20,30,40] # list  of integers \n"
   ]
  },
  {
   "cell_type": "code",
   "execution_count": 6,
   "id": "dcfbb53e-74f3-48cd-a4e0-4143b19f6a64",
   "metadata": {},
   "outputs": [],
   "source": [
    "list3= [10.2,30.4,27.6,28.9] # list  float values "
   ]
  },
  {
   "cell_type": "code",
   "execution_count": 8,
   "id": "519b157d-7a36-4f90-90c6-f40547ffa8a5",
   "metadata": {},
   "outputs": [],
   "source": [
    "list4= ['singam','jaswanth','reddy'] # list of strings "
   ]
  },
  {
   "cell_type": "code",
   "execution_count": 10,
   "id": "859ea615-6531-4ed6-882f-bf8a96cfea11",
   "metadata": {},
   "outputs": [],
   "source": [
    "list5 = ['mike',25,[50,100],[150,90]] # nested list "
   ]
  },
  {
   "cell_type": "code",
   "execution_count": 11,
   "id": "29126f0f-3890-4a4e-bc02-c669f56f6bfe",
   "metadata": {},
   "outputs": [
    {
     "data": {
      "text/plain": [
       "['mike', 25, [50, 100], [150, 90]]"
      ]
     },
     "execution_count": 11,
     "metadata": {},
     "output_type": "execute_result"
    }
   ],
   "source": [
    "list5"
   ]
  },
  {
   "cell_type": "code",
   "execution_count": 13,
   "id": "028a4ff2-f229-426e-927d-730e1d370a35",
   "metadata": {},
   "outputs": [],
   "source": [
    "list6=[100,'gone',10.3] # list of mixed data types "
   ]
  },
  {
   "cell_type": "code",
   "execution_count": 16,
   "id": "e8e60f22-54d0-42eb-b5da-57a04e39eeb5",
   "metadata": {},
   "outputs": [],
   "source": [
    "list7=['super',20,[10,20],[20,30] , ['tim','david']]"
   ]
  },
  {
   "cell_type": "code",
   "execution_count": 17,
   "id": "2fc094ed-556b-4508-829c-199f3ff7fab0",
   "metadata": {},
   "outputs": [
    {
     "data": {
      "text/plain": [
       "['super', 20, [10, 20], [20, 30], ['tim', 'david']]"
      ]
     },
     "execution_count": 17,
     "metadata": {},
     "output_type": "execute_result"
    }
   ],
   "source": [
    "list7"
   ]
  },
  {
   "cell_type": "code",
   "execution_count": 18,
   "id": "b4b9abc1-a864-4494-9fc6-94d9582aea4f",
   "metadata": {},
   "outputs": [
    {
     "data": {
      "text/plain": [
       "5"
      ]
     },
     "execution_count": 18,
     "metadata": {},
     "output_type": "execute_result"
    }
   ],
   "source": [
    "len(list7)"
   ]
  },
  {
   "cell_type": "code",
   "execution_count": 19,
   "id": "c523934a-02ca-4536-94be-e7abfabef131",
   "metadata": {},
   "outputs": [
    {
     "data": {
      "text/plain": [
       "20"
      ]
     },
     "execution_count": 19,
     "metadata": {},
     "output_type": "execute_result"
    }
   ],
   "source": [
    "list2[1] # retreive the required index valu from list2"
   ]
  },
  {
   "cell_type": "code",
   "execution_count": 20,
   "id": "f7ce5ac7-e8b0-42a2-8eca-6e58fb05f927",
   "metadata": {},
   "outputs": [
    {
     "data": {
      "text/plain": [
       "[10, 20, 30, 40]"
      ]
     },
     "execution_count": 20,
     "metadata": {},
     "output_type": "execute_result"
    }
   ],
   "source": [
    "list2"
   ]
  },
  {
   "cell_type": "code",
   "execution_count": 21,
   "id": "a467c4c3-e6d2-4523-8f55-02964786be6b",
   "metadata": {},
   "outputs": [
    {
     "data": {
      "text/plain": [
       "'jaswanth'"
      ]
     },
     "execution_count": 21,
     "metadata": {},
     "output_type": "execute_result"
    }
   ],
   "source": [
    "list4[1]"
   ]
  },
  {
   "cell_type": "code",
   "execution_count": 23,
   "id": "84a56b1e-c5ae-473b-b6dd-9580c50f0b17",
   "metadata": {},
   "outputs": [
    {
     "data": {
      "text/plain": [
       "'a'"
      ]
     },
     "execution_count": 23,
     "metadata": {},
     "output_type": "execute_result"
    }
   ],
   "source": [
    "list4[1][1] # nested indexing - acess the first character of the first list elements "
   ]
  },
  {
   "cell_type": "code",
   "execution_count": 24,
   "id": "e9ffd4dc-661e-45d1-ade9-c8ad31fa5bf0",
   "metadata": {},
   "outputs": [
    {
     "data": {
      "text/plain": [
       "'reddy'"
      ]
     },
     "execution_count": 24,
     "metadata": {},
     "output_type": "execute_result"
    }
   ],
   "source": [
    "list4[-1] # last element of the list "
   ]
  },
  {
   "cell_type": "code",
   "execution_count": 25,
   "id": "65c93fd9-9992-4668-b45a-ccf9056cd511",
   "metadata": {},
   "outputs": [
    {
     "data": {
      "text/plain": [
       "['singam', 'jaswanth', 'reddy']"
      ]
     },
     "execution_count": 25,
     "metadata": {},
     "output_type": "execute_result"
    }
   ],
   "source": [
    "list4"
   ]
  },
  {
   "cell_type": "code",
   "execution_count": 26,
   "id": "3e19da73-7c8f-49cc-ac7a-6a33385f99b2",
   "metadata": {},
   "outputs": [],
   "source": [
    "mylist=['one','two','three','four','five','six','seven','eight','nine']"
   ]
  },
  {
   "cell_type": "code",
   "execution_count": 27,
   "id": "fe4b7505-3978-4586-bfc2-78825a543be4",
   "metadata": {},
   "outputs": [
    {
     "data": {
      "text/plain": [
       "['one', 'two', 'three']"
      ]
     },
     "execution_count": 27,
     "metadata": {},
     "output_type": "execute_result"
    }
   ],
   "source": [
    "mylist[0:3] # returns all the items  from o to 3 index "
   ]
  },
  {
   "cell_type": "code",
   "execution_count": 28,
   "id": "62823239-d025-45ab-9f19-833dcfb43fe0",
   "metadata": {},
   "outputs": [
    {
     "data": {
      "text/plain": [
       "['three', 'four', 'five']"
      ]
     },
     "execution_count": 28,
     "metadata": {},
     "output_type": "execute_result"
    }
   ],
   "source": [
    "mylist[2:5]"
   ]
  },
  {
   "cell_type": "code",
   "execution_count": 30,
   "id": "6acd2433-c70e-4eaf-a98e-42316ed30fe5",
   "metadata": {},
   "outputs": [
    {
     "data": {
      "text/plain": [
       "['one', 'two', 'three', 'four', 'five', 'six', 'seven', 'eight', 'nine']"
      ]
     },
     "execution_count": 30,
     "metadata": {},
     "output_type": "execute_result"
    }
   ],
   "source": [
    "mylist[0:]"
   ]
  },
  {
   "cell_type": "code",
   "execution_count": 32,
   "id": "77b244c8-6c00-499d-9741-2375c03161a3",
   "metadata": {},
   "outputs": [
    {
     "data": {
      "text/plain": [
       "['seven', 'eight', 'nine']"
      ]
     },
     "execution_count": 32,
     "metadata": {},
     "output_type": "execute_result"
    }
   ],
   "source": [
    "mylist[-3:]"
   ]
  },
  {
   "cell_type": "code",
   "execution_count": 33,
   "id": "e53be52a-2f57-4bb7-9db2-bad6508e5a99",
   "metadata": {},
   "outputs": [
    {
     "data": {
      "text/plain": [
       "['one', 'two', 'three', 'four', 'five', 'six', 'seven', 'eight', 'nine']"
      ]
     },
     "execution_count": 33,
     "metadata": {},
     "output_type": "execute_result"
    }
   ],
   "source": [
    "mylist[:] # return whole list "
   ]
  },
  {
   "cell_type": "code",
   "execution_count": 35,
   "id": "27b83f3f-251d-4fc3-bf67-4869a61bea9d",
   "metadata": {},
   "outputs": [
    {
     "data": {
      "text/plain": [
       "['one', 'two', 'three', 'four', 'five', 'six', 'seven', 'eight', 'nine', 8, 8]"
      ]
     },
     "execution_count": 35,
     "metadata": {},
     "output_type": "execute_result"
    }
   ],
   "source": [
    "mylist.append(8) # add item end of the list \n",
    "mylist"
   ]
  },
  {
   "cell_type": "code",
   "execution_count": 36,
   "id": "86fd49ac-ec9c-4752-89b3-a2e941ee24bb",
   "metadata": {},
   "outputs": [],
   "source": [
    "mylist.remove(8) # remove the item "
   ]
  },
  {
   "cell_type": "code",
   "execution_count": 38,
   "id": "45fc9685-97fc-4b22-b269-a417774919c5",
   "metadata": {},
   "outputs": [
    {
     "data": {
      "text/plain": [
       "8"
      ]
     },
     "execution_count": 38,
     "metadata": {},
     "output_type": "execute_result"
    }
   ],
   "source": [
    "mylist.pop()   # remove the last item in list "
   ]
  },
  {
   "cell_type": "code",
   "execution_count": 39,
   "id": "e54c371a-3caa-42d9-b32b-f372a0342d53",
   "metadata": {},
   "outputs": [
    {
     "data": {
      "text/plain": [
       "['one', 'two', 'three', 'four', 'five', 'six', 'seven', 'eight', 'nine']"
      ]
     },
     "execution_count": 39,
     "metadata": {},
     "output_type": "execute_result"
    }
   ],
   "source": [
    "mylist"
   ]
  },
  {
   "cell_type": "code",
   "execution_count": 41,
   "id": "9a37c1ad-f006-4811-a715-b375d53cc188",
   "metadata": {},
   "outputs": [],
   "source": [
    "mylist.insert(1,'seven')"
   ]
  },
  {
   "cell_type": "code",
   "execution_count": 42,
   "id": "9cfa4020-ae39-43c6-99ea-c4ad68698d26",
   "metadata": {},
   "outputs": [
    {
     "data": {
      "text/plain": [
       "['one',\n",
       " 'seven',\n",
       " 'two',\n",
       " 'three',\n",
       " 'four',\n",
       " 'five',\n",
       " 'six',\n",
       " 'seven',\n",
       " 'eight',\n",
       " 'nine']"
      ]
     },
     "execution_count": 42,
     "metadata": {},
     "output_type": "execute_result"
    }
   ],
   "source": [
    "mylist"
   ]
  },
  {
   "cell_type": "code",
   "execution_count": 43,
   "id": "4cfc2efc-4e2a-494e-9550-7d47f35d2ae4",
   "metadata": {},
   "outputs": [],
   "source": [
    "mylist.remove('seven')"
   ]
  },
  {
   "cell_type": "code",
   "execution_count": 44,
   "id": "ff27839a-096c-4509-858e-0d9cf368d5f0",
   "metadata": {},
   "outputs": [
    {
     "data": {
      "text/plain": [
       "['one', 'two', 'three', 'four', 'five', 'six', 'seven', 'eight', 'nine']"
      ]
     },
     "execution_count": 44,
     "metadata": {},
     "output_type": "execute_result"
    }
   ],
   "source": [
    "mylist"
   ]
  },
  {
   "cell_type": "code",
   "execution_count": 45,
   "id": "abb6e46a-c6ae-44a3-a00b-dd5bfd751342",
   "metadata": {},
   "outputs": [
    {
     "data": {
      "text/plain": [
       "'seven'"
      ]
     },
     "execution_count": 45,
     "metadata": {},
     "output_type": "execute_result"
    }
   ],
   "source": [
    "mylist.pop(6) # remove the item at index no 6 "
   ]
  },
  {
   "cell_type": "code",
   "execution_count": 46,
   "id": "088e150d-6370-4756-bbcd-76d9636c5848",
   "metadata": {},
   "outputs": [],
   "source": [
    "# change the value of the string \n",
    "mylist[0]=1\n",
    "mylist[1]=2\n",
    "mylist[2]=3"
   ]
  },
  {
   "cell_type": "code",
   "execution_count": 47,
   "id": "d363fa5e-2ac8-4b06-a85c-5004127dd024",
   "metadata": {},
   "outputs": [
    {
     "data": {
      "text/plain": [
       "[1, 2, 3, 'four', 'five', 'six', 'eight', 'nine']"
      ]
     },
     "execution_count": 47,
     "metadata": {},
     "output_type": "execute_result"
    }
   ],
   "source": [
    "mylist"
   ]
  },
  {
   "cell_type": "code",
   "execution_count": 48,
   "id": "e95de4b7-962e-4d0c-866e-ca48536ab31b",
   "metadata": {},
   "outputs": [],
   "source": [
    "mylist.clear() # empty list / delete all items in  list "
   ]
  },
  {
   "cell_type": "code",
   "execution_count": 49,
   "id": "2f721c9a-797d-44f6-bd38-272018530597",
   "metadata": {},
   "outputs": [
    {
     "data": {
      "text/plain": [
       "[]"
      ]
     },
     "execution_count": 49,
     "metadata": {},
     "output_type": "execute_result"
    }
   ],
   "source": [
    "mylist"
   ]
  },
  {
   "cell_type": "code",
   "execution_count": null,
   "id": "c12cb2f4-b4a2-4df1-b31b-5d81824a3804",
   "metadata": {},
   "outputs": [],
   "source": [
    "# copy list "
   ]
  },
  {
   "cell_type": "code",
   "execution_count": 50,
   "id": "ae9469a0-302b-454b-99ab-1eaea6150c68",
   "metadata": {},
   "outputs": [],
   "source": [
    "mylist=[1,1,2,3,4,6,7,8]"
   ]
  },
  {
   "cell_type": "code",
   "execution_count": 51,
   "id": "7ddca541-0a20-45b1-9468-ff64b02a4701",
   "metadata": {},
   "outputs": [],
   "source": [
    "mylist1=mylist"
   ]
  },
  {
   "cell_type": "code",
   "execution_count": 52,
   "id": "1d0c2e41-03f8-4af9-9ed5-884d47cb62f1",
   "metadata": {},
   "outputs": [
    {
     "data": {
      "text/plain": [
       "(2055991460352, 2055991460352)"
      ]
     },
     "execution_count": 52,
     "metadata": {},
     "output_type": "execute_result"
    }
   ],
   "source": [
    "id(mylist),id(mylist1)"
   ]
  },
  {
   "cell_type": "code",
   "execution_count": 53,
   "id": "b4e1ed6e-b46e-4242-a339-da0c1f11c3eb",
   "metadata": {},
   "outputs": [],
   "source": [
    "mylist2=mylist.copy() # crete the copy of the list "
   ]
  },
  {
   "cell_type": "code",
   "execution_count": 54,
   "id": "078117e1-d1f7-4185-b717-833d48482a1c",
   "metadata": {},
   "outputs": [
    {
     "data": {
      "text/plain": [
       "[1, 1, 2, 3, 4, 6, 7, 8]"
      ]
     },
     "execution_count": 54,
     "metadata": {},
     "output_type": "execute_result"
    }
   ],
   "source": [
    "mylist2"
   ]
  },
  {
   "cell_type": "code",
   "execution_count": 55,
   "id": "d154ad04-0534-4a21-8d5c-d285fe0bb90f",
   "metadata": {},
   "outputs": [],
   "source": [
    "mylist[0]=0"
   ]
  },
  {
   "cell_type": "code",
   "execution_count": 56,
   "id": "cbbd426b-dc7d-4e13-85c3-774e003625a9",
   "metadata": {},
   "outputs": [
    {
     "data": {
      "text/plain": [
       "[0, 1, 2, 3, 4, 6, 7, 8]"
      ]
     },
     "execution_count": 56,
     "metadata": {},
     "output_type": "execute_result"
    }
   ],
   "source": [
    "mylist1 # mylist1 will be also impacted because it is pointed to mylist "
   ]
  },
  {
   "cell_type": "code",
   "execution_count": 57,
   "id": "93977796-ffb1-4f32-850b-bcb1ba0a8b77",
   "metadata": {},
   "outputs": [
    {
     "data": {
      "text/plain": [
       "[1, 1, 2, 3, 4, 6, 7, 8]"
      ]
     },
     "execution_count": 57,
     "metadata": {},
     "output_type": "execute_result"
    }
   ],
   "source": [
    "mylist2 # copy of the list doesnot change by efecting the  original list"
   ]
  },
  {
   "cell_type": "code",
   "execution_count": 58,
   "id": "5858d340-588f-48b3-acef-3be2bc2f4595",
   "metadata": {},
   "outputs": [],
   "source": [
    "#join lists \n",
    "list1=[1,2,3,4]\n",
    "list2=[5,6,7,8]"
   ]
  },
  {
   "cell_type": "code",
   "execution_count": 60,
   "id": "8dac4aa0-3bc9-49cb-ae83-5b6989df42a7",
   "metadata": {},
   "outputs": [],
   "source": [
    "list3=list1+list2 # join two lists by join operator "
   ]
  },
  {
   "cell_type": "code",
   "execution_count": 61,
   "id": "2421cc90-d1fa-46d8-9e09-947da494768b",
   "metadata": {},
   "outputs": [
    {
     "data": {
      "text/plain": [
       "[1, 2, 3, 4, 5, 6, 7, 8]"
      ]
     },
     "execution_count": 61,
     "metadata": {},
     "output_type": "execute_result"
    }
   ],
   "source": [
    "list3"
   ]
  },
  {
   "cell_type": "code",
   "execution_count": null,
   "id": "16d974e5-ba28-4165-b781-60dcb9e13f1a",
   "metadata": {},
   "outputs": [],
   "source": []
  },
  {
   "cell_type": "code",
   "execution_count": null,
   "id": "a56da110-3f9e-4c88-b423-a3fe002543b2",
   "metadata": {},
   "outputs": [],
   "source": []
  },
  {
   "cell_type": "code",
   "execution_count": null,
   "id": "35b5829b-e4ca-4c04-810e-aab44db9343e",
   "metadata": {},
   "outputs": [],
   "source": []
  }
 ],
 "metadata": {
  "kernelspec": {
   "display_name": "Python 3 (ipykernel)",
   "language": "python",
   "name": "python3"
  },
  "language_info": {
   "codemirror_mode": {
    "name": "ipython",
    "version": 3
   },
   "file_extension": ".py",
   "mimetype": "text/x-python",
   "name": "python",
   "nbconvert_exporter": "python",
   "pygments_lexer": "ipython3",
   "version": "3.12.7"
  }
 },
 "nbformat": 4,
 "nbformat_minor": 5
}
