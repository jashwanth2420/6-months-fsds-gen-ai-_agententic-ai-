{
 "cells": [
  {
   "cell_type": "code",
   "execution_count": 1,
   "id": "9665a0ca-93ec-42bc-9ef6-858eca4df926",
   "metadata": {},
   "outputs": [
    {
     "data": {
      "text/plain": [
       "'3.12.7 | packaged by Anaconda, Inc. | (main, Oct  4 2024, 13:17:27) [MSC v.1929 64 bit (AMD64)]'"
      ]
     },
     "execution_count": 1,
     "metadata": {},
     "output_type": "execute_result"
    }
   ],
   "source": [
    "import sys\n",
    "sys.version "
   ]
  },
  {
   "cell_type": "markdown",
   "id": "5259bffd-6098-4814-942e-be4135db217f",
   "metadata": {},
   "source": [
    "#list data structures "
   ]
  },
  {
   "cell_type": "code",
   "execution_count": 2,
   "id": "400507ca-ae5f-4c0a-8ab6-9d0f066788ae",
   "metadata": {},
   "outputs": [
    {
     "data": {
      "text/plain": [
       "[]"
      ]
     },
     "execution_count": 2,
     "metadata": {},
     "output_type": "execute_result"
    }
   ],
   "source": [
    "i=[]\n",
    "i"
   ]
  },
  {
   "cell_type": "code",
   "execution_count": 4,
   "id": "5c019c8b-a14b-41ff-973f-1f2a3204a4c4",
   "metadata": {},
   "outputs": [
    {
     "data": {
      "text/plain": [
       "list"
      ]
     },
     "execution_count": 4,
     "metadata": {},
     "output_type": "execute_result"
    }
   ],
   "source": [
    "type (i)"
   ]
  },
  {
   "cell_type": "code",
   "execution_count": 5,
   "id": "0223bc2f-5c6d-4cf1-b2ee-cb92b8445ed6",
   "metadata": {},
   "outputs": [
    {
     "data": {
      "text/plain": [
       "0"
      ]
     },
     "execution_count": 5,
     "metadata": {},
     "output_type": "execute_result"
    }
   ],
   "source": [
    "len(i)"
   ]
  },
  {
   "cell_type": "code",
   "execution_count": 6,
   "id": "96c6d220-b3ca-4b89-ad21-35e5dfabc92b",
   "metadata": {},
   "outputs": [],
   "source": [
    "i.append(10)"
   ]
  },
  {
   "cell_type": "code",
   "execution_count": 7,
   "id": "15779edc-6c86-47bc-b0ae-7040d3b115c3",
   "metadata": {},
   "outputs": [
    {
     "data": {
      "text/plain": [
       "[10]"
      ]
     },
     "execution_count": 7,
     "metadata": {},
     "output_type": "execute_result"
    }
   ],
   "source": [
    "i"
   ]
  },
  {
   "cell_type": "code",
   "execution_count": 10,
   "id": "cb20fda8-f919-4bca-9f47-2ec5976443d6",
   "metadata": {},
   "outputs": [],
   "source": [
    "i.append(30)\n",
    "i.append (40)\n",
    "i.append(50)\n",
    "i.append(100)"
   ]
  },
  {
   "cell_type": "code",
   "execution_count": 11,
   "id": "6a73a58b-ef70-42a7-b9d9-56ca789b9202",
   "metadata": {},
   "outputs": [
    {
     "data": {
      "text/plain": [
       "[10, 30, 30, 40, 50, 100]"
      ]
     },
     "execution_count": 11,
     "metadata": {},
     "output_type": "execute_result"
    }
   ],
   "source": [
    "i"
   ]
  },
  {
   "cell_type": "code",
   "execution_count": 12,
   "id": "916f93bf-12c4-47df-a998-3c57d0a29c8f",
   "metadata": {},
   "outputs": [],
   "source": [
    "i.append(300)"
   ]
  },
  {
   "cell_type": "code",
   "execution_count": 13,
   "id": "0db7394e-29c3-4655-a0fa-f19e192b69bf",
   "metadata": {},
   "outputs": [
    {
     "data": {
      "text/plain": [
       "[10, 30, 30, 40, 50, 100, 300]"
      ]
     },
     "execution_count": 13,
     "metadata": {},
     "output_type": "execute_result"
    }
   ],
   "source": [
    "i"
   ]
  },
  {
   "cell_type": "code",
   "execution_count": 14,
   "id": "54330235-d548-43ca-9c87-9805840643c8",
   "metadata": {},
   "outputs": [
    {
     "data": {
      "text/plain": [
       "10"
      ]
     },
     "execution_count": 14,
     "metadata": {},
     "output_type": "execute_result"
    }
   ],
   "source": [
    "i[0]"
   ]
  },
  {
   "cell_type": "code",
   "execution_count": 16,
   "id": "33850414-1c21-4e30-83ae-06fbbdc78451",
   "metadata": {},
   "outputs": [
    {
     "data": {
      "text/plain": [
       "[30, 30, 40, 50, 100, 300]"
      ]
     },
     "execution_count": 16,
     "metadata": {},
     "output_type": "execute_result"
    }
   ],
   "source": [
    "i[1:7]"
   ]
  },
  {
   "cell_type": "code",
   "execution_count": 20,
   "id": "4fe09f8d-8298-4cba-ad38-f424ad827af6",
   "metadata": {},
   "outputs": [],
   "source": [
    "i[0]=400"
   ]
  },
  {
   "cell_type": "code",
   "execution_count": 21,
   "id": "a0c97478-4582-47ee-8ac3-65fe526fef97",
   "metadata": {},
   "outputs": [
    {
     "data": {
      "text/plain": [
       "[400, 30, 30, 40, 50, 100, 300]"
      ]
     },
     "execution_count": 21,
     "metadata": {},
     "output_type": "execute_result"
    }
   ],
   "source": [
    "i"
   ]
  },
  {
   "cell_type": "code",
   "execution_count": 22,
   "id": "788f622d-9cab-49a3-8621-e897e724db02",
   "metadata": {},
   "outputs": [],
   "source": [
    "i[5]=-45"
   ]
  },
  {
   "cell_type": "code",
   "execution_count": 23,
   "id": "ba085436-7701-49a8-b518-0b5306182484",
   "metadata": {},
   "outputs": [
    {
     "data": {
      "text/plain": [
       "[400, 30, 30, 40, 50, -45, 300]"
      ]
     },
     "execution_count": 23,
     "metadata": {},
     "output_type": "execute_result"
    }
   ],
   "source": [
    "i"
   ]
  },
  {
   "cell_type": "code",
   "execution_count": 26,
   "id": "969dae9c-8753-43a6-b1bf-aa893dc0f6c4",
   "metadata": {},
   "outputs": [
    {
     "data": {
      "text/plain": [
       "[400, 30, 30, 40, 50, -45, 300]"
      ]
     },
     "execution_count": 26,
     "metadata": {},
     "output_type": "execute_result"
    }
   ],
   "source": [
    "i1=i.copy()\n",
    "i1"
   ]
  },
  {
   "cell_type": "code",
   "execution_count": 27,
   "id": "3d5a3d44-48e9-4966-ad04-eb3492decdaf",
   "metadata": {},
   "outputs": [
    {
     "name": "stdout",
     "output_type": "stream",
     "text": [
      "[400, 30, 30, 40, 50, -45, 300]\n",
      "[400, 30, 30, 40, 50, -45, 300]\n"
     ]
    }
   ],
   "source": [
    "print(i)\n",
    "print(i1)"
   ]
  },
  {
   "cell_type": "code",
   "execution_count": 30,
   "id": "fcb1f53f-147b-4e53-8154-41339e7db9c7",
   "metadata": {},
   "outputs": [
    {
     "data": {
      "text/plain": [
       "False"
      ]
     },
     "execution_count": 30,
     "metadata": {},
     "output_type": "execute_result"
    }
   ],
   "source": [
    "id(i)==id(i1)"
   ]
  },
  {
   "cell_type": "code",
   "execution_count": 33,
   "id": "f61c6c02-4dad-4c50-86a9-23f2074207fd",
   "metadata": {},
   "outputs": [
    {
     "data": {
      "text/plain": [
       "True"
      ]
     },
     "execution_count": 33,
     "metadata": {},
     "output_type": "execute_result"
    }
   ],
   "source": [
    "id(i)!=id(i1)\n"
   ]
  },
  {
   "cell_type": "code",
   "execution_count": 35,
   "id": "37a49860-2ce2-46fa-a547-2599b6359688",
   "metadata": {},
   "outputs": [
    {
     "data": {
      "text/plain": [
       "2"
      ]
     },
     "execution_count": 35,
     "metadata": {},
     "output_type": "execute_result"
    }
   ],
   "source": [
    "i.count(30)"
   ]
  },
  {
   "cell_type": "code",
   "execution_count": 36,
   "id": "8b110aea-9ad1-407a-be57-100eeb092589",
   "metadata": {},
   "outputs": [],
   "source": [
    "i1.clear()"
   ]
  },
  {
   "cell_type": "code",
   "execution_count": 37,
   "id": "f2dcb06c-4d56-41e0-ac2a-84aaa0fe51cb",
   "metadata": {},
   "outputs": [
    {
     "data": {
      "text/plain": [
       "[]"
      ]
     },
     "execution_count": 37,
     "metadata": {},
     "output_type": "execute_result"
    }
   ],
   "source": [
    "i1"
   ]
  },
  {
   "cell_type": "code",
   "execution_count": 38,
   "id": "dccf43b4-a244-4694-a2ac-e09a45ad60db",
   "metadata": {},
   "outputs": [
    {
     "data": {
      "text/plain": [
       "0"
      ]
     },
     "execution_count": 38,
     "metadata": {},
     "output_type": "execute_result"
    }
   ],
   "source": [
    "len(i1)"
   ]
  },
  {
   "cell_type": "code",
   "execution_count": 39,
   "id": "0cee9ca6-502f-4979-b1d5-75bd67648c35",
   "metadata": {},
   "outputs": [],
   "source": [
    "del i1"
   ]
  },
  {
   "cell_type": "code",
   "execution_count": 40,
   "id": "69bd7e72-ba69-44e4-bf5e-189041a07bc5",
   "metadata": {},
   "outputs": [
    {
     "ename": "NameError",
     "evalue": "name 'i1' is not defined",
     "output_type": "error",
     "traceback": [
      "\u001b[1;31m---------------------------------------------------------------------------\u001b[0m",
      "\u001b[1;31mNameError\u001b[0m                                 Traceback (most recent call last)",
      "Cell \u001b[1;32mIn[40], line 1\u001b[0m\n\u001b[1;32m----> 1\u001b[0m i1\n",
      "\u001b[1;31mNameError\u001b[0m: name 'i1' is not defined"
     ]
    }
   ],
   "source": [
    "i1"
   ]
  },
  {
   "cell_type": "code",
   "execution_count": 41,
   "id": "f905adb0-69bf-4446-8c26-2dd1c291352a",
   "metadata": {},
   "outputs": [],
   "source": [
    "i2=[]"
   ]
  },
  {
   "cell_type": "code",
   "execution_count": 42,
   "id": "bed53597-f319-4966-a8b6-bc54f212559f",
   "metadata": {},
   "outputs": [],
   "source": [
    "i2.append(9)"
   ]
  },
  {
   "cell_type": "code",
   "execution_count": 43,
   "id": "89a5efc7-40c6-405a-8ca0-fda833921be7",
   "metadata": {},
   "outputs": [],
   "source": [
    "i2.append('mike')"
   ]
  },
  {
   "cell_type": "code",
   "execution_count": 44,
   "id": "ba7899ce-ac53-4cd7-a535-95a0055b5abe",
   "metadata": {},
   "outputs": [],
   "source": [
    "i2.append(1+2j)"
   ]
  },
  {
   "cell_type": "code",
   "execution_count": 45,
   "id": "16e05cfd-027e-4662-bdb5-74bf561ac97c",
   "metadata": {},
   "outputs": [
    {
     "data": {
      "text/plain": [
       "[9, 'mike', (1+2j)]"
      ]
     },
     "execution_count": 45,
     "metadata": {},
     "output_type": "execute_result"
    }
   ],
   "source": [
    "i2"
   ]
  },
  {
   "cell_type": "code",
   "execution_count": 46,
   "id": "7bc36abe-c9c5-49ce-9e82-f6ae42937740",
   "metadata": {},
   "outputs": [
    {
     "data": {
      "text/plain": [
       "1"
      ]
     },
     "execution_count": 46,
     "metadata": {},
     "output_type": "execute_result"
    }
   ],
   "source": [
    "i.index(30)"
   ]
  },
  {
   "cell_type": "code",
   "execution_count": 47,
   "id": "931ac519-6122-444a-9cae-76c7b5b22e43",
   "metadata": {},
   "outputs": [
    {
     "data": {
      "text/plain": [
       "[400, 30, 30, 40, 50, -45, 300]"
      ]
     },
     "execution_count": 47,
     "metadata": {},
     "output_type": "execute_result"
    }
   ],
   "source": [
    "i"
   ]
  },
  {
   "cell_type": "code",
   "execution_count": 48,
   "id": "f403d09d-7d18-47ab-b408-e3002f330451",
   "metadata": {},
   "outputs": [
    {
     "data": {
      "text/plain": [
       "[9, 'mike', (1+2j)]"
      ]
     },
     "execution_count": 48,
     "metadata": {},
     "output_type": "execute_result"
    }
   ],
   "source": [
    "i2\n"
   ]
  },
  {
   "cell_type": "code",
   "execution_count": 49,
   "id": "67044e6c-4a0a-4660-ad83-6fe439533087",
   "metadata": {},
   "outputs": [
    {
     "data": {
      "text/plain": [
       "'mike'"
      ]
     },
     "execution_count": 49,
     "metadata": {},
     "output_type": "execute_result"
    }
   ],
   "source": [
    "i2[1]"
   ]
  },
  {
   "cell_type": "code",
   "execution_count": 50,
   "id": "102f9d7b-6105-4e38-93d0-bfd22aca98c6",
   "metadata": {},
   "outputs": [
    {
     "data": {
      "text/plain": [
       "'e'"
      ]
     },
     "execution_count": 50,
     "metadata": {},
     "output_type": "execute_result"
    }
   ],
   "source": [
    "i2[1][3]"
   ]
  },
  {
   "cell_type": "code",
   "execution_count": 52,
   "id": "5acc4b95-1004-4a35-ba54-86497c3cc7a5",
   "metadata": {},
   "outputs": [
    {
     "name": "stdout",
     "output_type": "stream",
     "text": [
      "[9, 'mike', (1+2j)]\n"
     ]
    }
   ],
   "source": [
    "print(i2)"
   ]
  },
  {
   "cell_type": "code",
   "execution_count": 55,
   "id": "ab7eb797-784b-4635-893e-210a3fa16c3e",
   "metadata": {},
   "outputs": [
    {
     "name": "stdout",
     "output_type": "stream",
     "text": [
      "m\n",
      "i\n",
      "k\n"
     ]
    }
   ],
   "source": [
    "print(i2[1][0])\n",
    "print(i2[1][1])\n",
    "print(i2[1][2])"
   ]
  },
  {
   "cell_type": "code",
   "execution_count": 58,
   "id": "ceba2aad-79b6-4ce4-8552-dd0c2012b82c",
   "metadata": {},
   "outputs": [
    {
     "data": {
      "text/plain": [
       "[9, 'mike', (1+2j)]"
      ]
     },
     "execution_count": 58,
     "metadata": {},
     "output_type": "execute_result"
    }
   ],
   "source": [
    "i2[:]"
   ]
  },
  {
   "cell_type": "code",
   "execution_count": 60,
   "id": "519afd59-50d7-42a5-bbf3-8eac162ee010",
   "metadata": {},
   "outputs": [
    {
     "data": {
      "text/plain": [
       "[9, 'mike', (1+2j)]"
      ]
     },
     "execution_count": 60,
     "metadata": {},
     "output_type": "execute_result"
    }
   ],
   "source": [
    "i2[:10]"
   ]
  },
  {
   "cell_type": "code",
   "execution_count": 61,
   "id": "88ff5931-e66b-4b65-8042-60ceb242bd99",
   "metadata": {},
   "outputs": [],
   "source": [
    "i.insert(4,15)\n"
   ]
  },
  {
   "cell_type": "code",
   "execution_count": 62,
   "id": "81bb8e63-4076-492c-bee6-b18e855b6719",
   "metadata": {},
   "outputs": [
    {
     "data": {
      "text/plain": [
       "[400, 30, 30, 40, 15, 50, -45, 300]"
      ]
     },
     "execution_count": 62,
     "metadata": {},
     "output_type": "execute_result"
    }
   ],
   "source": [
    "i"
   ]
  },
  {
   "cell_type": "code",
   "execution_count": 63,
   "id": "dff507ac-c87e-448d-b5b1-4c111b460ce0",
   "metadata": {},
   "outputs": [
    {
     "data": {
      "text/plain": [
       "300"
      ]
     },
     "execution_count": 63,
     "metadata": {},
     "output_type": "execute_result"
    }
   ],
   "source": [
    "i.pop()"
   ]
  },
  {
   "cell_type": "code",
   "execution_count": 64,
   "id": "f5f15d5f-99c9-4c5f-8478-f3848df7a4f0",
   "metadata": {},
   "outputs": [
    {
     "data": {
      "text/plain": [
       "[400, 30, 30, 40, 15, 50, -45]"
      ]
     },
     "execution_count": 64,
     "metadata": {},
     "output_type": "execute_result"
    }
   ],
   "source": [
    "i"
   ]
  },
  {
   "cell_type": "code",
   "execution_count": 66,
   "id": "5e24b69d-9e3a-48dc-9415-b8e497e48074",
   "metadata": {},
   "outputs": [
    {
     "data": {
      "text/plain": [
       "'mike'"
      ]
     },
     "execution_count": 66,
     "metadata": {},
     "output_type": "execute_result"
    }
   ],
   "source": [
    "i2.pop(1)"
   ]
  },
  {
   "cell_type": "code",
   "execution_count": 67,
   "id": "eeff6ccc-fb6d-44e4-980d-4547a10acbdb",
   "metadata": {},
   "outputs": [
    {
     "data": {
      "text/plain": [
       "[9, (1+2j)]"
      ]
     },
     "execution_count": 67,
     "metadata": {},
     "output_type": "execute_result"
    }
   ],
   "source": [
    "i2"
   ]
  },
  {
   "cell_type": "code",
   "execution_count": 68,
   "id": "5a4fd977-cd54-4964-b024-7553c32d41db",
   "metadata": {},
   "outputs": [],
   "source": [
    "i2.remove(9)"
   ]
  },
  {
   "cell_type": "code",
   "execution_count": 69,
   "id": "963a649a-48d8-4cee-9572-17a885123cfc",
   "metadata": {},
   "outputs": [
    {
     "data": {
      "text/plain": [
       "[(1+2j)]"
      ]
     },
     "execution_count": 69,
     "metadata": {},
     "output_type": "execute_result"
    }
   ],
   "source": [
    "i2"
   ]
  },
  {
   "cell_type": "code",
   "execution_count": null,
   "id": "45b484f1-b7ed-4923-98aa-2554fb176aed",
   "metadata": {},
   "outputs": [],
   "source": []
  },
  {
   "cell_type": "code",
   "execution_count": null,
   "id": "b0cc2bbc-c906-4a7c-b7f8-10b65cad866f",
   "metadata": {},
   "outputs": [],
   "source": []
  },
  {
   "cell_type": "code",
   "execution_count": null,
   "id": "a46dbdeb-b88e-41fe-a57c-f60b09776485",
   "metadata": {},
   "outputs": [],
   "source": []
  },
  {
   "cell_type": "code",
   "execution_count": null,
   "id": "521a5e22-5a88-4d88-a493-96ac19a17d58",
   "metadata": {},
   "outputs": [],
   "source": []
  }
 ],
 "metadata": {
  "kernelspec": {
   "display_name": "Python 3 (ipykernel)",
   "language": "python",
   "name": "python3"
  },
  "language_info": {
   "codemirror_mode": {
    "name": "ipython",
    "version": 3
   },
   "file_extension": ".py",
   "mimetype": "text/x-python",
   "name": "python",
   "nbconvert_exporter": "python",
   "pygments_lexer": "ipython3",
   "version": "3.12.7"
  }
 },
 "nbformat": 4,
 "nbformat_minor": 5
}
