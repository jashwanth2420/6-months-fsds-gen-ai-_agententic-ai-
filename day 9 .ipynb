{
 "cells": [
  {
   "cell_type": "code",
   "execution_count": 1,
   "id": "9665a0ca-93ec-42bc-9ef6-858eca4df926",
   "metadata": {},
   "outputs": [
    {
     "data": {
      "text/plain": [
       "'3.12.7 | packaged by Anaconda, Inc. | (main, Oct  4 2024, 13:17:27) [MSC v.1929 64 bit (AMD64)]'"
      ]
     },
     "execution_count": 1,
     "metadata": {},
     "output_type": "execute_result"
    }
   ],
   "source": [
    "import sys\n",
    "sys.version "
   ]
  },
  {
   "cell_type": "markdown",
   "id": "5259bffd-6098-4814-942e-be4135db217f",
   "metadata": {},
   "source": [
    "#list data structures "
   ]
  },
  {
   "cell_type": "code",
   "execution_count": 2,
   "id": "400507ca-ae5f-4c0a-8ab6-9d0f066788ae",
   "metadata": {},
   "outputs": [
    {
     "data": {
      "text/plain": [
       "[]"
      ]
     },
     "execution_count": 2,
     "metadata": {},
     "output_type": "execute_result"
    }
   ],
   "source": [
    "i=[]\n",
    "i"
   ]
  },
  {
   "cell_type": "code",
   "execution_count": 4,
   "id": "5c019c8b-a14b-41ff-973f-1f2a3204a4c4",
   "metadata": {},
   "outputs": [
    {
     "data": {
      "text/plain": [
       "list"
      ]
     },
     "execution_count": 4,
     "metadata": {},
     "output_type": "execute_result"
    }
   ],
   "source": [
    "type (i)"
   ]
  },
  {
   "cell_type": "code",
   "execution_count": 5,
   "id": "0223bc2f-5c6d-4cf1-b2ee-cb92b8445ed6",
   "metadata": {},
   "outputs": [
    {
     "data": {
      "text/plain": [
       "0"
      ]
     },
     "execution_count": 5,
     "metadata": {},
     "output_type": "execute_result"
    }
   ],
   "source": [
    "len(i)"
   ]
  },
  {
   "cell_type": "code",
   "execution_count": 6,
   "id": "96c6d220-b3ca-4b89-ad21-35e5dfabc92b",
   "metadata": {},
   "outputs": [],
   "source": [
    "i.append(10)"
   ]
  },
  {
   "cell_type": "code",
   "execution_count": 7,
   "id": "15779edc-6c86-47bc-b0ae-7040d3b115c3",
   "metadata": {},
   "outputs": [
    {
     "data": {
      "text/plain": [
       "[10]"
      ]
     },
     "execution_count": 7,
     "metadata": {},
     "output_type": "execute_result"
    }
   ],
   "source": [
    "i"
   ]
  },
  {
   "cell_type": "code",
   "execution_count": 10,
   "id": "cb20fda8-f919-4bca-9f47-2ec5976443d6",
   "metadata": {},
   "outputs": [],
   "source": [
    "i.append(30)\n",
    "i.append (40)\n",
    "i.append(50)\n",
    "i.append(100)"
   ]
  },
  {
   "cell_type": "code",
   "execution_count": 11,
   "id": "6a73a58b-ef70-42a7-b9d9-56ca789b9202",
   "metadata": {},
   "outputs": [
    {
     "data": {
      "text/plain": [
       "[10, 30, 30, 40, 50, 100]"
      ]
     },
     "execution_count": 11,
     "metadata": {},
     "output_type": "execute_result"
    }
   ],
   "source": [
    "i"
   ]
  },
  {
   "cell_type": "code",
   "execution_count": 12,
   "id": "916f93bf-12c4-47df-a998-3c57d0a29c8f",
   "metadata": {},
   "outputs": [],
   "source": [
    "i.append(300)"
   ]
  },
  {
   "cell_type": "code",
   "execution_count": 13,
   "id": "0db7394e-29c3-4655-a0fa-f19e192b69bf",
   "metadata": {},
   "outputs": [
    {
     "data": {
      "text/plain": [
       "[10, 30, 30, 40, 50, 100, 300]"
      ]
     },
     "execution_count": 13,
     "metadata": {},
     "output_type": "execute_result"
    }
   ],
   "source": [
    "i"
   ]
  },
  {
   "cell_type": "code",
   "execution_count": null,
   "id": "54330235-d548-43ca-9c87-9805840643c8",
   "metadata": {},
   "outputs": [],
   "source": []
  }
 ],
 "metadata": {
  "kernelspec": {
   "display_name": "Python 3 (ipykernel)",
   "language": "python",
   "name": "python3"
  },
  "language_info": {
   "codemirror_mode": {
    "name": "ipython",
    "version": 3
   },
   "file_extension": ".py",
   "mimetype": "text/x-python",
   "name": "python",
   "nbconvert_exporter": "python",
   "pygments_lexer": "ipython3",
   "version": "3.12.7"
  }
 },
 "nbformat": 4,
 "nbformat_minor": 5
}
